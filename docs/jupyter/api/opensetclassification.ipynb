{
 "cells": [
  {
   "cell_type": "markdown",
   "id": "2a37e4ac",
   "metadata": {
    "id": "2a37e4ac"
   },
   "source": [
    "Classification Under Open Set Conditions\n",
    "==="
   ]
  },
  {
   "cell_type": "markdown",
   "id": "08362bc8",
   "metadata": {
    "id": "08362bc8"
   },
   "source": [
    "Author: Nathan A. Mahynski\n",
    "\n",
    "Date: 2024/09/23\n",
    "\n",
    "Description: Building classifiers that work in the \"open world.\"\n",
    "\n",
    "[![Open In Colab](https://colab.research.google.com/assets/colab-badge.svg)](https://colab.research.google.com/github/mahynski/pychemauth/blob/main/docs/jupyter/api/opensetclassification.ipynb)"
   ]
  },
  {
   "cell_type": "markdown",
   "id": "1bdd7706",
   "metadata": {
    "id": "1bdd7706"
   },
   "source": [
    "Conventional classifiers often assume there exist a finite set of known classes.\n",
    "\n",
    "$$C_{\\rm assumed} = [C_1, C_2, C_3]$$\n",
    "\n",
    "To train such a model, these classes should be sampled (often evenly) in such a way that during testing / deployment the new observations will come from the same distribution as the training samples (IID).  Class balancing and cross-validation are common tools used to handle uncertainty in the latter of these assumptions, however, in the real world there are often many other (possibly infinite number of) classes that are not available at training time which a classifier might encounter when deployed.  \n",
    "\n",
    "$$C_{\\rm reality} = [C_1, C_2, C_3, \\dots)$$\n",
    "\n",
    "This image is from [Scheirer et al., \"Toward Open Set Recognition\" (2012)](https://ieeexplore.ieee.org/abstract/document/6365193) which originally formalized the open set recognition (OSR) problem:\n",
    "\n",
    "<img src=\"https://github.com/mahynski/pychemauth/blob/main/docs/_static/osr_definition.png?raw=1\" style=\"width:500px;\">\n",
    "\n",
    "Note that the \"face verification\" problem is essentially a one-class authentication problem. This \"open set\" of possibilities means that a classifier should be able to recognize the known classes seen during training, but also recognize when a test case is \"none of the above.\"  There are a variety of algorithms designed to do this and related tasks.  Here a few references that summarize some ontologies:\n",
    "\n",
    "1. [Yang et al., Generalized Out-of-Distribution Detection: A Survey](https://arxiv.org/abs/2110.11334)\n",
    "2. [Geng et al., Recent Advances in Open Set Recognition: A Survey](https://ieeexplore.ieee.org/abstract/document/9040673)\n",
    "\n",
    "The OSR task refers to when the model should be able to identify known classes and reject unknown ones.  By some classification schemes, the process of simply rejecting an input as being from an unknown class is referred to as a \"reject\" option.  OSR tasks are closely related to one-class classifiers (OCC) used for authentication purposes.  An OSR-capable model can be constructed by chaining together multiple OCCs, each designed to recognize a single class.  [Soft PLS-DA](../learn/plsda.ipynb) is another example of model capable of handling open-set conditions. Another *ad hoc*, but general, way to handle an OSR task is to combine an outlier detector with a closed set classifier (blue pathway below). Green and red pathways illustrate [\"compliant\" and \"rigorous\"](simca.ipynb#Building-an-Authenticator) OCC training schemes, respectively.  The \"pipeline\" is any composite model, possibly including other preprocessing steps.\n",
    "\n",
    "<img src=\"https://github.com/mahynski/pychemauth/blob/main/docs/_static/osr.png?raw=1\" style=\"width:250px;\">\n",
    "\n",
    "The outlier detector illustrated here determines if a sample is out of distribution (OOD), and sends only those in distribution (ID) to the classifier.  In this way, the outlier detector determines if the input is coming from a \"known\" region of parameter space which the classifier should be responsible for.  If not, the input is simply assigned to an \"unknown\" class.  Otherwise, the closed-set classifier is assumed to be responsible for identifying the input as one of its known classes.  The outlier detector itself may use a variety of different assumptions depending on which detector is used, as may the classifier, but this combination method is very general and can be applied with different sorts of outlier detectors and classification models.\n",
    "\n",
    "An input point can shift from ID to OOD in two ways:\n",
    "\n",
    "1. The first is by [semantic shift](https://openreview.net/pdf?id=3AWGg4CySNh#:~:text=Intuitively%2C%20covariate%20shift%20represents%20non,i.e%2C%20inter%2Dclass%20variation.); this occurs when a new, previously unknown, class appears.  For example, an new animal the model did not see during training.  \n",
    "\n",
    "2. The other is by [covariate shift](https://openreview.net/pdf?id=3AWGg4CySNh#:~:text=Intuitively%2C%20covariate%20shift%20represents%20non,i.e%2C%20inter%2Dclass%20variation.); this occurs when variance in a known class increases, usually due to a new \"type\" of that class.  For example, if we trained a model to recognize cats vs. dogs using high resolution images, but at test time a hand-drawn image of a dog is submitted.\n",
    "\n",
    "The above workflow will (try) to catch both, though the main application lies in detecting semantic shifts since we typically attempt to build datasets that have representative examples of all sorts of the known classes.  Thus, we try to control covariate shift by carefully preparing the training data; this is, of course, imperfect and not always possible.\n",
    "\n",
    "We have implemented a basic `OpenSetClassifier` model in PyChemAuth which we illustrate for a variety of different conditions below. Depending on the classification model being used the performance metric may vary.  \n",
    "\n",
    "The `OpenSetClassifier` works as follows:\n",
    "1. Select known classes to use from training data (typically all that are available).\n",
    "2. Send knowns to outlier detector (OD) to train it.\n",
    "3. Use fitted OD to predict inliers on training data.\n",
    "4. Send inlying, known class examples to classifier to train on.\n",
    "\n",
    "During test time, new samples are first given to the OD; if considered an inlier, then the classifier is called to identify the sample, otherwise it is labeled as \"unknown\".\n",
    "\n",
    "Note that if the underlying classification model is capable of detecting outliers (or rejecting acceptance, as in OCC) we should be able to combine those (1) rejected because the test sample belongs to an known alternative (\"known unknown\") with those (2) rejected because they are from an unknown alternative class (\"unknown unknown\") to compute performance metrics.  Sometimes it is useful to avoid this to identify why a sample was rejected (by the model or the outlier detector?).  Examples of this are illustrated below.\n",
    "\n",
    "There are many classification models available in both PyChemAuth and [scikit-learn](https://scikit-learn.org/stable/index.html); the latter also offers various [outlier detection routines](https://scikit-learn.org/stable/modules/outlier_detection.html), but there are many more available in compatbile libraries such as [pyOD](https://pyod.readthedocs.io/en/latest/)."
   ]
  },
  {
   "cell_type": "code",
   "execution_count": 1,
   "id": "34be19e0",
   "metadata": {
    "ExecuteTime": {
     "end_time": "2024-09-24T17:28:05.768160Z",
     "start_time": "2024-09-24T17:28:05.753313Z"
    },
    "id": "34be19e0"
   },
   "outputs": [],
   "source": [
    "if 'google.colab' in str(get_ipython()):\n",
    "    !pip install git+https://github.com/mahynski/pychemauth@main\n",
    "    import os\n",
    "    os.kill(os.getpid(), 9) # Automatically restart the runtime to reload libraries"
   ]
  },
  {
   "cell_type": "code",
   "execution_count": 2,
   "id": "44b2b90c",
   "metadata": {
    "ExecuteTime": {
     "end_time": "2024-09-24T17:28:07.998767Z",
     "start_time": "2024-09-24T17:28:05.781550Z"
    },
    "id": "44b2b90c"
   },
   "outputs": [],
   "source": [
    "try:\n",
    "    import pychemauth\n",
    "except:\n",
    "    raise ImportError(\"pychemauth not installed\")\n",
    "\n",
    "import matplotlib.pyplot as plt\n",
    "%matplotlib inline\n",
    "\n",
    "import watermark\n",
    "%load_ext watermark\n",
    "\n",
    "%load_ext autoreload\n",
    "%autoreload 2"
   ]
  },
  {
   "cell_type": "code",
   "execution_count": 3,
   "id": "25386e38",
   "metadata": {
    "ExecuteTime": {
     "end_time": "2024-09-24T17:28:34.111448Z",
     "start_time": "2024-09-24T17:28:08.009409Z"
    },
    "id": "25386e38"
   },
   "outputs": [
    {
     "name": "stderr",
     "output_type": "stream",
     "text": [
      "2024-09-24 13:28:15.729274: I tensorflow/core/platform/cpu_feature_guard.cc:182] This TensorFlow binary is optimized to use available CPU instructions in performance-critical operations.\n",
      "To enable the following instructions: AVX2 FMA, in other operations, rebuild TensorFlow with the appropriate compiler flags.\n"
     ]
    }
   ],
   "source": [
    "import sklearn\n",
    "import imblearn\n",
    "import copy\n",
    "\n",
    "import numpy as np\n",
    "\n",
    "from pychemauth.classifier.osr import OpenSetClassifier\n",
    "from pychemauth.classifier.plsda import PLSDA\n",
    "from pychemauth.manifold.elliptic import EllipticManifold_Model\n",
    "from pychemauth.classifier import osr\n",
    "from pychemauth.classifier.simca import SIMCA_Authenticator\n",
    "from pychemauth.datasets import make_pgaa_images\n",
    "from pychemauth import utils\n",
    "\n",
    "from pyts.image import GramianAngularField\n",
    "\n",
    "from sklearn.ensemble import IsolationForest, RandomForestClassifier\n",
    "from sklearn.model_selection import GridSearchCV"
   ]
  },
  {
   "cell_type": "code",
   "execution_count": 4,
   "id": "946ae9ec",
   "metadata": {
    "ExecuteTime": {
     "end_time": "2024-09-24T17:28:34.294108Z",
     "start_time": "2024-09-24T17:28:34.121985Z"
    },
    "colab": {
     "base_uri": "https://localhost:8080/"
    },
    "id": "946ae9ec",
    "outputId": "095dd3a1-8721-4296-c358-544571909284"
   },
   "outputs": [
    {
     "name": "stdout",
     "output_type": "stream",
     "text": [
      "Python implementation: CPython\n",
      "Python version       : 3.11.4\n",
      "IPython version      : 8.14.0\n",
      "\n",
      "Compiler    : GCC 12.2.0\n",
      "OS          : Linux\n",
      "Release     : 6.5.0-45-generic\n",
      "Machine     : x86_64\n",
      "Processor   : x86_64\n",
      "CPU cores   : 40\n",
      "Architecture: 64bit\n",
      "\n",
      "matplotlib: 3.7.2\n",
      "watermark : 2.4.3\n",
      "sklearn   : 1.3.0\n",
      "pychemauth: 0.0.0b4\n",
      "numpy     : 1.26.4\n",
      "imblearn  : 0.11.0\n",
      "\n"
     ]
    }
   ],
   "source": [
    "%watermark -t -m -v --iversions"
   ]
  },
  {
   "cell_type": "markdown",
   "id": "d284e1cb",
   "metadata": {
    "id": "d284e1cb"
   },
   "source": [
    "Load Example Data\n",
    "---"
   ]
  },
  {
   "cell_type": "code",
   "execution_count": 5,
   "id": "2a944dd9",
   "metadata": {
    "ExecuteTime": {
     "end_time": "2024-09-23T20:18:56.960011Z",
     "start_time": "2024-09-23T20:18:56.079257Z"
    },
    "colab": {
     "base_uri": "https://localhost:8080/",
     "height": 206
    },
    "id": "2a944dd9",
    "outputId": "511145eb-f4df-423d-a457-1ddd68a85803"
   },
   "outputs": [
    {
     "data": {
      "text/html": [
       "<div>\n",
       "<style scoped>\n",
       "    .dataframe tbody tr th:only-of-type {\n",
       "        vertical-align: middle;\n",
       "    }\n",
       "\n",
       "    .dataframe tbody tr th {\n",
       "        vertical-align: top;\n",
       "    }\n",
       "\n",
       "    .dataframe thead th {\n",
       "        text-align: right;\n",
       "    }\n",
       "</style>\n",
       "<table border=\"1\" class=\"dataframe\">\n",
       "  <thead>\n",
       "    <tr style=\"text-align: right;\">\n",
       "      <th></th>\n",
       "      <th>sepal length (cm)</th>\n",
       "      <th>sepal width (cm)</th>\n",
       "      <th>petal length (cm)</th>\n",
       "      <th>petal width (cm)</th>\n",
       "    </tr>\n",
       "  </thead>\n",
       "  <tbody>\n",
       "    <tr>\n",
       "      <th>0</th>\n",
       "      <td>5.1</td>\n",
       "      <td>3.5</td>\n",
       "      <td>1.4</td>\n",
       "      <td>0.2</td>\n",
       "    </tr>\n",
       "    <tr>\n",
       "      <th>1</th>\n",
       "      <td>4.9</td>\n",
       "      <td>3.0</td>\n",
       "      <td>1.4</td>\n",
       "      <td>0.2</td>\n",
       "    </tr>\n",
       "    <tr>\n",
       "      <th>2</th>\n",
       "      <td>4.7</td>\n",
       "      <td>3.2</td>\n",
       "      <td>1.3</td>\n",
       "      <td>0.2</td>\n",
       "    </tr>\n",
       "    <tr>\n",
       "      <th>3</th>\n",
       "      <td>4.6</td>\n",
       "      <td>3.1</td>\n",
       "      <td>1.5</td>\n",
       "      <td>0.2</td>\n",
       "    </tr>\n",
       "    <tr>\n",
       "      <th>4</th>\n",
       "      <td>5.0</td>\n",
       "      <td>3.6</td>\n",
       "      <td>1.4</td>\n",
       "      <td>0.2</td>\n",
       "    </tr>\n",
       "  </tbody>\n",
       "</table>\n",
       "</div>"
      ],
      "text/plain": [
       "   sepal length (cm)  sepal width (cm)  petal length (cm)  petal width (cm)\n",
       "0                5.1               3.5                1.4               0.2\n",
       "1                4.9               3.0                1.4               0.2\n",
       "2                4.7               3.2                1.3               0.2\n",
       "3                4.6               3.1                1.5               0.2\n",
       "4                5.0               3.6                1.4               0.2"
      ]
     },
     "execution_count": 5,
     "metadata": {},
     "output_type": "execute_result"
    }
   ],
   "source": [
    "from sklearn.datasets import load_iris as load_data\n",
    "X, y = load_data(return_X_y=True, as_frame=True)\n",
    "\n",
    "# Let's turn the indices into names\n",
    "names = dict(zip(np.arange(3), ['setosa', 'versicolor', 'virginica']))\n",
    "y = y.apply(lambda x: names[x])\n",
    "\n",
    "X.head()"
   ]
  },
  {
   "cell_type": "code",
   "execution_count": 6,
   "id": "8c4428ca",
   "metadata": {
    "ExecuteTime": {
     "end_time": "2024-09-23T20:18:57.028552Z",
     "start_time": "2024-09-23T20:18:56.965176Z"
    },
    "id": "8c4428ca"
   },
   "outputs": [],
   "source": [
    "from sklearn.model_selection import train_test_split\n",
    "\n",
    "X_train, X_test, y_train, y_test = train_test_split(\n",
    "    X.values,\n",
    "    y.values,\n",
    "    shuffle=True,\n",
    "    random_state=42,\n",
    "    test_size=0.2,\n",
    "    stratify=y # It is usually important to balance the test and train set so they have the same fraction of classes\n",
    ")"
   ]
  },
  {
   "cell_type": "code",
   "execution_count": 7,
   "id": "4b908786",
   "metadata": {
    "ExecuteTime": {
     "end_time": "2024-09-23T20:18:57.296521Z",
     "start_time": "2024-09-23T20:18:57.032814Z"
    },
    "colab": {
     "base_uri": "https://localhost:8080/",
     "height": 449
    },
    "id": "4b908786",
    "outputId": "9f946a02-cf33-4297-df9d-3c57d01f40bb"
   },
   "outputs": [
    {
     "data": {
      "image/png": "[encoded data removed]",
      "text/plain": [
       "<Figure size 640x480 with 1 Axes>"
      ]
     },
     "metadata": {},
     "output_type": "display_data"
    }
   ],
   "source": [
    "for class_ in ['setosa', 'versicolor', 'virginica']:\n",
    "    mask = y_train == class_\n",
    "    plt.plot(X_train[mask][:,2], X_train[mask][:,3], 'o', label=class_)\n",
    "plt.xlabel('Column 3 (petal length)')\n",
    "plt.ylabel('Column 4 (petal width)')\n",
    "_ = plt.legend(loc='best')"
   ]
  },
  {
   "cell_type": "markdown",
   "id": "d42c8401",
   "metadata": {
    "id": "d42c8401"
   },
   "source": [
    "# Case 1: Multiclass Hard Model\n",
    "\n",
    "Hard models divide the input / latent space into disjoint regions for each known class.  By adding an outlier detector (OD), we can effectively turn this discriminator into a class model that uses OD to create finite regions of space in which we should expect the hard model to work correctly."
   ]
  },
  {
   "cell_type": "markdown",
   "id": "4e71a747",
   "metadata": {
    "id": "4e71a747"
   },
   "source": [
    "Recall from [our example using PLS-DA](plsda.ipynb), that hard PLS-DA with 3 components (and other hyperparamters below) has a 2D space which can divide the three iris flowers reasonably well.  Here, let's just train with 2 classes to emulate the case where we have an incomplete knowledge of all possible flowers."
   ]
  },
  {
   "cell_type": "code",
   "execution_count": 8,
   "id": "e4411b4c",
   "metadata": {
    "ExecuteTime": {
     "end_time": "2024-09-23T20:18:57.390228Z",
     "start_time": "2024-09-23T20:18:57.349607Z"
    },
    "id": "e4411b4c"
   },
   "outputs": [],
   "source": [
    "# Leave out versicolor on purpose\n",
    "X_train_ = X_train[y_train != 'versicolor']\n",
    "y_train_ = y_train[y_train != 'versicolor']"
   ]
  },
  {
   "cell_type": "markdown",
   "id": "a4a20036",
   "metadata": {
    "id": "a4a20036"
   },
   "source": [
    "## Case 1a: Using a Flexible Outlier Detector\n",
    "\n",
    "Here we will use an [isolation forest](https://scikit-learn.org/stable/modules/generated/sklearn.ensemble.IsolationForest.html#sklearn.ensemble.IsolationForest) to detect outliers.  The advantage of this model is that it does not make assumptions about the underlying distribution of the data.  This is important if the data is **multimodal** (for example, if you have multiple classes and each has a different center) so for multiclass problems this is recommended.  See [this example](https://scikit-learn.org/stable/auto_examples/ensemble/plot_isolation_forest.html#sphx-glr-auto-examples-ensemble-plot-isolation-forest-py) for an illustration of how isolation forest works.\n",
    "\n",
    "The main assumption with an isolation forest is that there are dense cluster(s) of data which determine where \"inliers\" should be located.  This is a reasonable assumption for many chemometric authentication problems."
   ]
  },
  {
   "cell_type": "code",
   "execution_count": 9,
   "id": "a743d1de",
   "metadata": {
    "ExecuteTime": {
     "end_time": "2024-09-23T20:18:57.436979Z",
     "start_time": "2024-09-23T20:18:57.393957Z"
    },
    "id": "a743d1de"
   },
   "outputs": [],
   "source": [
    "osc = OpenSetClassifier(\n",
    "    clf_model=PLSDA,\n",
    "    clf_kwargs={\n",
    "        'n_components':3,\n",
    "        'alpha':0.05,\n",
    "        'gamma':0.01,\n",
    "        'style':\"hard\",\n",
    "        'scale_x':True,\n",
    "    },\n",
    "    outlier_model=IsolationForest,\n",
    "    outlier_kwargs={\n",
    "        'n_estimators':100,\n",
    "        'max_samples':1.0,\n",
    "        'contamination': 0.15, # In practice, this is very important to tune correctly\n",
    "        'max_features':1.0,\n",
    "        'bootstrap':True,\n",
    "        'random_state':42,\n",
    "    },\n",
    "    score_metric='TEFF',\n",
    "    clf_style='hard',\n",
    "    unknown_class=\"UNKNOWN FLOWER\",\n",
    ")"
   ]
  },
  {
   "cell_type": "code",
   "execution_count": 10,
   "id": "9ef8a796",
   "metadata": {
    "ExecuteTime": {
     "end_time": "2024-09-23T20:18:57.842800Z",
     "start_time": "2024-09-23T20:18:57.440917Z"
    },
    "colab": {
     "base_uri": "https://localhost:8080/",
     "height": 196
    },
    "id": "9ef8a796",
    "outputId": "35dbe2ad-c14a-40b2-8112-5977b07a16e2"
   },
   "outputs": [
    {
     "data": {
      "text/html": [
       "<style>#sk-container-id-1 {color: black;}#sk-container-id-1 pre{padding: 0;}#sk-container-id-1 div.sk-toggleable {background-color: white;}#sk-container-id-1 label.sk-toggleable__label {cursor: pointer;display: block;width: 100%;margin-bottom: 0;padding: 0.3em;box-sizing: border-box;text-align: center;}#sk-container-id-1 label.sk-toggleable__label-arrow:before {content: \"▸\";float: left;margin-right: 0.25em;color: #696969;}#sk-container-id-1 label.sk-toggleable__label-arrow:hover:before {color: black;}#sk-container-id-1 div.sk-estimator:hover label.sk-toggleable__label-arrow:before {color: black;}#sk-container-id-1 div.sk-toggleable__content {max-height: 0;max-width: 0;overflow: hidden;text-align: left;background-color: #f0f8ff;}#sk-container-id-1 div.sk-toggleable__content pre {margin: 0.2em;color: black;border-radius: 0.25em;background-color: #f0f8ff;}#sk-container-id-1 input.sk-toggleable__control:checked~div.sk-toggleable__content {max-height: 200px;max-width: 100%;overflow: auto;}#sk-container-id-1 input.sk-toggleable__control:checked~label.sk-toggleable__label-arrow:before {content: \"▾\";}#sk-container-id-1 div.sk-estimator input.sk-toggleable__control:checked~label.sk-toggleable__label {background-color: #d4ebff;}#sk-container-id-1 div.sk-label input.sk-toggleable__control:checked~label.sk-toggleable__label {background-color: #d4ebff;}#sk-container-id-1 input.sk-hidden--visually {border: 0;clip: rect(1px 1px 1px 1px);clip: rect(1px, 1px, 1px, 1px);height: 1px;margin: -1px;overflow: hidden;padding: 0;position: absolute;width: 1px;}#sk-container-id-1 div.sk-estimator {font-family: monospace;background-color: #f0f8ff;border: 1px dotted black;border-radius: 0.25em;box-sizing: border-box;margin-bottom: 0.5em;}#sk-container-id-1 div.sk-estimator:hover {background-color: #d4ebff;}#sk-container-id-1 div.sk-parallel-item::after {content: \"\";width: 100%;border-bottom: 1px solid gray;flex-grow: 1;}#sk-container-id-1 div.sk-label:hover label.sk-toggleable__label {background-color: #d4ebff;}#sk-container-id-1 div.sk-serial::before {content: \"\";position: absolute;border-left: 1px solid gray;box-sizing: border-box;top: 0;bottom: 0;left: 50%;z-index: 0;}#sk-container-id-1 div.sk-serial {display: flex;flex-direction: column;align-items: center;background-color: white;padding-right: 0.2em;padding-left: 0.2em;position: relative;}#sk-container-id-1 div.sk-item {position: relative;z-index: 1;}#sk-container-id-1 div.sk-parallel {display: flex;align-items: stretch;justify-content: center;background-color: white;position: relative;}#sk-container-id-1 div.sk-item::before, #sk-container-id-1 div.sk-parallel-item::before {content: \"\";position: absolute;border-left: 1px solid gray;box-sizing: border-box;top: 0;bottom: 0;left: 50%;z-index: -1;}#sk-container-id-1 div.sk-parallel-item {display: flex;flex-direction: column;z-index: 1;position: relative;background-color: white;}#sk-container-id-1 div.sk-parallel-item:first-child::after {align-self: flex-end;width: 50%;}#sk-container-id-1 div.sk-parallel-item:last-child::after {align-self: flex-start;width: 50%;}#sk-container-id-1 div.sk-parallel-item:only-child::after {width: 0;}#sk-container-id-1 div.sk-dashed-wrapped {border: 1px dashed gray;margin: 0 0.4em 0.5em 0.4em;box-sizing: border-box;padding-bottom: 0.4em;background-color: white;}#sk-container-id-1 div.sk-label label {font-family: monospace;font-weight: bold;display: inline-block;line-height: 1.2em;}#sk-container-id-1 div.sk-label-container {text-align: center;}#sk-container-id-1 div.sk-container {/* jupyter's `normalize.less` sets `[hidden] { display: none; }` but bootstrap.min.css set `[hidden] { display: none !important; }` so we also need the `!important` here to be able to override the default hidden behavior on the sphinx rendered scikit-learn.org. See: https://github.com/scikit-learn/scikit-learn/issues/21755 */display: inline-block !important;position: relative;}#sk-container-id-1 div.sk-text-repr-fallback {display: none;}</style><div id=\"sk-container-id-1\" class=\"sk-top-container\"><div class=\"sk-text-repr-fallback\"><pre>OpenSetClassifier(clf_kwargs={&#x27;alpha&#x27;: 0.05, &#x27;gamma&#x27;: 0.01, &#x27;n_components&#x27;: 3,\n",
       "                              &#x27;scale_x&#x27;: True, &#x27;style&#x27;: &#x27;hard&#x27;},\n",
       "                  clf_model=&lt;class &#x27;pychemauth.classifier.plsda.PLSDA&#x27;&gt;,\n",
       "                  outlier_kwargs={&#x27;bootstrap&#x27;: True, &#x27;contamination&#x27;: 0.15,\n",
       "                                  &#x27;max_features&#x27;: 1.0, &#x27;max_samples&#x27;: 1.0,\n",
       "                                  &#x27;n_estimators&#x27;: 100, &#x27;random_state&#x27;: 42},\n",
       "                  outlier_model=&lt;class &#x27;sklearn.ensemble._iforest.IsolationForest&#x27;&gt;,\n",
       "                  unknown_class=&#x27;UNKNOWN FLOWER&#x27;)</pre><b>In a Jupyter environment, please rerun this cell to show the HTML representation or trust the notebook. <br />On GitHub, the HTML representation is unable to render, please try loading this page with nbviewer.org.</b></div><div class=\"sk-container\" hidden><div class=\"sk-item\"><div class=\"sk-estimator sk-toggleable\"><input class=\"sk-toggleable__control sk-hidden--visually\" id=\"sk-estimator-id-1\" type=\"checkbox\" checked><label for=\"sk-estimator-id-1\" class=\"sk-toggleable__label sk-toggleable__label-arrow\">OpenSetClassifier</label><div class=\"sk-toggleable__content\"><pre>OpenSetClassifier(clf_kwargs={&#x27;alpha&#x27;: 0.05, &#x27;gamma&#x27;: 0.01, &#x27;n_components&#x27;: 3,\n",
       "                              &#x27;scale_x&#x27;: True, &#x27;style&#x27;: &#x27;hard&#x27;},\n",
       "                  clf_model=&lt;class &#x27;pychemauth.classifier.plsda.PLSDA&#x27;&gt;,\n",
       "                  outlier_kwargs={&#x27;bootstrap&#x27;: True, &#x27;contamination&#x27;: 0.15,\n",
       "                                  &#x27;max_features&#x27;: 1.0, &#x27;max_samples&#x27;: 1.0,\n",
       "                                  &#x27;n_estimators&#x27;: 100, &#x27;random_state&#x27;: 42},\n",
       "                  outlier_model=&lt;class &#x27;sklearn.ensemble._iforest.IsolationForest&#x27;&gt;,\n",
       "                  unknown_class=&#x27;UNKNOWN FLOWER&#x27;)</pre></div></div></div></div></div>"
      ],
      "text/plain": [
       "OpenSetClassifier(clf_kwargs={'alpha': 0.05, 'gamma': 0.01, 'n_components': 3,\n",
       "                              'scale_x': True, 'style': 'hard'},\n",
       "                  clf_model=<class 'pychemauth.classifier.plsda.PLSDA'>,\n",
       "                  outlier_kwargs={'bootstrap': True, 'contamination': 0.15,\n",
       "                                  'max_features': 1.0, 'max_samples': 1.0,\n",
       "                                  'n_estimators': 100, 'random_state': 42},\n",
       "                  outlier_model=<class 'sklearn.ensemble._iforest.IsolationForest'>,\n",
       "                  unknown_class='UNKNOWN FLOWER')"
      ]
     },
     "execution_count": 10,
     "metadata": {},
     "output_type": "execute_result"
    }
   ],
   "source": [
    "osc.fit(X_train_, y_train_)"
   ]
  },
  {
   "cell_type": "code",
   "execution_count": 11,
   "id": "4e0a3fbb",
   "metadata": {
    "ExecuteTime": {
     "end_time": "2024-09-23T20:18:57.946584Z",
     "start_time": "2024-09-23T20:18:57.846102Z"
    },
    "colab": {
     "base_uri": "https://localhost:8080/"
    },
    "id": "4e0a3fbb",
    "outputId": "eaeee6fd-e0a3-4d19-92f3-d30f2e012d02"
   },
   "outputs": [
    {
     "data": {
      "text/plain": [
       "['setosa',\n",
       " 'UNKNOWN FLOWER',\n",
       " 'setosa',\n",
       " 'virginica',\n",
       " 'virginica',\n",
       " 'virginica',\n",
       " 'UNKNOWN FLOWER',\n",
       " 'virginica',\n",
       " 'setosa',\n",
       " 'setosa']"
      ]
     },
     "execution_count": 11,
     "metadata": {},
     "output_type": "execute_result"
    }
   ],
   "source": [
    "osc.predict(X_train_)[:10]"
   ]
  },
  {
   "cell_type": "code",
   "execution_count": 12,
   "id": "a23001ad",
   "metadata": {
    "ExecuteTime": {
     "end_time": "2024-09-23T20:18:58.027536Z",
     "start_time": "2024-09-23T20:18:57.949294Z"
    },
    "id": "a23001ad"
   },
   "outputs": [],
   "source": [
    "res = osc.figures_of_merit(osc.predict(X_train_), y_train_)"
   ]
  },
  {
   "cell_type": "code",
   "execution_count": 13,
   "id": "9d18d114",
   "metadata": {
    "ExecuteTime": {
     "end_time": "2024-09-23T20:18:58.088400Z",
     "start_time": "2024-09-23T20:18:58.029444Z"
    },
    "colab": {
     "base_uri": "https://localhost:8080/"
    },
    "id": "9d18d114",
    "outputId": "7af90ee3-41fd-4e50-99cf-89a3975eadc2"
   },
   "outputs": [
    {
     "data": {
      "text/plain": [
       "0.9219544457292888"
      ]
     },
     "execution_count": 13,
     "metadata": {},
     "output_type": "execute_result"
    }
   ],
   "source": [
    "osc.score(X_train_, y_train_)"
   ]
  },
  {
   "cell_type": "code",
   "execution_count": 14,
   "id": "1fc4cc72",
   "metadata": {
    "ExecuteTime": {
     "end_time": "2024-09-23T20:18:58.154827Z",
     "start_time": "2024-09-23T20:18:58.090199Z"
    },
    "colab": {
     "base_uri": "https://localhost:8080/"
    },
    "id": "1fc4cc72",
    "outputId": "c19fadc9-d460-46e7-8a62-6b1b08a5769f"
   },
   "outputs": [
    {
     "data": {
      "text/plain": [
       "0.9219544457292888"
      ]
     },
     "execution_count": 14,
     "metadata": {},
     "output_type": "execute_result"
    }
   ],
   "source": [
    "res['TEFF']"
   ]
  },
  {
   "cell_type": "code",
   "execution_count": 15,
   "id": "4b3e865d",
   "metadata": {
    "ExecuteTime": {
     "end_time": "2024-09-23T20:18:58.243081Z",
     "start_time": "2024-09-23T20:18:58.156297Z"
    },
    "colab": {
     "base_uri": "https://localhost:8080/",
     "height": 112
    },
    "id": "4b3e865d",
    "outputId": "e0d4507b-0ecf-4814-e8e2-9b1c9eadef4b"
   },
   "outputs": [
    {
     "data": {
      "text/html": [
       "<div>\n",
       "<style scoped>\n",
       "    .dataframe tbody tr th:only-of-type {\n",
       "        vertical-align: middle;\n",
       "    }\n",
       "\n",
       "    .dataframe tbody tr th {\n",
       "        vertical-align: top;\n",
       "    }\n",
       "\n",
       "    .dataframe thead th {\n",
       "        text-align: right;\n",
       "    }\n",
       "</style>\n",
       "<table border=\"1\" class=\"dataframe\">\n",
       "  <thead>\n",
       "    <tr style=\"text-align: right;\">\n",
       "      <th></th>\n",
       "      <th>setosa</th>\n",
       "      <th>virginica</th>\n",
       "      <th>UNKNOWN FLOWER</th>\n",
       "    </tr>\n",
       "  </thead>\n",
       "  <tbody>\n",
       "    <tr>\n",
       "      <th>setosa</th>\n",
       "      <td>35</td>\n",
       "      <td>0</td>\n",
       "      <td>5</td>\n",
       "    </tr>\n",
       "    <tr>\n",
       "      <th>virginica</th>\n",
       "      <td>0</td>\n",
       "      <td>33</td>\n",
       "      <td>7</td>\n",
       "    </tr>\n",
       "  </tbody>\n",
       "</table>\n",
       "</div>"
      ],
      "text/plain": [
       "           setosa  virginica  UNKNOWN FLOWER\n",
       "setosa         35          0               5\n",
       "virginica       0         33               7"
      ]
     },
     "execution_count": 15,
     "metadata": {},
     "output_type": "execute_result"
    }
   ],
   "source": [
    "res['CM']"
   ]
  },
  {
   "cell_type": "code",
   "execution_count": 16,
   "id": "m1G_wHD4xD1W",
   "metadata": {
    "ExecuteTime": {
     "end_time": "2024-09-23T20:18:58.313899Z",
     "start_time": "2024-09-23T20:18:58.245533Z"
    },
    "colab": {
     "base_uri": "https://localhost:8080/"
    },
    "id": "m1G_wHD4xD1W",
    "outputId": "95dcd13a-7364-448f-ae12-f94d085365dd"
   },
   "outputs": [
    {
     "data": {
      "text/plain": [
       "0.15"
      ]
     },
     "execution_count": 16,
     "metadata": {},
     "output_type": "execute_result"
    }
   ],
   "source": [
    "# The isolation forest tuned itself to find this fraction of unknowns.\n",
    "res['CM']['UNKNOWN FLOWER'].sum() / (40 + 40)"
   ]
  },
  {
   "cell_type": "code",
   "execution_count": 17,
   "id": "6c15f4c4",
   "metadata": {
    "ExecuteTime": {
     "end_time": "2024-09-23T20:18:58.566096Z",
     "start_time": "2024-09-23T20:18:58.316030Z"
    },
    "colab": {
     "base_uri": "https://localhost:8080/",
     "height": 449
    },
    "id": "6c15f4c4",
    "outputId": "f136857b-13f6-41c1-9630-2e8a404aac8b"
   },
   "outputs": [
    {
     "data": {
      "image/png": "[encoded data removed]",
      "text/plain": [
       "<Figure size 640x480 with 1 Axes>"
      ]
     },
     "metadata": {},
     "output_type": "display_data"
    }
   ],
   "source": [
    "# The underlying hard model only recognizes setosa and virginica\n",
    "_ = osc.fitted_classification_model.visualize(styles=['hard'])"
   ]
  },
  {
   "cell_type": "code",
   "execution_count": 18,
   "id": "c9ea1528",
   "metadata": {
    "ExecuteTime": {
     "end_time": "2024-09-23T20:18:58.625643Z",
     "start_time": "2024-09-23T20:18:58.568283Z"
    },
    "colab": {
     "base_uri": "https://localhost:8080/"
    },
    "id": "c9ea1528",
    "outputId": "eb970a46-ff86-4062-cdac-6e55e64ac34e"
   },
   "outputs": [
    {
     "name": "stdout",
     "output_type": "stream",
     "text": [
      "Inlier?\tPrediction\tActual\n",
      "------------------------------\n",
      "1 \t setosa \t setosa\n",
      "-1 \t virginica \t virginica\n",
      "1 \t setosa \t setosa\n",
      "1 \t virginica \t virginica\n",
      "1 \t virginica \t virginica\n",
      "1 \t virginica \t virginica\n",
      "-1 \t virginica \t virginica\n",
      "1 \t virginica \t virginica\n",
      "1 \t setosa \t setosa\n",
      "1 \t setosa \t setosa\n"
     ]
    }
   ],
   "source": [
    "# And it can only predict membership to setosa and virginica\n",
    "\n",
    "print('Inlier?\\tPrediction\\tActual')\n",
    "print('------------------------------')\n",
    "for inlier, pred, act in zip(\n",
    "    osc.fitted_outlier_model.predict(X_train_)[:10],\n",
    "    osc.fitted_classification_model.predict(X_train_)[:10],\n",
    "    y_train_[:10]\n",
    "):\n",
    "    print(inlier, '\\t', pred, '\\t', act)"
   ]
  },
  {
   "cell_type": "code",
   "execution_count": 19,
   "id": "2986d336",
   "metadata": {
    "ExecuteTime": {
     "end_time": "2024-09-23T20:18:58.815907Z",
     "start_time": "2024-09-23T20:18:58.627651Z"
    },
    "colab": {
     "base_uri": "https://localhost:8080/",
     "height": 449
    },
    "id": "2986d336",
    "outputId": "174068aa-5be6-4da2-a239-e1f6441d4606"
   },
   "outputs": [
    {
     "data": {
      "image/png": "[encoded data removed]",
      "text/plain": [
       "<Figure size 640x480 with 1 Axes>"
      ]
     },
     "metadata": {},
     "output_type": "display_data"
    }
   ],
   "source": [
    "# Clearly nearly all the intervening versicolor (green) will be classified incorrectly as virginica (orange).\n",
    "\n",
    "fig, ax = plt.subplots(nrows=1, ncols=1)\n",
    "\n",
    "for i, class_ in enumerate(['setosa', 'virginica', 'versicolor']):\n",
    "    mask = y_train == class_\n",
    "\n",
    "    projection = osc.fitted_classification_model.transform(X_train[mask])\n",
    "    ax.plot(projection.ravel(), [i]*projection.shape[0], 'o', label=class_)\n",
    "\n",
    "ax = osc.fitted_classification_model.visualize(styles=['hard'], ax=ax, show_training=False)\n",
    "_ = ax.legend(loc='best')\n",
    "_ = ax.set_ylim(-1, 3)"
   ]
  },
  {
   "cell_type": "code",
   "execution_count": 20,
   "id": "qxVlB-M84wdT",
   "metadata": {
    "ExecuteTime": {
     "end_time": "2024-09-23T20:18:59.082764Z",
     "start_time": "2024-09-23T20:18:58.817985Z"
    },
    "colab": {
     "base_uri": "https://localhost:8080/",
     "height": 467
    },
    "id": "qxVlB-M84wdT",
    "outputId": "db342ac3-3fd2-4a11-c940-fece614b14f9"
   },
   "outputs": [
    {
     "data": {
      "text/plain": [
       "Text(0, 0.5, 'Column 4 (petal width)')"
      ]
     },
     "execution_count": 20,
     "metadata": {},
     "output_type": "execute_result"
    },
    {
     "data": {
      "image/png": "[encoded data removed]",
      "text/plain": [
       "<Figure size 640x480 with 1 Axes>"
      ]
     },
     "metadata": {},
     "output_type": "display_data"
    }
   ],
   "source": [
    "for i, label in enumerate(['setosa', 'virginica', 'versicolor']):\n",
    "    mask = y_train == label\n",
    "    X_ = X_train[mask]\n",
    "    inlier_ = osc.fitted_outlier_model.predict(X_)\n",
    "\n",
    "    for marker, alpha, value in zip(['*', 'o'], [0.5, 1.0], [-1, +1]):\n",
    "        out_mask = inlier_ == value\n",
    "        plt.plot(X_[out_mask, 2], X_[out_mask, 3], marker=marker, lw=0, alpha=alpha, label=f'{label} {\"inlier\" if value==1 else \"outlier\"}', color=f'C{i}')\n",
    "plt.legend(loc='upper left')\n",
    "plt.xlabel('Column 3 (petal length)')\n",
    "plt.ylabel('Column 4 (petal width)')"
   ]
  },
  {
   "cell_type": "code",
   "execution_count": 21,
   "id": "2f0921be",
   "metadata": {
    "ExecuteTime": {
     "end_time": "2024-09-23T20:18:59.151779Z",
     "start_time": "2024-09-23T20:18:59.084468Z"
    },
    "colab": {
     "base_uri": "https://localhost:8080/",
     "height": 143
    },
    "id": "2f0921be",
    "outputId": "e5d7bc61-f241-4db9-ccc9-753442a8e192"
   },
   "outputs": [
    {
     "data": {
      "text/html": [
       "<div>\n",
       "<style scoped>\n",
       "    .dataframe tbody tr th:only-of-type {\n",
       "        vertical-align: middle;\n",
       "    }\n",
       "\n",
       "    .dataframe tbody tr th {\n",
       "        vertical-align: top;\n",
       "    }\n",
       "\n",
       "    .dataframe thead th {\n",
       "        text-align: right;\n",
       "    }\n",
       "</style>\n",
       "<table border=\"1\" class=\"dataframe\">\n",
       "  <thead>\n",
       "    <tr style=\"text-align: right;\">\n",
       "      <th></th>\n",
       "      <th>setosa</th>\n",
       "      <th>virginica</th>\n",
       "      <th>UNKNOWN FLOWER</th>\n",
       "    </tr>\n",
       "  </thead>\n",
       "  <tbody>\n",
       "    <tr>\n",
       "      <th>setosa</th>\n",
       "      <td>35</td>\n",
       "      <td>0</td>\n",
       "      <td>5</td>\n",
       "    </tr>\n",
       "    <tr>\n",
       "      <th>versicolor</th>\n",
       "      <td>0</td>\n",
       "      <td>3</td>\n",
       "      <td>37</td>\n",
       "    </tr>\n",
       "    <tr>\n",
       "      <th>virginica</th>\n",
       "      <td>0</td>\n",
       "      <td>33</td>\n",
       "      <td>7</td>\n",
       "    </tr>\n",
       "  </tbody>\n",
       "</table>\n",
       "</div>"
      ],
      "text/plain": [
       "            setosa  virginica  UNKNOWN FLOWER\n",
       "setosa          35          0               5\n",
       "versicolor       0          3              37\n",
       "virginica        0         33               7"
      ]
     },
     "execution_count": 21,
     "metadata": {},
     "output_type": "execute_result"
    }
   ],
   "source": [
    "# However, the OSC model is able to identify most of the versicolor samples as being from an unknown class!\n",
    "\n",
    "res = osc.figures_of_merit(osc.predict(X_train), y_train)\n",
    "res['CM']"
   ]
  },
  {
   "cell_type": "markdown",
   "id": "eFaJkwEb60BK",
   "metadata": {
    "id": "eFaJkwEb60BK"
   },
   "source": [
    "---\n",
    "> ❗ If you change the contamination parameter, you can get very different results.  For example, try 0.05 instead of 0.15.\n",
    "---"
   ]
  },
  {
   "cell_type": "markdown",
   "id": "abfb6057",
   "metadata": {
    "id": "abfb6057"
   },
   "source": [
    "## Case 1b: Using an Outlier Detector with Strong Assumptions\n",
    "\n",
    "Here we will use an elliptical manifold to determine if a point is an outlier or inlier.  This is akin to using the robust covariance approach illustrated [here](https://scikit-learn.org/stable/auto_examples/miscellaneous/plot_anomaly_comparison.html#sphx-glr-auto-examples-miscellaneous-plot-anomaly-comparison-py) and assumes that the inlying data is all located inside a single \"ellipse\".  For one-class classification instances, this can be reasonable, but **should be avoided for multiclass problems** since this will draw an ellipse around multiple class centers, possibly overlapping the region \"in between\" which makes the model susceptible to issues if there are alternative classes there.  In this example data, the versicolor class tends to be \"in between\" the other 2 and nicely demonstrates the issue."
   ]
  },
  {
   "cell_type": "code",
   "execution_count": 22,
   "id": "5700cb35",
   "metadata": {
    "ExecuteTime": {
     "end_time": "2024-09-23T20:18:59.422011Z",
     "start_time": "2024-09-23T20:18:59.153615Z"
    },
    "id": "5700cb35"
   },
   "outputs": [],
   "source": [
    "# If we do not provide a dr_model then the EllipticManifold simply fits an ellipse in the original data space.\n",
    "# For this example, let's just use the second 2 columns so that we will be able to plot the results nicely.\n",
    "\n",
    "setosa_virginica = EllipticManifold_Model(\n",
    "    alpha=0.05,\n",
    "    robust=True, # Estimate the covariance matrix for the Mahalanobis distance using a robust approach (MCD)\n",
    "    center='score', # Center the ellipse around the empirical mean of the projected data\n",
    ")\n",
    "\n",
    "_ = setosa_virginica.fit(\n",
    "    X_train_[:, 2:],\n",
    "    [\"INLIERS\"] * np.sum(y_train != 'versicolor')\n",
    ")"
   ]
  },
  {
   "cell_type": "code",
   "execution_count": 23,
   "id": "c2144ac0",
   "metadata": {
    "ExecuteTime": {
     "end_time": "2024-09-23T20:18:59.734741Z",
     "start_time": "2024-09-23T20:18:59.432780Z"
    },
    "colab": {
     "base_uri": "https://localhost:8080/",
     "height": 449
    },
    "id": "c2144ac0",
    "outputId": "1c325279-30b3-47e5-a79e-42e76f5b17ba"
   },
   "outputs": [
    {
     "data": {
      "image/png": "[encoded data removed]",
      "text/plain": [
       "<Figure size 640x480 with 1 Axes>"
      ]
     },
     "metadata": {},
     "output_type": "display_data"
    }
   ],
   "source": [
    "# Clearly, the versicolor falls between the other 2, so this elliptical boundary is not expected to be a good outlier\n",
    "# detector.\n",
    "\n",
    "_ = setosa_virginica.visualize(\n",
    "    [\n",
    "        X_train[y_train == 'setosa'][:, 2:],\n",
    "        X_train[y_train == 'versicolor'][:, 2:],\n",
    "        X_train[y_train == 'virginica'][:, 2:]\n",
    "    ],\n",
    "    ['setosa', 'versicolor', 'virginica']\n",
    ")"
   ]
  },
  {
   "cell_type": "code",
   "execution_count": 24,
   "id": "046b5332",
   "metadata": {
    "ExecuteTime": {
     "end_time": "2024-09-23T20:18:59.795597Z",
     "start_time": "2024-09-23T20:18:59.736802Z"
    },
    "colab": {
     "base_uri": "https://localhost:8080/"
    },
    "id": "046b5332",
    "outputId": "3863e43d-1e24-4bd0-e887-e617f74c5063"
   },
   "outputs": [
    {
     "data": {
      "text/plain": [
       "array([ True,  True,  True,  True,  True, False,  True,  True,  True,\n",
       "        True,  True,  True,  True,  True,  True,  True,  True,  True,\n",
       "        True,  True,  True,  True,  True,  True,  True,  True,  True,\n",
       "        True,  True,  True,  True,  True,  True, False,  True,  True,\n",
       "        True,  True,  True,  True])"
      ]
     },
     "execution_count": 24,
     "metadata": {},
     "output_type": "execute_result"
    }
   ],
   "source": [
    "# Essentially all of the versicolor is considered to be an 'inlier' and will be\n",
    "# sent to the classifier, which has never seen this class before.\n",
    "\n",
    "setosa_virginica.predict(X_train[y_train == 'versicolor', 2:])"
   ]
  },
  {
   "cell_type": "code",
   "execution_count": 25,
   "id": "9f0243d7",
   "metadata": {
    "ExecuteTime": {
     "end_time": "2024-09-23T20:18:59.850973Z",
     "start_time": "2024-09-23T20:18:59.797637Z"
    },
    "id": "9f0243d7"
   },
   "outputs": [],
   "source": [
    "osc = OpenSetClassifier(\n",
    "    clf_model=PLSDA,\n",
    "    clf_kwargs={\n",
    "        'n_components':1,\n",
    "        'alpha':0.05,\n",
    "        'gamma':0.01,\n",
    "        'style':\"hard\",\n",
    "        'scale_x':True,\n",
    "    },\n",
    "    outlier_model=EllipticManifold_Model, # Estimate the covariance matrix for the Mahalanobis distance using a robust approach (MCD)\n",
    "    outlier_kwargs={\n",
    "        'alpha':0.05,\n",
    "        'robust':True,\n",
    "        'center':'score'\n",
    "    },\n",
    "    score_metric='TEFF',\n",
    "    clf_style='hard',\n",
    "    unknown_class=\"UNKNOWN FLOWER\",\n",
    ")"
   ]
  },
  {
   "cell_type": "code",
   "execution_count": 26,
   "id": "0e3354d2",
   "metadata": {
    "ExecuteTime": {
     "end_time": "2024-09-23T20:18:59.992147Z",
     "start_time": "2024-09-23T20:18:59.853091Z"
    },
    "colab": {
     "base_uri": "https://localhost:8080/",
     "height": 179
    },
    "id": "0e3354d2",
    "outputId": "86373d8b-be72-434e-860c-7d524c6dffff"
   },
   "outputs": [
    {
     "data": {
      "text/html": [
       "<style>#sk-container-id-2 {color: black;}#sk-container-id-2 pre{padding: 0;}#sk-container-id-2 div.sk-toggleable {background-color: white;}#sk-container-id-2 label.sk-toggleable__label {cursor: pointer;display: block;width: 100%;margin-bottom: 0;padding: 0.3em;box-sizing: border-box;text-align: center;}#sk-container-id-2 label.sk-toggleable__label-arrow:before {content: \"▸\";float: left;margin-right: 0.25em;color: #696969;}#sk-container-id-2 label.sk-toggleable__label-arrow:hover:before {color: black;}#sk-container-id-2 div.sk-estimator:hover label.sk-toggleable__label-arrow:before {color: black;}#sk-container-id-2 div.sk-toggleable__content {max-height: 0;max-width: 0;overflow: hidden;text-align: left;background-color: #f0f8ff;}#sk-container-id-2 div.sk-toggleable__content pre {margin: 0.2em;color: black;border-radius: 0.25em;background-color: #f0f8ff;}#sk-container-id-2 input.sk-toggleable__control:checked~div.sk-toggleable__content {max-height: 200px;max-width: 100%;overflow: auto;}#sk-container-id-2 input.sk-toggleable__control:checked~label.sk-toggleable__label-arrow:before {content: \"▾\";}#sk-container-id-2 div.sk-estimator input.sk-toggleable__control:checked~label.sk-toggleable__label {background-color: #d4ebff;}#sk-container-id-2 div.sk-label input.sk-toggleable__control:checked~label.sk-toggleable__label {background-color: #d4ebff;}#sk-container-id-2 input.sk-hidden--visually {border: 0;clip: rect(1px 1px 1px 1px);clip: rect(1px, 1px, 1px, 1px);height: 1px;margin: -1px;overflow: hidden;padding: 0;position: absolute;width: 1px;}#sk-container-id-2 div.sk-estimator {font-family: monospace;background-color: #f0f8ff;border: 1px dotted black;border-radius: 0.25em;box-sizing: border-box;margin-bottom: 0.5em;}#sk-container-id-2 div.sk-estimator:hover {background-color: #d4ebff;}#sk-container-id-2 div.sk-parallel-item::after {content: \"\";width: 100%;border-bottom: 1px solid gray;flex-grow: 1;}#sk-container-id-2 div.sk-label:hover label.sk-toggleable__label {background-color: #d4ebff;}#sk-container-id-2 div.sk-serial::before {content: \"\";position: absolute;border-left: 1px solid gray;box-sizing: border-box;top: 0;bottom: 0;left: 50%;z-index: 0;}#sk-container-id-2 div.sk-serial {display: flex;flex-direction: column;align-items: center;background-color: white;padding-right: 0.2em;padding-left: 0.2em;position: relative;}#sk-container-id-2 div.sk-item {position: relative;z-index: 1;}#sk-container-id-2 div.sk-parallel {display: flex;align-items: stretch;justify-content: center;background-color: white;position: relative;}#sk-container-id-2 div.sk-item::before, #sk-container-id-2 div.sk-parallel-item::before {content: \"\";position: absolute;border-left: 1px solid gray;box-sizing: border-box;top: 0;bottom: 0;left: 50%;z-index: -1;}#sk-container-id-2 div.sk-parallel-item {display: flex;flex-direction: column;z-index: 1;position: relative;background-color: white;}#sk-container-id-2 div.sk-parallel-item:first-child::after {align-self: flex-end;width: 50%;}#sk-container-id-2 div.sk-parallel-item:last-child::after {align-self: flex-start;width: 50%;}#sk-container-id-2 div.sk-parallel-item:only-child::after {width: 0;}#sk-container-id-2 div.sk-dashed-wrapped {border: 1px dashed gray;margin: 0 0.4em 0.5em 0.4em;box-sizing: border-box;padding-bottom: 0.4em;background-color: white;}#sk-container-id-2 div.sk-label label {font-family: monospace;font-weight: bold;display: inline-block;line-height: 1.2em;}#sk-container-id-2 div.sk-label-container {text-align: center;}#sk-container-id-2 div.sk-container {/* jupyter's `normalize.less` sets `[hidden] { display: none; }` but bootstrap.min.css set `[hidden] { display: none !important; }` so we also need the `!important` here to be able to override the default hidden behavior on the sphinx rendered scikit-learn.org. See: https://github.com/scikit-learn/scikit-learn/issues/21755 */display: inline-block !important;position: relative;}#sk-container-id-2 div.sk-text-repr-fallback {display: none;}</style><div id=\"sk-container-id-2\" class=\"sk-top-container\"><div class=\"sk-text-repr-fallback\"><pre>OpenSetClassifier(clf_kwargs={&#x27;alpha&#x27;: 0.05, &#x27;gamma&#x27;: 0.01, &#x27;n_components&#x27;: 1,\n",
       "                              &#x27;scale_x&#x27;: True, &#x27;style&#x27;: &#x27;hard&#x27;},\n",
       "                  clf_model=&lt;class &#x27;pychemauth.classifier.plsda.PLSDA&#x27;&gt;,\n",
       "                  outlier_kwargs={&#x27;alpha&#x27;: 0.05, &#x27;center&#x27;: &#x27;score&#x27;,\n",
       "                                  &#x27;robust&#x27;: True},\n",
       "                  outlier_model=&lt;class &#x27;pychemauth.manifold.elliptic.EllipticManifold_Model&#x27;&gt;,\n",
       "                  unknown_class=&#x27;UNKNOWN FLOWER&#x27;)</pre><b>In a Jupyter environment, please rerun this cell to show the HTML representation or trust the notebook. <br />On GitHub, the HTML representation is unable to render, please try loading this page with nbviewer.org.</b></div><div class=\"sk-container\" hidden><div class=\"sk-item\"><div class=\"sk-estimator sk-toggleable\"><input class=\"sk-toggleable__control sk-hidden--visually\" id=\"sk-estimator-id-2\" type=\"checkbox\" checked><label for=\"sk-estimator-id-2\" class=\"sk-toggleable__label sk-toggleable__label-arrow\">OpenSetClassifier</label><div class=\"sk-toggleable__content\"><pre>OpenSetClassifier(clf_kwargs={&#x27;alpha&#x27;: 0.05, &#x27;gamma&#x27;: 0.01, &#x27;n_components&#x27;: 1,\n",
       "                              &#x27;scale_x&#x27;: True, &#x27;style&#x27;: &#x27;hard&#x27;},\n",
       "                  clf_model=&lt;class &#x27;pychemauth.classifier.plsda.PLSDA&#x27;&gt;,\n",
       "                  outlier_kwargs={&#x27;alpha&#x27;: 0.05, &#x27;center&#x27;: &#x27;score&#x27;,\n",
       "                                  &#x27;robust&#x27;: True},\n",
       "                  outlier_model=&lt;class &#x27;pychemauth.manifold.elliptic.EllipticManifold_Model&#x27;&gt;,\n",
       "                  unknown_class=&#x27;UNKNOWN FLOWER&#x27;)</pre></div></div></div></div></div>"
      ],
      "text/plain": [
       "OpenSetClassifier(clf_kwargs={'alpha': 0.05, 'gamma': 0.01, 'n_components': 1,\n",
       "                              'scale_x': True, 'style': 'hard'},\n",
       "                  clf_model=<class 'pychemauth.classifier.plsda.PLSDA'>,\n",
       "                  outlier_kwargs={'alpha': 0.05, 'center': 'score',\n",
       "                                  'robust': True},\n",
       "                  outlier_model=<class 'pychemauth.manifold.elliptic.EllipticManifold_Model'>,\n",
       "                  unknown_class='UNKNOWN FLOWER')"
      ]
     },
     "execution_count": 26,
     "metadata": {},
     "output_type": "execute_result"
    }
   ],
   "source": [
    "osc.fit(X_train_[:, 2:], y_train_)"
   ]
  },
  {
   "cell_type": "code",
   "execution_count": 27,
   "id": "07ed65f4",
   "metadata": {
    "ExecuteTime": {
     "end_time": "2024-09-23T20:19:00.038722Z",
     "start_time": "2024-09-23T20:18:59.994130Z"
    },
    "colab": {
     "base_uri": "https://localhost:8080/"
    },
    "id": "07ed65f4",
    "outputId": "8296c41c-299c-48f0-ff12-d8d6d99a808d"
   },
   "outputs": [
    {
     "data": {
      "text/plain": [
       "['setosa',\n",
       " 'virginica',\n",
       " 'setosa',\n",
       " 'virginica',\n",
       " 'virginica',\n",
       " 'virginica',\n",
       " 'UNKNOWN FLOWER',\n",
       " 'UNKNOWN FLOWER',\n",
       " 'setosa',\n",
       " 'setosa']"
      ]
     },
     "execution_count": 27,
     "metadata": {},
     "output_type": "execute_result"
    }
   ],
   "source": [
    "osc.predict(X_train_[:, 2:])[:10]"
   ]
  },
  {
   "cell_type": "code",
   "execution_count": 28,
   "id": "ae75d17a",
   "metadata": {
    "ExecuteTime": {
     "end_time": "2024-09-23T20:19:00.116204Z",
     "start_time": "2024-09-23T20:19:00.040497Z"
    },
    "id": "ae75d17a"
   },
   "outputs": [],
   "source": [
    "res = osc.figures_of_merit(osc.predict(X_train[:, 2:]), y_train)"
   ]
  },
  {
   "cell_type": "code",
   "execution_count": 29,
   "id": "553d558f",
   "metadata": {
    "ExecuteTime": {
     "end_time": "2024-09-23T20:19:00.175031Z",
     "start_time": "2024-09-23T20:19:00.118214Z"
    },
    "colab": {
     "base_uri": "https://localhost:8080/",
     "height": 143
    },
    "id": "553d558f",
    "outputId": "78172053-ded4-474e-fd9e-3f10168c7a32"
   },
   "outputs": [
    {
     "data": {
      "text/html": [
       "<div>\n",
       "<style scoped>\n",
       "    .dataframe tbody tr th:only-of-type {\n",
       "        vertical-align: middle;\n",
       "    }\n",
       "\n",
       "    .dataframe tbody tr th {\n",
       "        vertical-align: top;\n",
       "    }\n",
       "\n",
       "    .dataframe thead th {\n",
       "        text-align: right;\n",
       "    }\n",
       "</style>\n",
       "<table border=\"1\" class=\"dataframe\">\n",
       "  <thead>\n",
       "    <tr style=\"text-align: right;\">\n",
       "      <th></th>\n",
       "      <th>setosa</th>\n",
       "      <th>virginica</th>\n",
       "      <th>UNKNOWN FLOWER</th>\n",
       "    </tr>\n",
       "  </thead>\n",
       "  <tbody>\n",
       "    <tr>\n",
       "      <th>setosa</th>\n",
       "      <td>40</td>\n",
       "      <td>0</td>\n",
       "      <td>0</td>\n",
       "    </tr>\n",
       "    <tr>\n",
       "      <th>versicolor</th>\n",
       "      <td>4</td>\n",
       "      <td>34</td>\n",
       "      <td>2</td>\n",
       "    </tr>\n",
       "    <tr>\n",
       "      <th>virginica</th>\n",
       "      <td>0</td>\n",
       "      <td>28</td>\n",
       "      <td>12</td>\n",
       "    </tr>\n",
       "  </tbody>\n",
       "</table>\n",
       "</div>"
      ],
      "text/plain": [
       "            setosa  virginica  UNKNOWN FLOWER\n",
       "setosa          40          0               0\n",
       "versicolor       4         34               2\n",
       "virginica        0         28              12"
      ]
     },
     "execution_count": 29,
     "metadata": {},
     "output_type": "execute_result"
    }
   ],
   "source": [
    "res['CM']"
   ]
  },
  {
   "cell_type": "markdown",
   "id": "63d3d7fb",
   "metadata": {
    "ExecuteTime": {
     "end_time": "2024-01-11T18:00:44.019757Z",
     "start_time": "2024-01-11T18:00:44.013131Z"
    },
    "id": "63d3d7fb"
   },
   "source": [
    "# Case 2: Multiclass Soft Model\n",
    "\n",
    "Soft models can assign a point to multiple (or no) classes, but only those known at training time.  For example, soft PLS-DA will learn the $N$ specific classes known when trained, and learn to predict 1, >1, or none of those specific labels.  By adding an outlier detector we might be able to further protect against bad predictions when covariate or semantic shifts occur (at test time) and the model encounters an unusual input; we would hope this would be recognized as entirely novel by the PLS-DA model, but this model's behavior is biased based on its training data and unexpected predictions can result from unexpected inputs."
   ]
  },
  {
   "cell_type": "code",
   "execution_count": 30,
   "id": "52e1c3ca",
   "metadata": {
    "ExecuteTime": {
     "end_time": "2024-09-23T20:19:00.247378Z",
     "start_time": "2024-09-23T20:19:00.176495Z"
    },
    "id": "52e1c3ca"
   },
   "outputs": [],
   "source": [
    "osc = OpenSetClassifier(\n",
    "    clf_model=PLSDA,\n",
    "    clf_kwargs={\n",
    "        'n_components':3,\n",
    "        'alpha':0.05,\n",
    "        'gamma':0.01,\n",
    "        'style':\"soft\",\n",
    "        'not_assigned':\"UNKNOWN FLOWER\",\n",
    "        'scale_x':True,\n",
    "    },\n",
    "    outlier_model=IsolationForest,\n",
    "    outlier_kwargs={\n",
    "        'n_estimators':100,\n",
    "        'max_samples':1.0,\n",
    "        'contamination':0.15, # In practice, this is very important to tune correctly\n",
    "        'max_features':1.0,\n",
    "        'bootstrap':True,\n",
    "        'random_state':42,\n",
    "    },\n",
    "    score_metric='TEFF',\n",
    "    clf_style='soft',\n",
    "    unknown_class=\"OUTLIER\",\n",
    ")"
   ]
  },
  {
   "cell_type": "code",
   "execution_count": 31,
   "id": "bd68907f",
   "metadata": {
    "ExecuteTime": {
     "end_time": "2024-09-23T20:19:00.518747Z",
     "start_time": "2024-09-23T20:19:00.249013Z"
    },
    "colab": {
     "base_uri": "https://localhost:8080/",
     "height": 231
    },
    "id": "bd68907f",
    "outputId": "7f956b80-229b-4db9-94b1-9ae00cc63405"
   },
   "outputs": [
    {
     "data": {
      "text/html": [
       "<style>#sk-container-id-3 {color: black;}#sk-container-id-3 pre{padding: 0;}#sk-container-id-3 div.sk-toggleable {background-color: white;}#sk-container-id-3 label.sk-toggleable__label {cursor: pointer;display: block;width: 100%;margin-bottom: 0;padding: 0.3em;box-sizing: border-box;text-align: center;}#sk-container-id-3 label.sk-toggleable__label-arrow:before {content: \"▸\";float: left;margin-right: 0.25em;color: #696969;}#sk-container-id-3 label.sk-toggleable__label-arrow:hover:before {color: black;}#sk-container-id-3 div.sk-estimator:hover label.sk-toggleable__label-arrow:before {color: black;}#sk-container-id-3 div.sk-toggleable__content {max-height: 0;max-width: 0;overflow: hidden;text-align: left;background-color: #f0f8ff;}#sk-container-id-3 div.sk-toggleable__content pre {margin: 0.2em;color: black;border-radius: 0.25em;background-color: #f0f8ff;}#sk-container-id-3 input.sk-toggleable__control:checked~div.sk-toggleable__content {max-height: 200px;max-width: 100%;overflow: auto;}#sk-container-id-3 input.sk-toggleable__control:checked~label.sk-toggleable__label-arrow:before {content: \"▾\";}#sk-container-id-3 div.sk-estimator input.sk-toggleable__control:checked~label.sk-toggleable__label {background-color: #d4ebff;}#sk-container-id-3 div.sk-label input.sk-toggleable__control:checked~label.sk-toggleable__label {background-color: #d4ebff;}#sk-container-id-3 input.sk-hidden--visually {border: 0;clip: rect(1px 1px 1px 1px);clip: rect(1px, 1px, 1px, 1px);height: 1px;margin: -1px;overflow: hidden;padding: 0;position: absolute;width: 1px;}#sk-container-id-3 div.sk-estimator {font-family: monospace;background-color: #f0f8ff;border: 1px dotted black;border-radius: 0.25em;box-sizing: border-box;margin-bottom: 0.5em;}#sk-container-id-3 div.sk-estimator:hover {background-color: #d4ebff;}#sk-container-id-3 div.sk-parallel-item::after {content: \"\";width: 100%;border-bottom: 1px solid gray;flex-grow: 1;}#sk-container-id-3 div.sk-label:hover label.sk-toggleable__label {background-color: #d4ebff;}#sk-container-id-3 div.sk-serial::before {content: \"\";position: absolute;border-left: 1px solid gray;box-sizing: border-box;top: 0;bottom: 0;left: 50%;z-index: 0;}#sk-container-id-3 div.sk-serial {display: flex;flex-direction: column;align-items: center;background-color: white;padding-right: 0.2em;padding-left: 0.2em;position: relative;}#sk-container-id-3 div.sk-item {position: relative;z-index: 1;}#sk-container-id-3 div.sk-parallel {display: flex;align-items: stretch;justify-content: center;background-color: white;position: relative;}#sk-container-id-3 div.sk-item::before, #sk-container-id-3 div.sk-parallel-item::before {content: \"\";position: absolute;border-left: 1px solid gray;box-sizing: border-box;top: 0;bottom: 0;left: 50%;z-index: -1;}#sk-container-id-3 div.sk-parallel-item {display: flex;flex-direction: column;z-index: 1;position: relative;background-color: white;}#sk-container-id-3 div.sk-parallel-item:first-child::after {align-self: flex-end;width: 50%;}#sk-container-id-3 div.sk-parallel-item:last-child::after {align-self: flex-start;width: 50%;}#sk-container-id-3 div.sk-parallel-item:only-child::after {width: 0;}#sk-container-id-3 div.sk-dashed-wrapped {border: 1px dashed gray;margin: 0 0.4em 0.5em 0.4em;box-sizing: border-box;padding-bottom: 0.4em;background-color: white;}#sk-container-id-3 div.sk-label label {font-family: monospace;font-weight: bold;display: inline-block;line-height: 1.2em;}#sk-container-id-3 div.sk-label-container {text-align: center;}#sk-container-id-3 div.sk-container {/* jupyter's `normalize.less` sets `[hidden] { display: none; }` but bootstrap.min.css set `[hidden] { display: none !important; }` so we also need the `!important` here to be able to override the default hidden behavior on the sphinx rendered scikit-learn.org. See: https://github.com/scikit-learn/scikit-learn/issues/21755 */display: inline-block !important;position: relative;}#sk-container-id-3 div.sk-text-repr-fallback {display: none;}</style><div id=\"sk-container-id-3\" class=\"sk-top-container\"><div class=\"sk-text-repr-fallback\"><pre>OpenSetClassifier(clf_kwargs={&#x27;alpha&#x27;: 0.05, &#x27;gamma&#x27;: 0.01, &#x27;n_components&#x27;: 3,\n",
       "                              &#x27;not_assigned&#x27;: &#x27;UNKNOWN FLOWER&#x27;, &#x27;scale_x&#x27;: True,\n",
       "                              &#x27;style&#x27;: &#x27;soft&#x27;},\n",
       "                  clf_model=&lt;class &#x27;pychemauth.classifier.plsda.PLSDA&#x27;&gt;,\n",
       "                  clf_style=&#x27;soft&#x27;,\n",
       "                  outlier_kwargs={&#x27;bootstrap&#x27;: True, &#x27;contamination&#x27;: 0.15,\n",
       "                                  &#x27;max_features&#x27;: 1.0, &#x27;max_samples&#x27;: 1.0,\n",
       "                                  &#x27;n_estimators&#x27;: 100, &#x27;random_state&#x27;: 42},\n",
       "                  outlier_model=&lt;class &#x27;sklearn.ensemble._iforest.IsolationForest&#x27;&gt;,\n",
       "                  unknown_class=&#x27;OUTLIER&#x27;)</pre><b>In a Jupyter environment, please rerun this cell to show the HTML representation or trust the notebook. <br />On GitHub, the HTML representation is unable to render, please try loading this page with nbviewer.org.</b></div><div class=\"sk-container\" hidden><div class=\"sk-item\"><div class=\"sk-estimator sk-toggleable\"><input class=\"sk-toggleable__control sk-hidden--visually\" id=\"sk-estimator-id-3\" type=\"checkbox\" checked><label for=\"sk-estimator-id-3\" class=\"sk-toggleable__label sk-toggleable__label-arrow\">OpenSetClassifier</label><div class=\"sk-toggleable__content\"><pre>OpenSetClassifier(clf_kwargs={&#x27;alpha&#x27;: 0.05, &#x27;gamma&#x27;: 0.01, &#x27;n_components&#x27;: 3,\n",
       "                              &#x27;not_assigned&#x27;: &#x27;UNKNOWN FLOWER&#x27;, &#x27;scale_x&#x27;: True,\n",
       "                              &#x27;style&#x27;: &#x27;soft&#x27;},\n",
       "                  clf_model=&lt;class &#x27;pychemauth.classifier.plsda.PLSDA&#x27;&gt;,\n",
       "                  clf_style=&#x27;soft&#x27;,\n",
       "                  outlier_kwargs={&#x27;bootstrap&#x27;: True, &#x27;contamination&#x27;: 0.15,\n",
       "                                  &#x27;max_features&#x27;: 1.0, &#x27;max_samples&#x27;: 1.0,\n",
       "                                  &#x27;n_estimators&#x27;: 100, &#x27;random_state&#x27;: 42},\n",
       "                  outlier_model=&lt;class &#x27;sklearn.ensemble._iforest.IsolationForest&#x27;&gt;,\n",
       "                  unknown_class=&#x27;OUTLIER&#x27;)</pre></div></div></div></div></div>"
      ],
      "text/plain": [
       "OpenSetClassifier(clf_kwargs={'alpha': 0.05, 'gamma': 0.01, 'n_components': 3,\n",
       "                              'not_assigned': 'UNKNOWN FLOWER', 'scale_x': True,\n",
       "                              'style': 'soft'},\n",
       "                  clf_model=<class 'pychemauth.classifier.plsda.PLSDA'>,\n",
       "                  clf_style='soft',\n",
       "                  outlier_kwargs={'bootstrap': True, 'contamination': 0.15,\n",
       "                                  'max_features': 1.0, 'max_samples': 1.0,\n",
       "                                  'n_estimators': 100, 'random_state': 42},\n",
       "                  outlier_model=<class 'sklearn.ensemble._iforest.IsolationForest'>,\n",
       "                  unknown_class='OUTLIER')"
      ]
     },
     "execution_count": 31,
     "metadata": {},
     "output_type": "execute_result"
    }
   ],
   "source": [
    "osc.fit(X_train_, y_train_)"
   ]
  },
  {
   "cell_type": "code",
   "execution_count": 32,
   "id": "25ff6e17",
   "metadata": {
    "ExecuteTime": {
     "end_time": "2024-09-23T20:19:00.703357Z",
     "start_time": "2024-09-23T20:19:00.520818Z"
    },
    "colab": {
     "base_uri": "https://localhost:8080/",
     "height": 449
    },
    "id": "25ff6e17",
    "outputId": "5fd85ee2-94ab-4b9f-dfa7-fcc87d691fed"
   },
   "outputs": [
    {
     "data": {
      "image/png": "[encoded data removed]",
      "text/plain": [
       "<Figure size 640x480 with 1 Axes>"
      ]
     },
     "metadata": {},
     "output_type": "display_data"
    }
   ],
   "source": [
    "_ = osc.fitted_classification_model.visualize(styles=['hard', 'soft'])"
   ]
  },
  {
   "cell_type": "code",
   "execution_count": 33,
   "id": "018c2a75",
   "metadata": {
    "ExecuteTime": {
     "end_time": "2024-09-23T20:19:00.753785Z",
     "start_time": "2024-09-23T20:19:00.705361Z"
    },
    "colab": {
     "base_uri": "https://localhost:8080/"
    },
    "id": "018c2a75",
    "outputId": "7dac990d-284d-47a3-98d0-d6dfaf99fe68"
   },
   "outputs": [
    {
     "data": {
      "text/plain": [
       "[['setosa'],\n",
       " ['OUTLIER'],\n",
       " ['setosa'],\n",
       " ['virginica'],\n",
       " ['UNKNOWN FLOWER'],\n",
       " ['virginica'],\n",
       " ['OUTLIER'],\n",
       " ['virginica'],\n",
       " ['setosa'],\n",
       " ['setosa']]"
      ]
     },
     "execution_count": 33,
     "metadata": {},
     "output_type": "execute_result"
    }
   ],
   "source": [
    "# The predictions can return either OUTLIER (OD identified this point) or UNKNOWN FLOWER (soft model identified this point)\n",
    "\n",
    "osc.predict(X_train_[:10])"
   ]
  },
  {
   "cell_type": "code",
   "execution_count": 34,
   "id": "02e052e4",
   "metadata": {
    "ExecuteTime": {
     "end_time": "2024-09-23T20:19:00.805885Z",
     "start_time": "2024-09-23T20:19:00.755877Z"
    },
    "colab": {
     "base_uri": "https://localhost:8080/",
     "height": 112
    },
    "id": "02e052e4",
    "outputId": "7a06d05b-d400-4610-a4ea-36df5f871e15"
   },
   "outputs": [
    {
     "data": {
      "text/html": [
       "<div>\n",
       "<style scoped>\n",
       "    .dataframe tbody tr th:only-of-type {\n",
       "        vertical-align: middle;\n",
       "    }\n",
       "\n",
       "    .dataframe tbody tr th {\n",
       "        vertical-align: top;\n",
       "    }\n",
       "\n",
       "    .dataframe thead th {\n",
       "        text-align: right;\n",
       "    }\n",
       "</style>\n",
       "<table border=\"1\" class=\"dataframe\">\n",
       "  <thead>\n",
       "    <tr style=\"text-align: right;\">\n",
       "      <th></th>\n",
       "      <th>setosa</th>\n",
       "      <th>virginica</th>\n",
       "      <th>OUTLIER</th>\n",
       "    </tr>\n",
       "  </thead>\n",
       "  <tbody>\n",
       "    <tr>\n",
       "      <th>setosa</th>\n",
       "      <td>4</td>\n",
       "      <td>0</td>\n",
       "      <td>0</td>\n",
       "    </tr>\n",
       "    <tr>\n",
       "      <th>virginica</th>\n",
       "      <td>0</td>\n",
       "      <td>3</td>\n",
       "      <td>3</td>\n",
       "    </tr>\n",
       "  </tbody>\n",
       "</table>\n",
       "</div>"
      ],
      "text/plain": [
       "           setosa  virginica  OUTLIER\n",
       "setosa          4          0        0\n",
       "virginica       0          3        3"
      ]
     },
     "execution_count": 34,
     "metadata": {},
     "output_type": "execute_result"
    }
   ],
   "source": [
    "# For the purpose of computing metrics these are combined under the OSC's label (here, that is OUTLIER)\n",
    "\n",
    "res = osc.figures_of_merit(osc.predict(X_train_[:10]), y_train_[:10])\n",
    "res['CM']"
   ]
  },
  {
   "cell_type": "code",
   "execution_count": 35,
   "id": "a4ffb2b8",
   "metadata": {
    "ExecuteTime": {
     "end_time": "2024-09-23T20:19:00.864772Z",
     "start_time": "2024-09-23T20:19:00.807414Z"
    },
    "colab": {
     "base_uri": "https://localhost:8080/",
     "height": 112
    },
    "id": "a4ffb2b8",
    "outputId": "3fa4340d-8458-43fc-cd66-84be57ca07e6"
   },
   "outputs": [
    {
     "data": {
      "text/html": [
       "<div>\n",
       "<style scoped>\n",
       "    .dataframe tbody tr th:only-of-type {\n",
       "        vertical-align: middle;\n",
       "    }\n",
       "\n",
       "    .dataframe tbody tr th {\n",
       "        vertical-align: top;\n",
       "    }\n",
       "\n",
       "    .dataframe thead th {\n",
       "        text-align: right;\n",
       "    }\n",
       "</style>\n",
       "<table border=\"1\" class=\"dataframe\">\n",
       "  <thead>\n",
       "    <tr style=\"text-align: right;\">\n",
       "      <th></th>\n",
       "      <th>setosa</th>\n",
       "      <th>virginica</th>\n",
       "      <th>OUTLIER</th>\n",
       "    </tr>\n",
       "  </thead>\n",
       "  <tbody>\n",
       "    <tr>\n",
       "      <th>setosa</th>\n",
       "      <td>33</td>\n",
       "      <td>0</td>\n",
       "      <td>7</td>\n",
       "    </tr>\n",
       "    <tr>\n",
       "      <th>virginica</th>\n",
       "      <td>0</td>\n",
       "      <td>32</td>\n",
       "      <td>8</td>\n",
       "    </tr>\n",
       "  </tbody>\n",
       "</table>\n",
       "</div>"
      ],
      "text/plain": [
       "           setosa  virginica  OUTLIER\n",
       "setosa         33          0        7\n",
       "virginica       0         32        8"
      ]
     },
     "execution_count": 35,
     "metadata": {},
     "output_type": "execute_result"
    }
   ],
   "source": [
    "res = osc.figures_of_merit(osc.predict(X_train_), y_train_)\n",
    "res['CM']"
   ]
  },
  {
   "cell_type": "markdown",
   "id": "0e34b0be",
   "metadata": {
    "id": "0e34b0be"
   },
   "source": [
    "**The difference can be useful if you want to understand which model rejected the point.**"
   ]
  },
  {
   "cell_type": "code",
   "execution_count": 36,
   "id": "W0SmGfC7Q8jw",
   "metadata": {
    "ExecuteTime": {
     "end_time": "2024-09-23T20:19:01.155129Z",
     "start_time": "2024-09-23T20:19:00.866783Z"
    },
    "colab": {
     "base_uri": "https://localhost:8080/",
     "height": 467
    },
    "id": "W0SmGfC7Q8jw",
    "outputId": "fcced6ea-2ed7-4a81-e0bc-b28d6e34d3c8"
   },
   "outputs": [
    {
     "data": {
      "text/plain": [
       "Text(0, 0.5, 'Column 4 (petal width)')"
      ]
     },
     "execution_count": 36,
     "metadata": {},
     "output_type": "execute_result"
    },
    {
     "data": {
      "image/png": "[encoded data removed]",
      "text/plain": [
       "<Figure size 640x480 with 1 Axes>"
      ]
     },
     "metadata": {},
     "output_type": "display_data"
    }
   ],
   "source": [
    "for i, label in enumerate(['setosa', 'virginica', 'versicolor']):\n",
    "    mask = y_train == label\n",
    "    X_ = X_train[mask]\n",
    "    preds_ = osc.predict(X_)\n",
    "\n",
    "    outlier_mask = np.array([True if x_[0] == 'OUTLIER' else False for x_ in preds_]) # Determined to be OOD by the outlier detector\n",
    "    unknown_mask = np.array([True if x_[0] == 'UNKNOWN FLOWER' else False for x_ in preds_]) # PLS-DA determined this was out of its known bounds\n",
    "    inlier_mask = (~outlier_mask) & (~unknown_mask)\n",
    "\n",
    "    for mask_, marker_, alpha_, tag_ in zip([inlier_mask, outlier_mask, unknown_mask], ['o', '^', '*'], [0.3, 1.0, 1.0], ['inlier', 'outlier', 'unknown']):\n",
    "        plt.plot(X_[mask_, 2], X_[mask_, 3], marker=marker_, lw=0, color=f'C{i}', alpha=alpha_, label=f'{label}->{tag_}')\n",
    "\n",
    "plt.legend(loc='upper left')\n",
    "plt.xlabel('Column 3 (petal length)')\n",
    "plt.ylabel('Column 4 (petal width)')"
   ]
  },
  {
   "cell_type": "code",
   "execution_count": 37,
   "id": "c0af46ab",
   "metadata": {
    "ExecuteTime": {
     "end_time": "2024-09-23T20:19:01.216423Z",
     "start_time": "2024-09-23T20:19:01.157211Z"
    },
    "id": "c0af46ab"
   },
   "outputs": [],
   "source": [
    "# Note that the trangular points were caught by the outlier detector, but it is possible that the PLS-DA model would\n",
    "# have caught them too.\n",
    "\n",
    "clf_, od_, both_, neither_ = 0, 0, 0, 0\n",
    "\n",
    "od_correct_ = 0\n",
    "clf_correct_ = 0\n",
    "\n",
    "for a,b,label in zip(\n",
    "    osc.fitted_classification_model.predict(X_train),\n",
    "    osc.fitted_outlier_model.predict(X_train),\n",
    "    y_train\n",
    "):\n",
    "    clf_caught, od_caught = 0, 0\n",
    "    if a[0] == 'UNKNOWN FLOWER':\n",
    "        clf_caught = 1\n",
    "    if b == -1:\n",
    "        od_caught = 1\n",
    "\n",
    "    if (a[0] == 'UNKNOWN FLOWER') and (label == 'versicolor'):\n",
    "        clf_correct_ +=  1\n",
    "\n",
    "    if (b == -1) and (label == 'versicolor'):\n",
    "        od_correct_ +=  1\n",
    "\n",
    "    clf_ += clf_caught\n",
    "    od_ += od_caught\n",
    "    both_ += (1 if (clf_caught==1 and od_caught==1) else 0)\n",
    "    neither_ += (1 if (clf_caught==0 and od_caught==0) else 0)"
   ]
  },
  {
   "cell_type": "code",
   "execution_count": 38,
   "id": "8492bc16",
   "metadata": {
    "ExecuteTime": {
     "end_time": "2024-09-23T20:19:01.259625Z",
     "start_time": "2024-09-23T20:19:01.218541Z"
    },
    "colab": {
     "base_uri": "https://localhost:8080/"
    },
    "id": "8492bc16",
    "outputId": "1423b759-f54e-4f4b-dd1b-060f349e8816"
   },
   "outputs": [
    {
     "data": {
      "text/plain": [
       "(45, 49, 40, 66)"
      ]
     },
     "execution_count": 38,
     "metadata": {},
     "output_type": "execute_result"
    }
   ],
   "source": [
    "# In most cases, the model and outlier both reacted the same way to a point.\n",
    "\n",
    "clf_, od_, both_, neither_"
   ]
  },
  {
   "cell_type": "code",
   "execution_count": 39,
   "id": "ec508db3",
   "metadata": {
    "ExecuteTime": {
     "end_time": "2024-09-23T20:19:01.332025Z",
     "start_time": "2024-09-23T20:19:01.261161Z"
    },
    "colab": {
     "base_uri": "https://localhost:8080/"
    },
    "id": "ec508db3",
    "outputId": "c4daf995-fb17-4baf-be42-db5622014283"
   },
   "outputs": [
    {
     "data": {
      "text/plain": [
       "(37, 37)"
      ]
     },
     "execution_count": 39,
     "metadata": {},
     "output_type": "execute_result"
    }
   ],
   "source": [
    "# They each correctly identified a novel point 37/40 times\n",
    "\n",
    "clf_correct_, od_correct_"
   ]
  },
  {
   "cell_type": "code",
   "execution_count": 40,
   "id": "75b1c933",
   "metadata": {
    "ExecuteTime": {
     "end_time": "2024-09-23T20:19:01.397833Z",
     "start_time": "2024-09-23T20:19:01.333841Z"
    },
    "id": "75b1c933"
   },
   "outputs": [],
   "source": [
    "# The OD rejects 37/40 versicolor points, allowing 3 to get through. However, it is clear that only 1 was incorrectly\n",
    "# assigned to a known class (virginica); these must have been rejected by the soft PLS-DA model.  Thus, together they\n",
    "# make a more specific model than either alone (below the PLS-DA model is shown to fail to reject 2 points)."
   ]
  },
  {
   "cell_type": "code",
   "execution_count": 41,
   "id": "bb747908",
   "metadata": {
    "ExecuteTime": {
     "end_time": "2024-09-23T20:19:01.533366Z",
     "start_time": "2024-09-23T20:19:01.399515Z"
    },
    "colab": {
     "base_uri": "https://localhost:8080/",
     "height": 143
    },
    "id": "bb747908",
    "outputId": "cb52ef3e-102b-4e91-b7f7-36b284345b14"
   },
   "outputs": [
    {
     "data": {
      "text/html": [
       "<div>\n",
       "<style scoped>\n",
       "    .dataframe tbody tr th:only-of-type {\n",
       "        vertical-align: middle;\n",
       "    }\n",
       "\n",
       "    .dataframe tbody tr th {\n",
       "        vertical-align: top;\n",
       "    }\n",
       "\n",
       "    .dataframe thead th {\n",
       "        text-align: right;\n",
       "    }\n",
       "</style>\n",
       "<table border=\"1\" class=\"dataframe\">\n",
       "  <thead>\n",
       "    <tr style=\"text-align: right;\">\n",
       "      <th></th>\n",
       "      <th>setosa</th>\n",
       "      <th>virginica</th>\n",
       "      <th>OUTLIER</th>\n",
       "    </tr>\n",
       "  </thead>\n",
       "  <tbody>\n",
       "    <tr>\n",
       "      <th>setosa</th>\n",
       "      <td>33</td>\n",
       "      <td>0</td>\n",
       "      <td>7</td>\n",
       "    </tr>\n",
       "    <tr>\n",
       "      <th>versicolor</th>\n",
       "      <td>0</td>\n",
       "      <td>1</td>\n",
       "      <td>39</td>\n",
       "    </tr>\n",
       "    <tr>\n",
       "      <th>virginica</th>\n",
       "      <td>0</td>\n",
       "      <td>32</td>\n",
       "      <td>8</td>\n",
       "    </tr>\n",
       "  </tbody>\n",
       "</table>\n",
       "</div>"
      ],
      "text/plain": [
       "            setosa  virginica  OUTLIER\n",
       "setosa          33          0        7\n",
       "versicolor       0          1       39\n",
       "virginica        0         32        8"
      ]
     },
     "execution_count": 41,
     "metadata": {},
     "output_type": "execute_result"
    }
   ],
   "source": [
    "res = osc.figures_of_merit(osc.predict(X_train), y_train)\n",
    "res['CM']"
   ]
  },
  {
   "cell_type": "code",
   "execution_count": 42,
   "id": "f124edb8",
   "metadata": {
    "ExecuteTime": {
     "end_time": "2024-09-23T20:19:01.615441Z",
     "start_time": "2024-09-23T20:19:01.535508Z"
    },
    "colab": {
     "base_uri": "https://localhost:8080/",
     "height": 143
    },
    "id": "f124edb8",
    "outputId": "a0bc377b-4b7e-4140-f8da-f0f76b35c93d"
   },
   "outputs": [
    {
     "data": {
      "text/html": [
       "<div>\n",
       "<style scoped>\n",
       "    .dataframe tbody tr th:only-of-type {\n",
       "        vertical-align: middle;\n",
       "    }\n",
       "\n",
       "    .dataframe tbody tr th {\n",
       "        vertical-align: top;\n",
       "    }\n",
       "\n",
       "    .dataframe thead th {\n",
       "        text-align: right;\n",
       "    }\n",
       "</style>\n",
       "<table border=\"1\" class=\"dataframe\">\n",
       "  <thead>\n",
       "    <tr style=\"text-align: right;\">\n",
       "      <th></th>\n",
       "      <th>setosa</th>\n",
       "      <th>virginica</th>\n",
       "      <th>UNKNOWN FLOWER</th>\n",
       "    </tr>\n",
       "  </thead>\n",
       "  <tbody>\n",
       "    <tr>\n",
       "      <th>setosa</th>\n",
       "      <td>35</td>\n",
       "      <td>0</td>\n",
       "      <td>5</td>\n",
       "    </tr>\n",
       "    <tr>\n",
       "      <th>versicolor</th>\n",
       "      <td>0</td>\n",
       "      <td>2</td>\n",
       "      <td>38</td>\n",
       "    </tr>\n",
       "    <tr>\n",
       "      <th>virginica</th>\n",
       "      <td>0</td>\n",
       "      <td>38</td>\n",
       "      <td>2</td>\n",
       "    </tr>\n",
       "  </tbody>\n",
       "</table>\n",
       "</div>"
      ],
      "text/plain": [
       "            setosa  virginica  UNKNOWN FLOWER\n",
       "setosa          35          0               5\n",
       "versicolor       0          2              38\n",
       "virginica        0         38               2"
      ]
     },
     "execution_count": 42,
     "metadata": {},
     "output_type": "execute_result"
    }
   ],
   "source": [
    "# The PLS-DA model alone is less specific against the versicolor challenge class, however, it is more sensitive to both\n",
    "# known classes.\n",
    "\n",
    "soft_plsda = PLSDA(\n",
    "    **{\n",
    "        'n_components':3,\n",
    "        'alpha':0.05,\n",
    "        'gamma':0.01,\n",
    "        'style':\"soft\",\n",
    "        'not_assigned':\"UNKNOWN FLOWER\",\n",
    "        'scale_x':True,\n",
    "    }\n",
    ")\n",
    "\n",
    "_ = soft_plsda.fit(X_train_, y_train_)\n",
    "\n",
    "res = soft_plsda.figures_of_merit(soft_plsda.predict(X_train), y_train)\n",
    "res['CM']"
   ]
  },
  {
   "cell_type": "markdown",
   "id": "6437eb6f",
   "metadata": {
    "id": "6437eb6f"
   },
   "source": [
    "# Case 3: Convert a Binary OvA Discriminator into a Binary Class Model\n",
    "\n",
    "Often a single (e.g., authentic) class may be well sampled while many possible alternatives are collected into a single \"alternative\" class, then a pseudo-binary model is trained in a \"one-vs-all\" (OvA) fashion.  The lack of a well-defined, well-sampled alternative class is one of the main reasons such models are typically inappropriate for authentication applications. However, it is possible to convert a binary OvA discriminator into a binary class model by adding an outlier detector.  This assumes that the two classes (authentic vs. known alternatives) are well sampled, so that the outlier detector is simply responsible for learning when covariate or semantic shifts occur and a sample moves out of the region of input space that a classifier is expected to be familiar with.  In this sense, we have a model which understands 2 classes: the authentic and the known alternatives, and both class spaces are bounded due to the outlier detector."
   ]
  },
  {
   "cell_type": "markdown",
   "id": "ddb25cc9",
   "metadata": {
    "id": "ddb25cc9"
   },
   "source": [
    "By adding an outlier detector, we can at least determine if a new sample looks different from both the known authentic class and the set of known alternatives.  These \"unknown unknowns\" are typically the reason that models fail under open set conditions.  The example below is not quite an authenticator since it uses both classes to evaluate the model performance, but we may consider it a class model since the outlier detector will reject any sample that is far away from the learned (finite) class space.  Since alternatives are used during training, this is a \"compliant\" approach rather than a \"rigorous\" one."
   ]
  },
  {
   "cell_type": "code",
   "execution_count": 43,
   "id": "cbcd2004",
   "metadata": {
    "ExecuteTime": {
     "end_time": "2024-09-23T20:19:01.663428Z",
     "start_time": "2024-09-23T20:19:01.617211Z"
    },
    "id": "cbcd2004"
   },
   "outputs": [],
   "source": [
    "# Pretend that setosa is the target class and virginica is the only known alternative when the model is initially trained.\n",
    "# For example, perhaps the species is versicolor has not been discovered yet.\n",
    "\n",
    "target = 'setosa'\n",
    "known_alternatives = ['virginica'] # In principle, the training set could contain other known alternatives, too\n",
    "unknown_alternatives = ['versicolor'] # The list of alternatives encountered at test time that were not available during training\n",
    "\n",
    "mask = (y_train == target) | np.array([y_ in known_alternatives for y_ in y_train])"
   ]
  },
  {
   "cell_type": "code",
   "execution_count": 44,
   "id": "9f010c25",
   "metadata": {
    "ExecuteTime": {
     "end_time": "2024-09-23T20:19:01.788668Z",
     "start_time": "2024-09-23T20:19:01.665163Z"
    },
    "id": "9f010c25"
   },
   "outputs": [],
   "source": [
    "osc = OpenSetClassifier(\n",
    "    clf_model=RandomForestClassifier,\n",
    "    clf_kwargs={\n",
    "        'n_estimators':100,\n",
    "        'max_features':'sqrt',\n",
    "        'random_state':42,\n",
    "        'class_weight':'balanced'\n",
    "    },\n",
    "    outlier_model=IsolationForest,\n",
    "    outlier_kwargs={\n",
    "        'n_estimators':100,\n",
    "        'contamination':0.15, # In practice, this is very important to tune correctly\n",
    "        'random_state':42,\n",
    "    },\n",
    "    inlier_value=1,\n",
    "    unknown_class='UNKNOWN',\n",
    "    score_metric='TEFF',\n",
    "    clf_style='hard',\n",
    "    score_using=\"all\"\n",
    ")"
   ]
  },
  {
   "cell_type": "code",
   "execution_count": 45,
   "id": "1ba08301",
   "metadata": {
    "ExecuteTime": {
     "end_time": "2024-09-23T20:19:02.098589Z",
     "start_time": "2024-09-23T20:19:01.794568Z"
    },
    "colab": {
     "base_uri": "https://localhost:8080/",
     "height": 196
    },
    "id": "1ba08301",
    "outputId": "e8a4d200-53c3-400f-ed3c-f6ca4f6a60ce"
   },
   "outputs": [
    {
     "data": {
      "text/html": [
       "<style>#sk-container-id-4 {color: black;}#sk-container-id-4 pre{padding: 0;}#sk-container-id-4 div.sk-toggleable {background-color: white;}#sk-container-id-4 label.sk-toggleable__label {cursor: pointer;display: block;width: 100%;margin-bottom: 0;padding: 0.3em;box-sizing: border-box;text-align: center;}#sk-container-id-4 label.sk-toggleable__label-arrow:before {content: \"▸\";float: left;margin-right: 0.25em;color: #696969;}#sk-container-id-4 label.sk-toggleable__label-arrow:hover:before {color: black;}#sk-container-id-4 div.sk-estimator:hover label.sk-toggleable__label-arrow:before {color: black;}#sk-container-id-4 div.sk-toggleable__content {max-height: 0;max-width: 0;overflow: hidden;text-align: left;background-color: #f0f8ff;}#sk-container-id-4 div.sk-toggleable__content pre {margin: 0.2em;color: black;border-radius: 0.25em;background-color: #f0f8ff;}#sk-container-id-4 input.sk-toggleable__control:checked~div.sk-toggleable__content {max-height: 200px;max-width: 100%;overflow: auto;}#sk-container-id-4 input.sk-toggleable__control:checked~label.sk-toggleable__label-arrow:before {content: \"▾\";}#sk-container-id-4 div.sk-estimator input.sk-toggleable__control:checked~label.sk-toggleable__label {background-color: #d4ebff;}#sk-container-id-4 div.sk-label input.sk-toggleable__control:checked~label.sk-toggleable__label {background-color: #d4ebff;}#sk-container-id-4 input.sk-hidden--visually {border: 0;clip: rect(1px 1px 1px 1px);clip: rect(1px, 1px, 1px, 1px);height: 1px;margin: -1px;overflow: hidden;padding: 0;position: absolute;width: 1px;}#sk-container-id-4 div.sk-estimator {font-family: monospace;background-color: #f0f8ff;border: 1px dotted black;border-radius: 0.25em;box-sizing: border-box;margin-bottom: 0.5em;}#sk-container-id-4 div.sk-estimator:hover {background-color: #d4ebff;}#sk-container-id-4 div.sk-parallel-item::after {content: \"\";width: 100%;border-bottom: 1px solid gray;flex-grow: 1;}#sk-container-id-4 div.sk-label:hover label.sk-toggleable__label {background-color: #d4ebff;}#sk-container-id-4 div.sk-serial::before {content: \"\";position: absolute;border-left: 1px solid gray;box-sizing: border-box;top: 0;bottom: 0;left: 50%;z-index: 0;}#sk-container-id-4 div.sk-serial {display: flex;flex-direction: column;align-items: center;background-color: white;padding-right: 0.2em;padding-left: 0.2em;position: relative;}#sk-container-id-4 div.sk-item {position: relative;z-index: 1;}#sk-container-id-4 div.sk-parallel {display: flex;align-items: stretch;justify-content: center;background-color: white;position: relative;}#sk-container-id-4 div.sk-item::before, #sk-container-id-4 div.sk-parallel-item::before {content: \"\";position: absolute;border-left: 1px solid gray;box-sizing: border-box;top: 0;bottom: 0;left: 50%;z-index: -1;}#sk-container-id-4 div.sk-parallel-item {display: flex;flex-direction: column;z-index: 1;position: relative;background-color: white;}#sk-container-id-4 div.sk-parallel-item:first-child::after {align-self: flex-end;width: 50%;}#sk-container-id-4 div.sk-parallel-item:last-child::after {align-self: flex-start;width: 50%;}#sk-container-id-4 div.sk-parallel-item:only-child::after {width: 0;}#sk-container-id-4 div.sk-dashed-wrapped {border: 1px dashed gray;margin: 0 0.4em 0.5em 0.4em;box-sizing: border-box;padding-bottom: 0.4em;background-color: white;}#sk-container-id-4 div.sk-label label {font-family: monospace;font-weight: bold;display: inline-block;line-height: 1.2em;}#sk-container-id-4 div.sk-label-container {text-align: center;}#sk-container-id-4 div.sk-container {/* jupyter's `normalize.less` sets `[hidden] { display: none; }` but bootstrap.min.css set `[hidden] { display: none !important; }` so we also need the `!important` here to be able to override the default hidden behavior on the sphinx rendered scikit-learn.org. See: https://github.com/scikit-learn/scikit-learn/issues/21755 */display: inline-block !important;position: relative;}#sk-container-id-4 div.sk-text-repr-fallback {display: none;}</style><div id=\"sk-container-id-4\" class=\"sk-top-container\"><div class=\"sk-text-repr-fallback\"><pre>OpenSetClassifier(clf_kwargs={&#x27;class_weight&#x27;: &#x27;balanced&#x27;,\n",
       "                              &#x27;max_features&#x27;: &#x27;sqrt&#x27;, &#x27;n_estimators&#x27;: 100,\n",
       "                              &#x27;random_state&#x27;: 42},\n",
       "                  clf_model=&lt;class &#x27;sklearn.ensemble._forest.RandomForestClassifier&#x27;&gt;,\n",
       "                  outlier_kwargs={&#x27;contamination&#x27;: 0.15, &#x27;n_estimators&#x27;: 100,\n",
       "                                  &#x27;random_state&#x27;: 42},\n",
       "                  outlier_model=&lt;class &#x27;sklearn.ensemble._iforest.IsolationForest&#x27;&gt;,\n",
       "                  unknown_class=&#x27;UNKNOWN&#x27;)</pre><b>In a Jupyter environment, please rerun this cell to show the HTML representation or trust the notebook. <br />On GitHub, the HTML representation is unable to render, please try loading this page with nbviewer.org.</b></div><div class=\"sk-container\" hidden><div class=\"sk-item\"><div class=\"sk-estimator sk-toggleable\"><input class=\"sk-toggleable__control sk-hidden--visually\" id=\"sk-estimator-id-4\" type=\"checkbox\" checked><label for=\"sk-estimator-id-4\" class=\"sk-toggleable__label sk-toggleable__label-arrow\">OpenSetClassifier</label><div class=\"sk-toggleable__content\"><pre>OpenSetClassifier(clf_kwargs={&#x27;class_weight&#x27;: &#x27;balanced&#x27;,\n",
       "                              &#x27;max_features&#x27;: &#x27;sqrt&#x27;, &#x27;n_estimators&#x27;: 100,\n",
       "                              &#x27;random_state&#x27;: 42},\n",
       "                  clf_model=&lt;class &#x27;sklearn.ensemble._forest.RandomForestClassifier&#x27;&gt;,\n",
       "                  outlier_kwargs={&#x27;contamination&#x27;: 0.15, &#x27;n_estimators&#x27;: 100,\n",
       "                                  &#x27;random_state&#x27;: 42},\n",
       "                  outlier_model=&lt;class &#x27;sklearn.ensemble._iforest.IsolationForest&#x27;&gt;,\n",
       "                  unknown_class=&#x27;UNKNOWN&#x27;)</pre></div></div></div></div></div>"
      ],
      "text/plain": [
       "OpenSetClassifier(clf_kwargs={'class_weight': 'balanced',\n",
       "                              'max_features': 'sqrt', 'n_estimators': 100,\n",
       "                              'random_state': 42},\n",
       "                  clf_model=<class 'sklearn.ensemble._forest.RandomForestClassifier'>,\n",
       "                  outlier_kwargs={'contamination': 0.15, 'n_estimators': 100,\n",
       "                                  'random_state': 42},\n",
       "                  outlier_model=<class 'sklearn.ensemble._iforest.IsolationForest'>,\n",
       "                  unknown_class='UNKNOWN')"
      ]
     },
     "execution_count": 45,
     "metadata": {},
     "output_type": "execute_result"
    }
   ],
   "source": [
    "osc.fit(X_train[mask], y_train[mask])"
   ]
  },
  {
   "cell_type": "code",
   "execution_count": 46,
   "id": "1988a4f9",
   "metadata": {
    "ExecuteTime": {
     "end_time": "2024-09-23T20:19:02.158740Z",
     "start_time": "2024-09-23T20:19:02.100566Z"
    },
    "colab": {
     "base_uri": "https://localhost:8080/"
    },
    "id": "1988a4f9",
    "outputId": "5e84a5bc-0459-4c17-a15e-dc3803cd792b"
   },
   "outputs": [
    {
     "data": {
      "text/plain": [
       "['setosa',\n",
       " 'UNKNOWN',\n",
       " 'setosa',\n",
       " 'virginica',\n",
       " 'virginica',\n",
       " 'virginica',\n",
       " 'UNKNOWN',\n",
       " 'UNKNOWN',\n",
       " 'setosa',\n",
       " 'setosa']"
      ]
     },
     "execution_count": 46,
     "metadata": {},
     "output_type": "execute_result"
    }
   ],
   "source": [
    "osc.predict(X_train[mask])[:10]"
   ]
  },
  {
   "cell_type": "code",
   "execution_count": 47,
   "id": "da821aad",
   "metadata": {
    "ExecuteTime": {
     "end_time": "2024-09-23T20:19:02.244343Z",
     "start_time": "2024-09-23T20:19:02.160367Z"
    },
    "colab": {
     "base_uri": "https://localhost:8080/"
    },
    "id": "da821aad",
    "outputId": "40ea5097-a2da-4778-c4a2-bb69cf7d290b"
   },
   "outputs": [
    {
     "data": {
      "text/plain": [
       "{'CM':            setosa  virginica  UNKNOWN\n",
       " setosa         36          0        4\n",
       " virginica       0         32        8,\n",
       " 'I': setosa       40\n",
       " virginica    40\n",
       " dtype: int64,\n",
       " 'CSNS': setosa       0.9\n",
       " virginica    0.8\n",
       " dtype: float64,\n",
       " 'CSPS': setosa       1.0\n",
       " virginica    1.0\n",
       " dtype: float64,\n",
       " 'CEFF': setosa       0.948683\n",
       " virginica    0.894427\n",
       " dtype: float64,\n",
       " 'TSNS': 0.85,\n",
       " 'TSPS': 1.0,\n",
       " 'TEFF': 0.9219544457292888,\n",
       " 'ACC': 0.85}"
      ]
     },
     "execution_count": 47,
     "metadata": {},
     "output_type": "execute_result"
    }
   ],
   "source": [
    "res = osc.figures_of_merit(osc.predict(X_train[mask]), y_train[mask])\n",
    "res"
   ]
  },
  {
   "cell_type": "code",
   "execution_count": 48,
   "id": "tBDwyZ_HYkJE",
   "metadata": {
    "ExecuteTime": {
     "end_time": "2024-09-23T20:19:02.291797Z",
     "start_time": "2024-09-23T20:19:02.245840Z"
    },
    "colab": {
     "base_uri": "https://localhost:8080/",
     "height": 112
    },
    "id": "tBDwyZ_HYkJE",
    "outputId": "224fb70a-c613-4e5c-bd0a-a15f60192059"
   },
   "outputs": [
    {
     "data": {
      "text/html": [
       "<div>\n",
       "<style scoped>\n",
       "    .dataframe tbody tr th:only-of-type {\n",
       "        vertical-align: middle;\n",
       "    }\n",
       "\n",
       "    .dataframe tbody tr th {\n",
       "        vertical-align: top;\n",
       "    }\n",
       "\n",
       "    .dataframe thead th {\n",
       "        text-align: right;\n",
       "    }\n",
       "</style>\n",
       "<table border=\"1\" class=\"dataframe\">\n",
       "  <thead>\n",
       "    <tr style=\"text-align: right;\">\n",
       "      <th></th>\n",
       "      <th>setosa</th>\n",
       "      <th>virginica</th>\n",
       "      <th>UNKNOWN</th>\n",
       "    </tr>\n",
       "  </thead>\n",
       "  <tbody>\n",
       "    <tr>\n",
       "      <th>setosa</th>\n",
       "      <td>36</td>\n",
       "      <td>0</td>\n",
       "      <td>4</td>\n",
       "    </tr>\n",
       "    <tr>\n",
       "      <th>virginica</th>\n",
       "      <td>0</td>\n",
       "      <td>32</td>\n",
       "      <td>8</td>\n",
       "    </tr>\n",
       "  </tbody>\n",
       "</table>\n",
       "</div>"
      ],
      "text/plain": [
       "           setosa  virginica  UNKNOWN\n",
       "setosa         36          0        4\n",
       "virginica       0         32        8"
      ]
     },
     "execution_count": 48,
     "metadata": {},
     "output_type": "execute_result"
    }
   ],
   "source": [
    "res['CM']"
   ]
  },
  {
   "cell_type": "code",
   "execution_count": 49,
   "id": "003315ae",
   "metadata": {
    "ExecuteTime": {
     "end_time": "2024-09-23T20:19:02.388623Z",
     "start_time": "2024-09-23T20:19:02.293388Z"
    },
    "colab": {
     "base_uri": "https://localhost:8080/"
    },
    "id": "003315ae",
    "outputId": "504bb613-4371-43ec-c124-c665a7c1c478"
   },
   "outputs": [
    {
     "data": {
      "text/plain": [
       "0.9142392101268318"
      ]
     },
     "execution_count": 49,
     "metadata": {},
     "output_type": "execute_result"
    }
   ],
   "source": [
    "osc.score(X_train, y_train)"
   ]
  },
  {
   "cell_type": "code",
   "execution_count": 50,
   "id": "cfb5c517",
   "metadata": {
    "ExecuteTime": {
     "end_time": "2024-09-23T20:19:02.481039Z",
     "start_time": "2024-09-23T20:19:02.390356Z"
    },
    "id": "cfb5c517"
   },
   "outputs": [],
   "source": [
    "res = osc.figures_of_merit(osc.predict(X_train), y_train)"
   ]
  },
  {
   "cell_type": "code",
   "execution_count": 51,
   "id": "d2abfc57",
   "metadata": {
    "ExecuteTime": {
     "end_time": "2024-09-23T20:19:02.540242Z",
     "start_time": "2024-09-23T20:19:02.482769Z"
    },
    "colab": {
     "base_uri": "https://localhost:8080/",
     "height": 143
    },
    "id": "d2abfc57",
    "outputId": "47e058b4-0ca1-4632-d392-512bc1047141"
   },
   "outputs": [
    {
     "data": {
      "text/html": [
       "<div>\n",
       "<style scoped>\n",
       "    .dataframe tbody tr th:only-of-type {\n",
       "        vertical-align: middle;\n",
       "    }\n",
       "\n",
       "    .dataframe tbody tr th {\n",
       "        vertical-align: top;\n",
       "    }\n",
       "\n",
       "    .dataframe thead th {\n",
       "        text-align: right;\n",
       "    }\n",
       "</style>\n",
       "<table border=\"1\" class=\"dataframe\">\n",
       "  <thead>\n",
       "    <tr style=\"text-align: right;\">\n",
       "      <th></th>\n",
       "      <th>setosa</th>\n",
       "      <th>virginica</th>\n",
       "      <th>UNKNOWN</th>\n",
       "    </tr>\n",
       "  </thead>\n",
       "  <tbody>\n",
       "    <tr>\n",
       "      <th>setosa</th>\n",
       "      <td>36</td>\n",
       "      <td>0</td>\n",
       "      <td>4</td>\n",
       "    </tr>\n",
       "    <tr>\n",
       "      <th>versicolor</th>\n",
       "      <td>0</td>\n",
       "      <td>2</td>\n",
       "      <td>38</td>\n",
       "    </tr>\n",
       "    <tr>\n",
       "      <th>virginica</th>\n",
       "      <td>0</td>\n",
       "      <td>32</td>\n",
       "      <td>8</td>\n",
       "    </tr>\n",
       "  </tbody>\n",
       "</table>\n",
       "</div>"
      ],
      "text/plain": [
       "            setosa  virginica  UNKNOWN\n",
       "setosa          36          0        4\n",
       "versicolor       0          2       38\n",
       "virginica        0         32        8"
      ]
     },
     "execution_count": 51,
     "metadata": {},
     "output_type": "execute_result"
    }
   ],
   "source": [
    "res['CM']"
   ]
  },
  {
   "cell_type": "markdown",
   "id": "8311944f",
   "metadata": {
    "id": "8311944f"
   },
   "source": [
    "# Case 4: Convert a Binary OvA Discriminator into a One-Class Classifier\n",
    "\n",
    "If we evaluate the model using one-class model metrics we can consider this a one-class classifier (OCC) instead of a binary one.  This effectively still predicts class membership (Y/N) but rejection can come from either the discriminative classifier or the outlier detector.  You can analyze the source of the rejections as previously illustrated with multiclass soft model example."
   ]
  },
  {
   "cell_type": "code",
   "execution_count": 52,
   "id": "c6308f62",
   "metadata": {
    "ExecuteTime": {
     "end_time": "2024-09-23T20:21:01.644928Z",
     "start_time": "2024-09-23T20:21:01.562743Z"
    },
    "id": "c6308f62"
   },
   "outputs": [],
   "source": [
    "# Re-label training data into authentic vs. alternative - hold out the versicolor for a later test\n",
    "\n",
    "def convert_y_to_binary_format(y, target, alternative_class='KNOWN ALTERNATIVE'):\n",
    "    y_binary = y.copy()\n",
    "    y_binary[y_binary != target] = alternative_class\n",
    "\n",
    "    return y_binary\n",
    "\n",
    "y_train_binary = convert_y_to_binary_format(y_train[mask], target)\n",
    "X_train_binary = X_train[mask]"
   ]
  },
  {
   "cell_type": "code",
   "execution_count": 53,
   "id": "-KpCgH51Ysh2",
   "metadata": {
    "ExecuteTime": {
     "end_time": "2024-09-23T20:21:01.992686Z",
     "start_time": "2024-09-23T20:21:01.920908Z"
    },
    "colab": {
     "base_uri": "https://localhost:8080/"
    },
    "id": "-KpCgH51Ysh2",
    "outputId": "ba146ad0-58e9-4c1a-a112-be676ab114d3"
   },
   "outputs": [
    {
     "data": {
      "text/plain": [
       "array(['setosa', 'KNOWN ALTERNATIVE', 'setosa', 'KNOWN ALTERNATIVE',\n",
       "       'KNOWN ALTERNATIVE', 'KNOWN ALTERNATIVE', 'KNOWN ALTERNATIVE',\n",
       "       'KNOWN ALTERNATIVE', 'setosa', 'setosa'], dtype=object)"
      ]
     },
     "execution_count": 53,
     "metadata": {},
     "output_type": "execute_result"
    }
   ],
   "source": [
    "y_train_binary[:10]"
   ]
  },
  {
   "cell_type": "code",
   "execution_count": 54,
   "id": "9c95587f",
   "metadata": {
    "ExecuteTime": {
     "end_time": "2024-09-23T20:21:02.643148Z",
     "start_time": "2024-09-23T20:21:02.571807Z"
    },
    "id": "9c95587f"
   },
   "outputs": [],
   "source": [
    "osc = OpenSetClassifier(\n",
    "    clf_model=RandomForestClassifier,\n",
    "    clf_kwargs={\n",
    "        'n_estimators':100,\n",
    "        'max_features':'sqrt',\n",
    "        'random_state':42,\n",
    "        'class_weight':'balanced'\n",
    "    },\n",
    "    outlier_model=IsolationForest,\n",
    "    outlier_kwargs={\n",
    "        'n_estimators':100,\n",
    "        'contamination':0.15, # In practice, this is very important to tune correctly\n",
    "        'random_state':42,\n",
    "    },\n",
    "    inlier_value=1,\n",
    "    unknown_class='UNKNOWN',\n",
    "    score_metric='TEFF',\n",
    "    clf_style='hard',\n",
    "    score_using=target # Now score the model using only the target class as the positive class, others are all negative\n",
    ")"
   ]
  },
  {
   "cell_type": "code",
   "execution_count": 55,
   "id": "a23e7739",
   "metadata": {
    "ExecuteTime": {
     "end_time": "2024-09-23T20:21:03.655729Z",
     "start_time": "2024-09-23T20:21:03.266678Z"
    },
    "colab": {
     "base_uri": "https://localhost:8080/",
     "height": 196
    },
    "id": "a23e7739",
    "outputId": "49279e82-e96d-4abf-e56e-ae5416f2fbf7"
   },
   "outputs": [
    {
     "data": {
      "text/html": [
       "<style>#sk-container-id-5 {color: black;}#sk-container-id-5 pre{padding: 0;}#sk-container-id-5 div.sk-toggleable {background-color: white;}#sk-container-id-5 label.sk-toggleable__label {cursor: pointer;display: block;width: 100%;margin-bottom: 0;padding: 0.3em;box-sizing: border-box;text-align: center;}#sk-container-id-5 label.sk-toggleable__label-arrow:before {content: \"▸\";float: left;margin-right: 0.25em;color: #696969;}#sk-container-id-5 label.sk-toggleable__label-arrow:hover:before {color: black;}#sk-container-id-5 div.sk-estimator:hover label.sk-toggleable__label-arrow:before {color: black;}#sk-container-id-5 div.sk-toggleable__content {max-height: 0;max-width: 0;overflow: hidden;text-align: left;background-color: #f0f8ff;}#sk-container-id-5 div.sk-toggleable__content pre {margin: 0.2em;color: black;border-radius: 0.25em;background-color: #f0f8ff;}#sk-container-id-5 input.sk-toggleable__control:checked~div.sk-toggleable__content {max-height: 200px;max-width: 100%;overflow: auto;}#sk-container-id-5 input.sk-toggleable__control:checked~label.sk-toggleable__label-arrow:before {content: \"▾\";}#sk-container-id-5 div.sk-estimator input.sk-toggleable__control:checked~label.sk-toggleable__label {background-color: #d4ebff;}#sk-container-id-5 div.sk-label input.sk-toggleable__control:checked~label.sk-toggleable__label {background-color: #d4ebff;}#sk-container-id-5 input.sk-hidden--visually {border: 0;clip: rect(1px 1px 1px 1px);clip: rect(1px, 1px, 1px, 1px);height: 1px;margin: -1px;overflow: hidden;padding: 0;position: absolute;width: 1px;}#sk-container-id-5 div.sk-estimator {font-family: monospace;background-color: #f0f8ff;border: 1px dotted black;border-radius: 0.25em;box-sizing: border-box;margin-bottom: 0.5em;}#sk-container-id-5 div.sk-estimator:hover {background-color: #d4ebff;}#sk-container-id-5 div.sk-parallel-item::after {content: \"\";width: 100%;border-bottom: 1px solid gray;flex-grow: 1;}#sk-container-id-5 div.sk-label:hover label.sk-toggleable__label {background-color: #d4ebff;}#sk-container-id-5 div.sk-serial::before {content: \"\";position: absolute;border-left: 1px solid gray;box-sizing: border-box;top: 0;bottom: 0;left: 50%;z-index: 0;}#sk-container-id-5 div.sk-serial {display: flex;flex-direction: column;align-items: center;background-color: white;padding-right: 0.2em;padding-left: 0.2em;position: relative;}#sk-container-id-5 div.sk-item {position: relative;z-index: 1;}#sk-container-id-5 div.sk-parallel {display: flex;align-items: stretch;justify-content: center;background-color: white;position: relative;}#sk-container-id-5 div.sk-item::before, #sk-container-id-5 div.sk-parallel-item::before {content: \"\";position: absolute;border-left: 1px solid gray;box-sizing: border-box;top: 0;bottom: 0;left: 50%;z-index: -1;}#sk-container-id-5 div.sk-parallel-item {display: flex;flex-direction: column;z-index: 1;position: relative;background-color: white;}#sk-container-id-5 div.sk-parallel-item:first-child::after {align-self: flex-end;width: 50%;}#sk-container-id-5 div.sk-parallel-item:last-child::after {align-self: flex-start;width: 50%;}#sk-container-id-5 div.sk-parallel-item:only-child::after {width: 0;}#sk-container-id-5 div.sk-dashed-wrapped {border: 1px dashed gray;margin: 0 0.4em 0.5em 0.4em;box-sizing: border-box;padding-bottom: 0.4em;background-color: white;}#sk-container-id-5 div.sk-label label {font-family: monospace;font-weight: bold;display: inline-block;line-height: 1.2em;}#sk-container-id-5 div.sk-label-container {text-align: center;}#sk-container-id-5 div.sk-container {/* jupyter's `normalize.less` sets `[hidden] { display: none; }` but bootstrap.min.css set `[hidden] { display: none !important; }` so we also need the `!important` here to be able to override the default hidden behavior on the sphinx rendered scikit-learn.org. See: https://github.com/scikit-learn/scikit-learn/issues/21755 */display: inline-block !important;position: relative;}#sk-container-id-5 div.sk-text-repr-fallback {display: none;}</style><div id=\"sk-container-id-5\" class=\"sk-top-container\"><div class=\"sk-text-repr-fallback\"><pre>OpenSetClassifier(clf_kwargs={&#x27;class_weight&#x27;: &#x27;balanced&#x27;,\n",
       "                              &#x27;max_features&#x27;: &#x27;sqrt&#x27;, &#x27;n_estimators&#x27;: 100,\n",
       "                              &#x27;random_state&#x27;: 42},\n",
       "                  clf_model=&lt;class &#x27;sklearn.ensemble._forest.RandomForestClassifier&#x27;&gt;,\n",
       "                  outlier_kwargs={&#x27;contamination&#x27;: 0.15, &#x27;n_estimators&#x27;: 100,\n",
       "                                  &#x27;random_state&#x27;: 42},\n",
       "                  outlier_model=&lt;class &#x27;sklearn.ensemble._iforest.IsolationForest&#x27;&gt;,\n",
       "                  score_using=&#x27;setosa&#x27;, unknown_class=&#x27;UNKNOWN&#x27;)</pre><b>In a Jupyter environment, please rerun this cell to show the HTML representation or trust the notebook. <br />On GitHub, the HTML representation is unable to render, please try loading this page with nbviewer.org.</b></div><div class=\"sk-container\" hidden><div class=\"sk-item\"><div class=\"sk-estimator sk-toggleable\"><input class=\"sk-toggleable__control sk-hidden--visually\" id=\"sk-estimator-id-5\" type=\"checkbox\" checked><label for=\"sk-estimator-id-5\" class=\"sk-toggleable__label sk-toggleable__label-arrow\">OpenSetClassifier</label><div class=\"sk-toggleable__content\"><pre>OpenSetClassifier(clf_kwargs={&#x27;class_weight&#x27;: &#x27;balanced&#x27;,\n",
       "                              &#x27;max_features&#x27;: &#x27;sqrt&#x27;, &#x27;n_estimators&#x27;: 100,\n",
       "                              &#x27;random_state&#x27;: 42},\n",
       "                  clf_model=&lt;class &#x27;sklearn.ensemble._forest.RandomForestClassifier&#x27;&gt;,\n",
       "                  outlier_kwargs={&#x27;contamination&#x27;: 0.15, &#x27;n_estimators&#x27;: 100,\n",
       "                                  &#x27;random_state&#x27;: 42},\n",
       "                  outlier_model=&lt;class &#x27;sklearn.ensemble._iforest.IsolationForest&#x27;&gt;,\n",
       "                  score_using=&#x27;setosa&#x27;, unknown_class=&#x27;UNKNOWN&#x27;)</pre></div></div></div></div></div>"
      ],
      "text/plain": [
       "OpenSetClassifier(clf_kwargs={'class_weight': 'balanced',\n",
       "                              'max_features': 'sqrt', 'n_estimators': 100,\n",
       "                              'random_state': 42},\n",
       "                  clf_model=<class 'sklearn.ensemble._forest.RandomForestClassifier'>,\n",
       "                  outlier_kwargs={'contamination': 0.15, 'n_estimators': 100,\n",
       "                                  'random_state': 42},\n",
       "                  outlier_model=<class 'sklearn.ensemble._iforest.IsolationForest'>,\n",
       "                  score_using='setosa', unknown_class='UNKNOWN')"
      ]
     },
     "execution_count": 55,
     "metadata": {},
     "output_type": "execute_result"
    }
   ],
   "source": [
    "osc.fit(X_train_binary, y_train_binary)"
   ]
  },
  {
   "cell_type": "code",
   "execution_count": 56,
   "id": "c881bf7b",
   "metadata": {
    "ExecuteTime": {
     "end_time": "2024-09-23T20:21:03.745854Z",
     "start_time": "2024-09-23T20:21:03.658184Z"
    },
    "colab": {
     "base_uri": "https://localhost:8080/"
    },
    "id": "c881bf7b",
    "outputId": "0233f8fa-efe2-44b5-aac7-54912893c1a2"
   },
   "outputs": [
    {
     "data": {
      "text/plain": [
       "0.9486832980505138"
      ]
     },
     "execution_count": 56,
     "metadata": {},
     "output_type": "execute_result"
    }
   ],
   "source": [
    "osc.score(X_train, y_train)"
   ]
  },
  {
   "cell_type": "code",
   "execution_count": 57,
   "id": "50144752",
   "metadata": {
    "ExecuteTime": {
     "end_time": "2024-09-23T20:21:03.831054Z",
     "start_time": "2024-09-23T20:21:03.747972Z"
    },
    "id": "50144752"
   },
   "outputs": [],
   "source": [
    "# Predict on the entire dataset which also includes versicolor as an unknown unknown\n",
    "res = osc.figures_of_merit(osc.predict(X_train), y_train)"
   ]
  },
  {
   "cell_type": "code",
   "execution_count": 58,
   "id": "73ae018b",
   "metadata": {
    "ExecuteTime": {
     "end_time": "2024-09-23T20:21:03.882884Z",
     "start_time": "2024-09-23T20:21:03.833562Z"
    },
    "colab": {
     "base_uri": "https://localhost:8080/"
    },
    "id": "73ae018b",
    "outputId": "81f9a7fb-5066-46db-c53a-5d16dbe9896c"
   },
   "outputs": [
    {
     "data": {
      "text/plain": [
       "{'CM':             KNOWN ALTERNATIVE  setosa  UNKNOWN\n",
       " setosa                      0      36        4\n",
       " versicolor                  2       0       38\n",
       " virginica                  32       0        8,\n",
       " 'I': KNOWN ALTERNATIVE     0\n",
       " setosa               40\n",
       " versicolor           40\n",
       " virginica            40\n",
       " dtype: int64,\n",
       " 'CSPS': {'KNOWN ALTERNATIVE': nan, 'versicolor': 1.0, 'virginica': 1.0},\n",
       " 'TSNS': 0.9,\n",
       " 'TSPS': 1.0,\n",
       " 'TEFF': 0.9486832980505138,\n",
       " 'ACC': 0.9666666666666667}"
      ]
     },
     "execution_count": 58,
     "metadata": {},
     "output_type": "execute_result"
    }
   ],
   "source": [
    "res # The results are now reported as if this is a OCC"
   ]
  },
  {
   "cell_type": "code",
   "execution_count": 59,
   "id": "d0517778",
   "metadata": {
    "ExecuteTime": {
     "end_time": "2024-09-23T20:21:03.969132Z",
     "start_time": "2024-09-23T20:21:03.918745Z"
    },
    "colab": {
     "base_uri": "https://localhost:8080/",
     "height": 143
    },
    "id": "d0517778",
    "outputId": "5cc37dbe-a0a8-4e4b-fa04-810f1b9b7045"
   },
   "outputs": [
    {
     "data": {
      "text/html": [
       "<div>\n",
       "<style scoped>\n",
       "    .dataframe tbody tr th:only-of-type {\n",
       "        vertical-align: middle;\n",
       "    }\n",
       "\n",
       "    .dataframe tbody tr th {\n",
       "        vertical-align: top;\n",
       "    }\n",
       "\n",
       "    .dataframe thead th {\n",
       "        text-align: right;\n",
       "    }\n",
       "</style>\n",
       "<table border=\"1\" class=\"dataframe\">\n",
       "  <thead>\n",
       "    <tr style=\"text-align: right;\">\n",
       "      <th></th>\n",
       "      <th>KNOWN ALTERNATIVE</th>\n",
       "      <th>setosa</th>\n",
       "      <th>UNKNOWN</th>\n",
       "    </tr>\n",
       "  </thead>\n",
       "  <tbody>\n",
       "    <tr>\n",
       "      <th>setosa</th>\n",
       "      <td>0</td>\n",
       "      <td>36</td>\n",
       "      <td>4</td>\n",
       "    </tr>\n",
       "    <tr>\n",
       "      <th>versicolor</th>\n",
       "      <td>2</td>\n",
       "      <td>0</td>\n",
       "      <td>38</td>\n",
       "    </tr>\n",
       "    <tr>\n",
       "      <th>virginica</th>\n",
       "      <td>32</td>\n",
       "      <td>0</td>\n",
       "      <td>8</td>\n",
       "    </tr>\n",
       "  </tbody>\n",
       "</table>\n",
       "</div>"
      ],
      "text/plain": [
       "            KNOWN ALTERNATIVE  setosa  UNKNOWN\n",
       "setosa                      0      36        4\n",
       "versicolor                  2       0       38\n",
       "virginica                  32       0        8"
      ]
     },
     "execution_count": 59,
     "metadata": {},
     "output_type": "execute_result"
    }
   ],
   "source": [
    "res['CM']"
   ]
  },
  {
   "cell_type": "code",
   "execution_count": 60,
   "id": "d9a1df1a",
   "metadata": {
    "ExecuteTime": {
     "end_time": "2024-09-23T20:21:07.104296Z",
     "start_time": "2024-09-23T20:21:07.048424Z"
    },
    "colab": {
     "base_uri": "https://localhost:8080/"
    },
    "id": "d9a1df1a",
    "outputId": "68c2c2b0-bd39-49c2-b01b-276c090de8b1"
   },
   "outputs": [
    {
     "data": {
      "text/plain": [
       "(0.9, 1.0, 0.9486832980505138)"
      ]
     },
     "execution_count": 60,
     "metadata": {},
     "output_type": "execute_result"
    }
   ],
   "source": [
    "tsns = 36 / 40. # 35 correctly recognized as setosa\n",
    "tsps = (40 + 40) / (40 + 40.) # All others correctly NOT assigned to setosa\n",
    "teff = (tsns * tsps)**0.5\n",
    "\n",
    "tsns, tsps, teff"
   ]
  },
  {
   "cell_type": "markdown",
   "id": "3eddcbab",
   "metadata": {
    "id": "3eddcbab"
   },
   "source": [
    "# Case 5: Enabling OCCs to Detect New Alternative Classes\n",
    "\n",
    "Compliant OCC's contain a bias since they are trained using information about known alternatives.  Rigorous models use only information about the target class.  Compliant models tend to appear more performant on the surface, but the underlying bias is hard to quantify.  Adding an outlier detector to this can help detect covariate or semantic shift away from the target + known alternative classes."
   ]
  },
  {
   "cell_type": "code",
   "execution_count": 61,
   "id": "a8dab894",
   "metadata": {
    "ExecuteTime": {
     "end_time": "2024-09-23T20:21:24.710722Z",
     "start_time": "2024-09-23T20:21:24.623621Z"
    },
    "id": "a8dab894"
   },
   "outputs": [],
   "source": [
    "osc = OpenSetClassifier(\n",
    "    clf_model=SIMCA_Authenticator,\n",
    "    clf_kwargs={\n",
    "        'n_components':3,\n",
    "        'alpha':0.05,\n",
    "        'gamma':0.01,\n",
    "        'target_class':target,\n",
    "        'style':'dd-simca',\n",
    "        'use':'compliant', # Allows the model to use all classes that make it through the outlier detector\n",
    "        'scale_x':True,\n",
    "        'robust':'semi',\n",
    "        'sft':False,\n",
    "    },\n",
    "    outlier_model=IsolationForest,\n",
    "    outlier_kwargs={\n",
    "        'n_estimators':100,\n",
    "        'contamination':0.15, # In practice, this is very important to tune correctly\n",
    "        'random_state':42,\n",
    "    },\n",
    "    inlier_value=1,\n",
    "    unknown_class=\"UNKNOWN\",\n",
    "    score_metric='TEFF',\n",
    "    clf_style='hard', # SIMCA returns Y/N membership which is hard\n",
    "    score_using=target # Now score the model using only the target class as the positive class, others are all negative\n",
    ")"
   ]
  },
  {
   "cell_type": "code",
   "execution_count": 62,
   "id": "6aa8e56f",
   "metadata": {
    "ExecuteTime": {
     "end_time": "2024-09-23T20:21:26.047847Z",
     "start_time": "2024-09-23T20:21:25.700805Z"
    },
    "colab": {
     "base_uri": "https://localhost:8080/",
     "height": 214
    },
    "id": "6aa8e56f",
    "outputId": "5cfa1e79-7bdf-402b-f4f9-f49d8fc27ac3"
   },
   "outputs": [
    {
     "data": {
      "text/html": [
       "<style>#sk-container-id-6 {color: black;}#sk-container-id-6 pre{padding: 0;}#sk-container-id-6 div.sk-toggleable {background-color: white;}#sk-container-id-6 label.sk-toggleable__label {cursor: pointer;display: block;width: 100%;margin-bottom: 0;padding: 0.3em;box-sizing: border-box;text-align: center;}#sk-container-id-6 label.sk-toggleable__label-arrow:before {content: \"▸\";float: left;margin-right: 0.25em;color: #696969;}#sk-container-id-6 label.sk-toggleable__label-arrow:hover:before {color: black;}#sk-container-id-6 div.sk-estimator:hover label.sk-toggleable__label-arrow:before {color: black;}#sk-container-id-6 div.sk-toggleable__content {max-height: 0;max-width: 0;overflow: hidden;text-align: left;background-color: #f0f8ff;}#sk-container-id-6 div.sk-toggleable__content pre {margin: 0.2em;color: black;border-radius: 0.25em;background-color: #f0f8ff;}#sk-container-id-6 input.sk-toggleable__control:checked~div.sk-toggleable__content {max-height: 200px;max-width: 100%;overflow: auto;}#sk-container-id-6 input.sk-toggleable__control:checked~label.sk-toggleable__label-arrow:before {content: \"▾\";}#sk-container-id-6 div.sk-estimator input.sk-toggleable__control:checked~label.sk-toggleable__label {background-color: #d4ebff;}#sk-container-id-6 div.sk-label input.sk-toggleable__control:checked~label.sk-toggleable__label {background-color: #d4ebff;}#sk-container-id-6 input.sk-hidden--visually {border: 0;clip: rect(1px 1px 1px 1px);clip: rect(1px, 1px, 1px, 1px);height: 1px;margin: -1px;overflow: hidden;padding: 0;position: absolute;width: 1px;}#sk-container-id-6 div.sk-estimator {font-family: monospace;background-color: #f0f8ff;border: 1px dotted black;border-radius: 0.25em;box-sizing: border-box;margin-bottom: 0.5em;}#sk-container-id-6 div.sk-estimator:hover {background-color: #d4ebff;}#sk-container-id-6 div.sk-parallel-item::after {content: \"\";width: 100%;border-bottom: 1px solid gray;flex-grow: 1;}#sk-container-id-6 div.sk-label:hover label.sk-toggleable__label {background-color: #d4ebff;}#sk-container-id-6 div.sk-serial::before {content: \"\";position: absolute;border-left: 1px solid gray;box-sizing: border-box;top: 0;bottom: 0;left: 50%;z-index: 0;}#sk-container-id-6 div.sk-serial {display: flex;flex-direction: column;align-items: center;background-color: white;padding-right: 0.2em;padding-left: 0.2em;position: relative;}#sk-container-id-6 div.sk-item {position: relative;z-index: 1;}#sk-container-id-6 div.sk-parallel {display: flex;align-items: stretch;justify-content: center;background-color: white;position: relative;}#sk-container-id-6 div.sk-item::before, #sk-container-id-6 div.sk-parallel-item::before {content: \"\";position: absolute;border-left: 1px solid gray;box-sizing: border-box;top: 0;bottom: 0;left: 50%;z-index: -1;}#sk-container-id-6 div.sk-parallel-item {display: flex;flex-direction: column;z-index: 1;position: relative;background-color: white;}#sk-container-id-6 div.sk-parallel-item:first-child::after {align-self: flex-end;width: 50%;}#sk-container-id-6 div.sk-parallel-item:last-child::after {align-self: flex-start;width: 50%;}#sk-container-id-6 div.sk-parallel-item:only-child::after {width: 0;}#sk-container-id-6 div.sk-dashed-wrapped {border: 1px dashed gray;margin: 0 0.4em 0.5em 0.4em;box-sizing: border-box;padding-bottom: 0.4em;background-color: white;}#sk-container-id-6 div.sk-label label {font-family: monospace;font-weight: bold;display: inline-block;line-height: 1.2em;}#sk-container-id-6 div.sk-label-container {text-align: center;}#sk-container-id-6 div.sk-container {/* jupyter's `normalize.less` sets `[hidden] { display: none; }` but bootstrap.min.css set `[hidden] { display: none !important; }` so we also need the `!important` here to be able to override the default hidden behavior on the sphinx rendered scikit-learn.org. See: https://github.com/scikit-learn/scikit-learn/issues/21755 */display: inline-block !important;position: relative;}#sk-container-id-6 div.sk-text-repr-fallback {display: none;}</style><div id=\"sk-container-id-6\" class=\"sk-top-container\"><div class=\"sk-text-repr-fallback\"><pre>OpenSetClassifier(clf_kwargs={&#x27;alpha&#x27;: 0.05, &#x27;gamma&#x27;: 0.01, &#x27;n_components&#x27;: 3,\n",
       "                              &#x27;robust&#x27;: &#x27;semi&#x27;, &#x27;scale_x&#x27;: True, &#x27;sft&#x27;: False,\n",
       "                              &#x27;style&#x27;: &#x27;dd-simca&#x27;, &#x27;target_class&#x27;: &#x27;setosa&#x27;,\n",
       "                              &#x27;use&#x27;: &#x27;compliant&#x27;},\n",
       "                  clf_model=&lt;class &#x27;pychemauth.classifier.simca.SIMCA_Authenticator&#x27;&gt;,\n",
       "                  outlier_kwargs={&#x27;contamination&#x27;: 0.15, &#x27;n_estimators&#x27;: 100,\n",
       "                                  &#x27;random_state&#x27;: 42},\n",
       "                  outlier_model=&lt;class &#x27;sklearn.ensemble._iforest.IsolationForest&#x27;&gt;,\n",
       "                  score_using=&#x27;setosa&#x27;, unknown_class=&#x27;UNKNOWN&#x27;)</pre><b>In a Jupyter environment, please rerun this cell to show the HTML representation or trust the notebook. <br />On GitHub, the HTML representation is unable to render, please try loading this page with nbviewer.org.</b></div><div class=\"sk-container\" hidden><div class=\"sk-item\"><div class=\"sk-estimator sk-toggleable\"><input class=\"sk-toggleable__control sk-hidden--visually\" id=\"sk-estimator-id-6\" type=\"checkbox\" checked><label for=\"sk-estimator-id-6\" class=\"sk-toggleable__label sk-toggleable__label-arrow\">OpenSetClassifier</label><div class=\"sk-toggleable__content\"><pre>OpenSetClassifier(clf_kwargs={&#x27;alpha&#x27;: 0.05, &#x27;gamma&#x27;: 0.01, &#x27;n_components&#x27;: 3,\n",
       "                              &#x27;robust&#x27;: &#x27;semi&#x27;, &#x27;scale_x&#x27;: True, &#x27;sft&#x27;: False,\n",
       "                              &#x27;style&#x27;: &#x27;dd-simca&#x27;, &#x27;target_class&#x27;: &#x27;setosa&#x27;,\n",
       "                              &#x27;use&#x27;: &#x27;compliant&#x27;},\n",
       "                  clf_model=&lt;class &#x27;pychemauth.classifier.simca.SIMCA_Authenticator&#x27;&gt;,\n",
       "                  outlier_kwargs={&#x27;contamination&#x27;: 0.15, &#x27;n_estimators&#x27;: 100,\n",
       "                                  &#x27;random_state&#x27;: 42},\n",
       "                  outlier_model=&lt;class &#x27;sklearn.ensemble._iforest.IsolationForest&#x27;&gt;,\n",
       "                  score_using=&#x27;setosa&#x27;, unknown_class=&#x27;UNKNOWN&#x27;)</pre></div></div></div></div></div>"
      ],
      "text/plain": [
       "OpenSetClassifier(clf_kwargs={'alpha': 0.05, 'gamma': 0.01, 'n_components': 3,\n",
       "                              'robust': 'semi', 'scale_x': True, 'sft': False,\n",
       "                              'style': 'dd-simca', 'target_class': 'setosa',\n",
       "                              'use': 'compliant'},\n",
       "                  clf_model=<class 'pychemauth.classifier.simca.SIMCA_Authenticator'>,\n",
       "                  outlier_kwargs={'contamination': 0.15, 'n_estimators': 100,\n",
       "                                  'random_state': 42},\n",
       "                  outlier_model=<class 'sklearn.ensemble._iforest.IsolationForest'>,\n",
       "                  score_using='setosa', unknown_class='UNKNOWN')"
      ]
     },
     "execution_count": 62,
     "metadata": {},
     "output_type": "execute_result"
    }
   ],
   "source": [
    "osc.fit(X_train_binary, y_train_binary)"
   ]
  },
  {
   "cell_type": "code",
   "execution_count": 63,
   "id": "8d96efdc",
   "metadata": {
    "ExecuteTime": {
     "end_time": "2024-09-23T20:21:28.889337Z",
     "start_time": "2024-09-23T20:21:28.802233Z"
    },
    "id": "8d96efdc"
   },
   "outputs": [],
   "source": [
    "# OCC predict T/F while OD returns \"UNKNOWN\" string, so let's convert this to the same format.\n",
    "\n",
    "def convert_predictions_to_occ(X, target, alternative_class='KNOWN ALTERNATIVE'):\n",
    "    pred_ = osc.predict(X)\n",
    "    preds = []\n",
    "    for i in range(len(pred_)):\n",
    "        if pred_[i] == True:\n",
    "            preds.append(target)\n",
    "        elif pred_[i] == False:\n",
    "            preds.append(alternative_class)\n",
    "        else:\n",
    "            preds.append(pred_[i])\n",
    "\n",
    "    return preds"
   ]
  },
  {
   "cell_type": "code",
   "execution_count": 64,
   "id": "dab72185",
   "metadata": {
    "ExecuteTime": {
     "end_time": "2024-09-23T20:21:29.600653Z",
     "start_time": "2024-09-23T20:21:29.502227Z"
    },
    "colab": {
     "base_uri": "https://localhost:8080/",
     "height": 143
    },
    "id": "dab72185",
    "outputId": "f2b99a71-277c-4168-d62c-5cce6e5f4f80"
   },
   "outputs": [
    {
     "data": {
      "text/html": [
       "<div>\n",
       "<style scoped>\n",
       "    .dataframe tbody tr th:only-of-type {\n",
       "        vertical-align: middle;\n",
       "    }\n",
       "\n",
       "    .dataframe tbody tr th {\n",
       "        vertical-align: top;\n",
       "    }\n",
       "\n",
       "    .dataframe thead th {\n",
       "        text-align: right;\n",
       "    }\n",
       "</style>\n",
       "<table border=\"1\" class=\"dataframe\">\n",
       "  <thead>\n",
       "    <tr style=\"text-align: right;\">\n",
       "      <th></th>\n",
       "      <th>KNOWN ALTERNATIVE</th>\n",
       "      <th>setosa</th>\n",
       "      <th>UNKNOWN</th>\n",
       "    </tr>\n",
       "  </thead>\n",
       "  <tbody>\n",
       "    <tr>\n",
       "      <th>setosa</th>\n",
       "      <td>6</td>\n",
       "      <td>30</td>\n",
       "      <td>4</td>\n",
       "    </tr>\n",
       "    <tr>\n",
       "      <th>versicolor</th>\n",
       "      <td>2</td>\n",
       "      <td>0</td>\n",
       "      <td>38</td>\n",
       "    </tr>\n",
       "    <tr>\n",
       "      <th>virginica</th>\n",
       "      <td>32</td>\n",
       "      <td>0</td>\n",
       "      <td>8</td>\n",
       "    </tr>\n",
       "  </tbody>\n",
       "</table>\n",
       "</div>"
      ],
      "text/plain": [
       "            KNOWN ALTERNATIVE  setosa  UNKNOWN\n",
       "setosa                      6      30        4\n",
       "versicolor                  2       0       38\n",
       "virginica                  32       0        8"
      ]
     },
     "execution_count": 64,
     "metadata": {},
     "output_type": "execute_result"
    }
   ],
   "source": [
    "# 2 versicolor were (incorrectly) considered to belong to a known alternative (virginica), but most were classified as\n",
    "# entirely novel (UNKNOWN) by the outlier detector!  The virginica were mostly recognized correctly as a known alternative.\n",
    "\n",
    "res = osc.figures_of_merit(convert_predictions_to_occ(X_train, target), y_train)\n",
    "res['CM']"
   ]
  },
  {
   "cell_type": "code",
   "execution_count": 65,
   "id": "a8da68d9",
   "metadata": {
    "ExecuteTime": {
     "end_time": "2024-09-23T20:21:30.061125Z",
     "start_time": "2024-09-23T20:21:29.975172Z"
    },
    "colab": {
     "base_uri": "https://localhost:8080/"
    },
    "id": "a8da68d9",
    "outputId": "6898d630-42fe-464e-e517-a04fd2a00520"
   },
   "outputs": [
    {
     "data": {
      "text/plain": [
       "(0.75, 1.0, 0.9166666666666666)"
      ]
     },
     "execution_count": 65,
     "metadata": {},
     "output_type": "execute_result"
    }
   ],
   "source": [
    "tsns = 30 / 40.\n",
    "tsps = (40 + 40) / 80.\n",
    "acc = (30 + (2+38) + (32+8)) / (40 + 40 + 40.)\n",
    "tsns, tsps, acc"
   ]
  },
  {
   "cell_type": "code",
   "execution_count": 66,
   "id": "851b0692",
   "metadata": {
    "ExecuteTime": {
     "end_time": "2024-09-23T20:21:30.680628Z",
     "start_time": "2024-09-23T20:21:30.603384Z"
    },
    "colab": {
     "base_uri": "https://localhost:8080/"
    },
    "id": "851b0692",
    "outputId": "6490ff77-15fb-4199-93a1-9d7c5b9c1f0a"
   },
   "outputs": [
    {
     "data": {
      "text/plain": [
       "{'CM':             KNOWN ALTERNATIVE  setosa  UNKNOWN\n",
       " setosa                      6      30        4\n",
       " versicolor                  2       0       38\n",
       " virginica                  32       0        8,\n",
       " 'I': KNOWN ALTERNATIVE     0\n",
       " setosa               40\n",
       " versicolor           40\n",
       " virginica            40\n",
       " dtype: int64,\n",
       " 'CSPS': {'KNOWN ALTERNATIVE': nan, 'versicolor': 1.0, 'virginica': 1.0},\n",
       " 'TSNS': 0.75,\n",
       " 'TSPS': 1.0,\n",
       " 'TEFF': 0.8660254037844386,\n",
       " 'ACC': 0.9166666666666666}"
      ]
     },
     "execution_count": 66,
     "metadata": {},
     "output_type": "execute_result"
    }
   ],
   "source": [
    "res"
   ]
  },
  {
   "cell_type": "markdown",
   "id": "16853703",
   "metadata": {},
   "source": [
    "# Case 6: OSR Models with Prefit Deep Classifiers\n",
    "\n",
    "We can also use deep models (such as feed-forward or convolutional neural networks) as classifiers!  However, given they are expensive to train and optimize, it is best to do this separately.  In this procedure, a closed-set model is trained to recognize a set of classes and saved to disk.  Then, to apply to this under open-set conditions we can combine this with an outlier detector to detect OOD points.  Thus, during training of the `OpenSetClassifier` only the outlier detector needs to be trained."
   ]
  },
  {
   "cell_type": "markdown",
   "id": "1e30c04d",
   "metadata": {},
   "source": [
    "<h3>Deep OOD Methods</h3>\n",
    "\n",
    "There are many methods to perform OOD detection with deep neural networks.  Two of the simplest and most general are:\n",
    "\n",
    "1. [Softmax confidence scores](https://arxiv.org/pdf/1610.02136.pdf)\n",
    "2. [Energy-based scores](https://proceedings.neurips.cc/paper/2020/file/f5496252609c43eb8a3d147ab9b9c006-Paper.pdf)\n",
    "\n",
    "Briefly, the idea behind (1) is the if you have a deep classifier which outputs class probabilities you predict the class with the highest one.  If the highest probability is not very high, then the model is likely \"confused\" and this is its \"best guess\" though it appears to not be very good in absolute terms.  Thus, the maximum probability of all the possible classes can be taken as a measure of the model's confidence in its response.  This is just a baseline; though it is not perfect, it can work surprisingly well.\n",
    "\n",
    "The idea behind (2) is that you can take [logits](https://datascience.stackexchange.com/questions/31041/what-does-logits-in-machine-learning-mean) (probability = softmax(logit) = exp(logit) / sumexp(all logits)) associated with each possible class and compute a \"Helmholtz free energy\" for this set.  Based on approximately on similar logic as (1), this has certain mathematical properties that make it more appealing.   Observations with a low free energy are \"stable\" and considered ID, while those with a high free energy are OOD.  Because it is convention to have a lower bound on the ID, below which the OOD samples lie, the *negative* free energy is taken as the score.\n",
    "\n",
    "In both cases, a threshold can be defined by computing these scores over the test set, choosing a Type I error rate (e.g., $\\alpha = 0.05$), then determining a value.  Samples which score below this threshold are OOD, samples which score above are ID; the former are simply considered \"unknown\" while the latter are sent to the closed-set classifier for identification.\n",
    "\n",
    "In an example architecture like the one show below, the softmax scores are extracted at the end of the model (rightmost gray arrow) while the energy-based scores (logits) are extracted before the softmax layer (middle gray arrow).  Such a model will be used in the calculations below.\n",
    "\n",
    "<img src=\"https://github.com/mahynski/pychemauth/blob/develop/docs/_static/cnn.png?raw=1\" style=\"width:700px;\">"
   ]
  },
  {
   "cell_type": "markdown",
   "id": "0e3887c9",
   "metadata": {},
   "source": [
    "<h3>Load models and data</h3>"
   ]
  },
  {
   "cell_type": "code",
   "execution_count": 92,
   "id": "a380d352",
   "metadata": {
    "ExecuteTime": {
     "end_time": "2024-09-24T00:53:37.526792Z",
     "start_time": "2024-09-24T00:53:35.387390Z"
    }
   },
   "outputs": [],
   "source": [
    "# Let's use a pretrained classifier for this demonstration\n",
    "model = utils.HuggingFace.from_pretrained(\n",
    "    model_id=\"mahynski/2d-cnn-demo\",\n",
    ")"
   ]
  },
  {
   "cell_type": "code",
   "execution_count": 93,
   "id": "24d0a12f",
   "metadata": {
    "ExecuteTime": {
     "end_time": "2024-09-24T00:53:37.608402Z",
     "start_time": "2024-09-24T00:53:37.529331Z"
    }
   },
   "outputs": [
    {
     "name": "stdout",
     "output_type": "stream",
     "text": [
      "Model: \"model_7\"\n",
      "_________________________________________________________________\n",
      " Layer (type)                Output Shape              Param #   \n",
      "=================================================================\n",
      " input_11 (InputLayer)       [(None, 2631, 2631, 1)]   0         \n",
      "                                                                 \n",
      " conv2d_2 (Conv2D)           (None, 2631, 2631, 3)     3         \n",
      "                                                                 \n",
      " rescaling_2 (Rescaling)     (None, 2631, 2631, 3)     0         \n",
      "                                                                 \n",
      " tf.math.truediv_2 (TFOpLam  (None, 2631, 2631, 3)     0         \n",
      " bda)                                                            \n",
      "                                                                 \n",
      " tf.math.subtract_2 (TFOpLa  (None, 2631, 2631, 3)     0         \n",
      " mbda)                                                           \n",
      "                                                                 \n",
      " mobilenet_1.00_224 (Functi  (None, 82, 82, 1024)      3228864   \n",
      " onal)                                                           \n",
      "                                                                 \n",
      " global_average_pooling2d_2  (None, 1024)              0         \n",
      "  (GlobalAveragePooling2D)                                       \n",
      "                                                                 \n",
      " dropout_2 (Dropout)         (None, 1024)              0         \n",
      "                                                                 \n",
      " dense_7 (Dense)             (None, 10)                10250     \n",
      "                                                                 \n",
      "=================================================================\n",
      "Total params: 3239117 (12.36 MB)\n",
      "Trainable params: 10250 (40.04 KB)\n",
      "Non-trainable params: 3228867 (12.32 MB)\n",
      "_________________________________________________________________\n"
     ]
    }
   ],
   "source": [
    "# Observe how this relates to the figure above\n",
    "model.summary()"
   ]
  },
  {
   "cell_type": "code",
   "execution_count": 5,
   "id": "3d1a152c",
   "metadata": {
    "ExecuteTime": {
     "end_time": "2024-09-24T17:29:44.252612Z",
     "start_time": "2024-09-24T17:28:34.367751Z"
    }
   },
   "outputs": [
    {
     "name": "stderr",
     "output_type": "stream",
     "text": [
      "Transforming train set: 100%|█████████████████████████████████████████████████████████| 243/243 [00:50<00:00,  4.83it/s]\n",
      "Transforming test set: 100%|████████████████████████████████████████████████████████████| 61/61 [00:13<00:00,  4.46it/s]\n"
     ]
    }
   ],
   "source": [
    "# This model was trained on 2D \"imaged\" PGAA spectra - let's write that dataset to disk\n",
    "res = make_pgaa_images(\n",
    "    transformer=GramianAngularField(method='difference'), \n",
    "    exclude_classes=['Carbon Powder', 'Phosphate Rock', 'Zircaloy'], \n",
    "    valid_range=(0, 2631), \n",
    "    renormalize=True,\n",
    "    test_size=0.2,\n",
    "    random_state=42,\n",
    "    directory='./2d-dataset/',\n",
    "    overwrite=True,\n",
    ")"
   ]
  },
  {
   "cell_type": "code",
   "execution_count": 7,
   "id": "7eedb999",
   "metadata": {
    "ExecuteTime": {
     "end_time": "2024-09-24T17:30:30.285209Z",
     "start_time": "2024-09-24T17:30:30.227277Z"
    }
   },
   "outputs": [],
   "source": [
    "# This dataset contains 10 classes indexed from [0, 9]\n",
    "encoder = res[-1]"
   ]
  },
  {
   "cell_type": "code",
   "execution_count": 8,
   "id": "563a02bb",
   "metadata": {
    "ExecuteTime": {
     "end_time": "2024-09-24T17:30:44.876353Z",
     "start_time": "2024-09-24T17:30:34.349697Z"
    }
   },
   "outputs": [],
   "source": [
    "# Load the challenge data\n",
    "res_challenge = make_pgaa_images(\n",
    "    transformer=GramianAngularField(method='difference'), \n",
    "    exclude_classes=encoder.classes_, # Exclude the ones we already trained on \n",
    "    valid_range=(0, 2631), \n",
    "    renormalize=True,\n",
    "    test_size=0.0,\n",
    ")\n",
    "X_challenge, _, y_challenge, _, _, encoder_challenge = res_challenge\n",
    "\n",
    "# Map the y_challenge classes of [0, 1, 2] -> [10, 11, 12]\n",
    "y_challenge += 10\n",
    "\n",
    "# Split the challenge set (classes [10, 11, 12]) into test/train folds\n",
    "Xc_train, Xc_test, yc_train, yc_test = sklearn.model_selection.train_test_split(\n",
    "    X_challenge, y_challenge, test_size=0.2, stratify=y_challenge, random_state=42, shuffle=True\n",
    ")\n",
    "\n",
    "# Write to disk to use as loaders\n",
    "_ = utils.write_dataset(\n",
    "    directory='./2d-dataset/train',\n",
    "    X=Xc_train,\n",
    "    y=yc_train,\n",
    "    overwrite=False,\n",
    "    augment=True\n",
    ")\n",
    "\n",
    "_ = utils.write_dataset(\n",
    "    directory='./2d-dataset/test',\n",
    "    X=Xc_test,\n",
    "    y=yc_test,\n",
    "    overwrite=False,\n",
    "    augment=True\n",
    ")"
   ]
  },
  {
   "cell_type": "code",
   "execution_count": 9,
   "id": "f13643ef",
   "metadata": {
    "ExecuteTime": {
     "end_time": "2024-09-24T17:30:44.927981Z",
     "start_time": "2024-09-24T17:30:44.878738Z"
    }
   },
   "outputs": [],
   "source": [
    "train_loader = utils.NNTools.build_loader('./2d-dataset/train/', batch_size=10)\n",
    "test_loader = utils.NNTools.build_loader('./2d-dataset/test/', batch_size=10)"
   ]
  },
  {
   "cell_type": "markdown",
   "id": "fe5827d0",
   "metadata": {},
   "source": [
    "<h3>OOD Models</h3>"
   ]
  },
  {
   "cell_type": "code",
   "execution_count": 22,
   "id": "ebc1c32e",
   "metadata": {
    "ExecuteTime": {
     "end_time": "2024-09-24T17:44:16.823062Z",
     "start_time": "2024-09-24T17:44:12.859326Z"
    }
   },
   "outputs": [],
   "source": [
    "def build_classifier(ood_type, featurize=False, updated_kwargs={}):\n",
    "    kwargs = { # Baseline kwargs for OSR\n",
    "        'clf_prefit':True,\n",
    "        'known_classes':np.arange(10), # The model has 10 classes in it\n",
    "        'inlier_value':True,\n",
    "        'unknown_class':-1,\n",
    "        'score_metric':'TEFF',\n",
    "        'clf_style':'hard',\n",
    "        'score_using':'all'\n",
    "    }\n",
    "        \n",
    "    if ood_type.lower() == 'softmax':\n",
    "        outlier_kwargs = {\n",
    "            'model': None if featurize else utils.HuggingFace.from_pretrained(model_id=\"mahynski/2d-cnn-demo\"),\n",
    "            'alpha': 0.05\n",
    "        }\n",
    "        outlier_kwargs.update(updated_kwargs)\n",
    "        kwargs.update({\n",
    "            'clf_model': osr.DeepOOD.SoftmaxFeatureClf() if featurize else utils.HuggingFace.from_pretrained(model_id=\"mahynski/2d-cnn-demo\"),\n",
    "            'outlier_model': osr.DeepOOD.Softmax,\n",
    "            'outlier_kwargs': outlier_kwargs\n",
    "        })\n",
    "    elif ood_type.lower() == 'energy':\n",
    "        outlier_kwargs = {\n",
    "            'model': None if featurize else utils.HuggingFace.from_pretrained(model_id=\"mahynski/2d-cnn-demo\"),\n",
    "            'alpha': 0.05,\n",
    "            'T': 1.0\n",
    "        }\n",
    "        outlier_kwargs.update(updated_kwargs)\n",
    "        kwargs.update({\n",
    "            'clf_model': osr.DeepOOD.EnergyFeatureClf() if featurize else utils.HuggingFace.from_pretrained(model_id=\"mahynski/2d-cnn-demo\"),\n",
    "            'outlier_model': osr.DeepOOD.Energy,\n",
    "            'outlier_kwargs': outlier_kwargs,\n",
    "        })\n",
    "    else:\n",
    "        raise Exception(f'unrecognized {ood_type}')\n",
    "        \n",
    "    return osr.OpenSetClassifier(**kwargs)"
   ]
  },
  {
   "cell_type": "code",
   "execution_count": 25,
   "id": "3307ea67",
   "metadata": {
    "ExecuteTime": {
     "end_time": "2024-09-24T17:59:51.345383Z",
     "start_time": "2024-09-24T17:59:46.384176Z"
    }
   },
   "outputs": [],
   "source": [
    "softmax_model = build_classifier(ood_type='softmax', featurize=False)\n",
    "_ = softmax_model.fit(train_loader)"
   ]
  },
  {
   "cell_type": "code",
   "execution_count": 27,
   "id": "2c99a51b",
   "metadata": {
    "ExecuteTime": {
     "end_time": "2024-09-24T18:04:51.319165Z",
     "start_time": "2024-09-24T18:04:51.239201Z"
    }
   },
   "outputs": [],
   "source": [
    "energy_model = build_classifier(ood_type='energy', featurize=False)\n",
    "_ = energy_model.fit(train_loader)"
   ]
  },
  {
   "cell_type": "code",
   "execution_count": 28,
   "id": "b414c951",
   "metadata": {
    "ExecuteTime": {
     "end_time": "2024-09-24T18:08:04.557151Z",
     "start_time": "2024-09-24T18:05:11.556558Z"
    }
   },
   "outputs": [
    {
     "name": "stdout",
     "output_type": "stream",
     "text": [
      "1/1 [==============================] - 9s 9s/step\n",
      "1/1 [==============================] - 8s 8s/step\n",
      "1/1 [==============================] - 8s 8s/step\n",
      "1/1 [==============================] - 8s 8s/step\n",
      "1/1 [==============================] - 8s 8s/step\n",
      "1/1 [==============================] - 8s 8s/step\n",
      "1/1 [==============================] - 5s 5s/step\n"
     ]
    },
    {
     "name": "stderr",
     "output_type": "stream",
     "text": [
      "2024-09-24 14:06:23.486113: W tensorflow/tsl/framework/cpu_allocator_impl.cc:83] Allocation of 9310457856 exceeds 10% of free system memory.\n",
      "2024-09-24 14:06:24.412880: W tensorflow/tsl/framework/cpu_allocator_impl.cc:83] Allocation of 9324612864 exceeds 10% of free system memory.\n"
     ]
    },
    {
     "name": "stdout",
     "output_type": "stream",
     "text": [
      "1/1 [==============================] - 17s 17s/step\n",
      "1/1 [==============================] - 9s 9s/step\n",
      "1/1 [==============================] - 8s 8s/step\n",
      "1/1 [==============================] - 8s 8s/step\n",
      "1/1 [==============================] - 8s 8s/step\n",
      "1/1 [==============================] - 8s 8s/step\n",
      "1/1 [==============================] - 8s 8s/step\n",
      "1/1 [==============================] - 5s 5s/step\n"
     ]
    },
    {
     "name": "stderr",
     "output_type": "stream",
     "text": [
      "2024-09-24 14:07:49.122783: W tensorflow/tsl/framework/cpu_allocator_impl.cc:83] Allocation of 9310457856 exceeds 10% of free system memory.\n",
      "2024-09-24 14:07:50.035909: W tensorflow/tsl/framework/cpu_allocator_impl.cc:83] Allocation of 9324612864 exceeds 10% of free system memory.\n"
     ]
    },
    {
     "name": "stdout",
     "output_type": "stream",
     "text": [
      "1/1 [==============================] - 18s 18s/step\n"
     ]
    },
    {
     "data": {
      "image/png": "[encoded data removed]",
      "text/plain": [
       "<Figure size 1000x400 with 4 Axes>"
      ]
     },
     "metadata": {},
     "output_type": "display_data"
    }
   ],
   "source": [
    "fig, axes = plt.subplots(nrows=2, ncols=2, figsize=(10, 4))\n",
    "\n",
    "axes[0][0].set_title('Softmax Model')\n",
    "\n",
    "_ = softmax_model.fitted_outlier_model.visualize(\n",
    "    X_test=test_loader, test_label='Test Set (ID)', bins=np.linspace(0, 1, 100+1),\n",
    "    ax=axes[0][0]\n",
    ")\n",
    "axes[0][0].set_yscale('log')\n",
    "\n",
    "_ = softmax_model.fitted_outlier_model.visualize(\n",
    "    X_test=X_challenge, test_label='Challenge Set (OOD)', \n",
    "    no_train=True, bins=np.linspace(0, 1, 100+1), ax=axes[1][0]\n",
    ")\n",
    "\n",
    "axes[0][1].set_title('Energy-based Model')\n",
    "\n",
    "_ = energy_model.fitted_outlier_model.visualize(\n",
    "    X_test=test_loader, test_label='Test Set (ID)', bins=25,\n",
    "    ax=axes[0][1]\n",
    ")\n",
    "_ = energy_model.fitted_outlier_model.visualize(\n",
    "    X_test=X_challenge, test_label='Challenge Set (OOD)', \n",
    "    no_train=True, bins=25, ax=axes[1][1]\n",
    ")"
   ]
  },
  {
   "cell_type": "markdown",
   "id": "081a6cc6",
   "metadata": {},
   "source": [
    "<h3>OSR Training Without Featurization</h3>\n",
    "\n",
    "It is possible to greatly accelerate this training, especially during cross-validation, by featurizing the data.  We will discuss that in the next section, but for now let's proceed without doing this.\n",
    "\n",
    "Let's build a model with some known unknowns present during training.  This \"compliant\" model will be able to see some things it should recognize as OOD and this can help it select certain hyperparameters during cross-validation.  Here, we will not do full CV since it will take too much time, instead we will just fit a single model."
   ]
  },
  {
   "cell_type": "code",
   "execution_count": 29,
   "id": "43c8e89b",
   "metadata": {
    "ExecuteTime": {
     "end_time": "2024-09-24T18:09:24.346101Z",
     "start_time": "2024-09-24T18:09:20.204779Z"
    }
   },
   "outputs": [],
   "source": [
    "# This is just explicitly what the \"build_classifier\" function is doing. Here, the classifier is the CNN model from HF.\n",
    "# We happen to also be using that to determine which points are OOD.  In principle, you could mix and match, i.e.,\n",
    "# use another model (besides the classifier) as an OOD detector, but this is a self-consistent way to do it, and only \n",
    "# requires a single model to be trained.\n",
    "\n",
    "model = osr.OpenSetClassifier(\n",
    "    clf_prefit=True,\n",
    "    known_classes=np.arange(10), # The model recognizes 10 classes\n",
    "    inlier_value=True,\n",
    "    unknown_class=-1,\n",
    "    score_metric='TEFF',\n",
    "    clf_style='hard',\n",
    "    score_using='all',\n",
    "    clf_model=utils.HuggingFace.from_pretrained(model_id=\"mahynski/2d-cnn-demo\"),\n",
    "    outlier_model=osr.DeepOOD.Softmax,\n",
    "    outlier_kwargs = {\n",
    "        'model': utils.HuggingFace.from_pretrained(model_id=\"mahynski/2d-cnn-demo\"),\n",
    "        'alpha': 0.05\n",
    "    }\n",
    ")"
   ]
  },
  {
   "cell_type": "code",
   "execution_count": 30,
   "id": "0847f275",
   "metadata": {
    "ExecuteTime": {
     "end_time": "2024-09-24T18:13:36.723736Z",
     "start_time": "2024-09-24T18:09:24.348948Z"
    }
   },
   "outputs": [
    {
     "name": "stderr",
     "output_type": "stream",
     "text": [
      "Iterating through all batches to summarize, be patient...: 0it [00:00, ?it/s]\n",
      "Iterating through all batches to summarize, be patient...: 0it [00:00, ?it/s]\n",
      "Iterating through all batches to summarize, be patient...: 0it [00:00, ?it/s]\n",
      "Iterating through all batches to summarize, be patient...: 0it [00:00, ?it/s]\n",
      "Iterating through all batches to summarize, be patient...: 0it [00:00, ?it/s]\n",
      "Iterating through all batches to summarize, be patient...: 0it [00:00, ?it/s]\n",
      "Iterating through all batches to summarize, be patient...: 0it [00:00, ?it/s]\n",
      "Iterating through all batches to summarize, be patient...: 0it [00:00, ?it/s]\n",
      "Iterating through all batches to summarize, be patient...: 0it [00:00, ?it/s]\n",
      "Iterating through all batches to summarize, be patient...: 0it [00:00, ?it/s]\n",
      "Iterating through all batches to summarize, be patient...: 0it [00:00, ?it/s]\n",
      "Iterating through all batches to summarize, be patient...: 0it [00:00, ?it/s]\n",
      "Iterating through all batches to summarize, be patient...: 0it [00:00, ?it/s]\n",
      "Iterating through all batches to summarize, be patient...: 0it [00:00, ?it/s]\n",
      "Iterating through all batches to summarize, be patient...: 0it [00:00, ?it/s]\n",
      "Iterating through all batches to summarize, be patient...: 0it [00:00, ?it/s]\n",
      "Iterating through all batches to summarize, be patient...: 0it [00:00, ?it/s]\n",
      "Iterating through all batches to summarize, be patient...: 0it [00:00, ?it/s]\n",
      "Iterating through all batches to summarize, be patient...: 0it [00:00, ?it/s]\n",
      "Iterating through all batches to summarize, be patient...: 0it [00:00, ?it/s]\n",
      "Iterating through all batches to summarize, be patient...: 0it [00:00, ?it/s]\n",
      "Iterating through all batches to summarize, be patient...: 0it [00:00, ?it/s]\n",
      "Iterating through all batches to summarize, be patient...: 0it [00:00, ?it/s]\n",
      "Iterating through all batches to summarize, be patient...: 0it [00:00, ?it/s]\n",
      "Iterating through all batches to summarize, be patient...: 0it [00:00, ?it/s]\n",
      "Iterating through all batches to summarize, be patient...: 0it [00:00, ?it/s]\n",
      "Iterating through all batches to summarize, be patient...: 0it [00:00, ?it/s]\n"
     ]
    },
    {
     "name": "stdout",
     "output_type": "stream",
     "text": [
      "WARNING:tensorflow:5 out of the last 17 calls to <function Model.make_predict_function.<locals>.predict_function at 0x77194735eca0> triggered tf.function retracing. Tracing is expensive and the excessive number of tracings could be due to (1) creating @tf.function repeatedly in a loop, (2) passing tensors with different shapes, (3) passing Python objects instead of tensors. For (1), please define your @tf.function outside of the loop. For (2), @tf.function has reduce_retracing=True option that can avoid unnecessary retracing. For (3), please refer to https://www.tensorflow.org/guide/function#controlling_retracing and https://www.tensorflow.org/api_docs/python/tf/function for  more details.\n",
      "1/1 [==============================] - 9s 9s/step\n",
      "1/1 [==============================] - 8s 8s/step\n",
      "1/1 [==============================] - 8s 8s/step\n",
      "1/1 [==============================] - 8s 8s/step\n",
      "1/1 [==============================] - 8s 8s/step\n",
      "1/1 [==============================] - 8s 8s/step\n",
      "1/1 [==============================] - 8s 8s/step\n",
      "1/1 [==============================] - 8s 8s/step\n",
      "1/1 [==============================] - 8s 8s/step\n",
      "1/1 [==============================] - 8s 8s/step\n",
      "1/1 [==============================] - 8s 8s/step\n",
      "1/1 [==============================] - 8s 8s/step\n",
      "1/1 [==============================] - 8s 8s/step\n",
      "1/1 [==============================] - 8s 8s/step\n",
      "1/1 [==============================] - 8s 8s/step\n",
      "1/1 [==============================] - 8s 8s/step\n",
      "1/1 [==============================] - 8s 8s/step\n",
      "1/1 [==============================] - 8s 8s/step\n",
      "1/1 [==============================] - 8s 8s/step\n",
      "1/1 [==============================] - 8s 8s/step\n",
      "1/1 [==============================] - 8s 8s/step\n",
      "1/1 [==============================] - 8s 8s/step\n",
      "1/1 [==============================] - 8s 8s/step\n",
      "1/1 [==============================] - 8s 8s/step\n",
      "1/1 [==============================] - 3s 3s/step\n"
     ]
    },
    {
     "data": {
      "text/html": [
       "<style>#sk-container-id-1 {color: black;}#sk-container-id-1 pre{padding: 0;}#sk-container-id-1 div.sk-toggleable {background-color: white;}#sk-container-id-1 label.sk-toggleable__label {cursor: pointer;display: block;width: 100%;margin-bottom: 0;padding: 0.3em;box-sizing: border-box;text-align: center;}#sk-container-id-1 label.sk-toggleable__label-arrow:before {content: \"▸\";float: left;margin-right: 0.25em;color: #696969;}#sk-container-id-1 label.sk-toggleable__label-arrow:hover:before {color: black;}#sk-container-id-1 div.sk-estimator:hover label.sk-toggleable__label-arrow:before {color: black;}#sk-container-id-1 div.sk-toggleable__content {max-height: 0;max-width: 0;overflow: hidden;text-align: left;background-color: #f0f8ff;}#sk-container-id-1 div.sk-toggleable__content pre {margin: 0.2em;color: black;border-radius: 0.25em;background-color: #f0f8ff;}#sk-container-id-1 input.sk-toggleable__control:checked~div.sk-toggleable__content {max-height: 200px;max-width: 100%;overflow: auto;}#sk-container-id-1 input.sk-toggleable__control:checked~label.sk-toggleable__label-arrow:before {content: \"▾\";}#sk-container-id-1 div.sk-estimator input.sk-toggleable__control:checked~label.sk-toggleable__label {background-color: #d4ebff;}#sk-container-id-1 div.sk-label input.sk-toggleable__control:checked~label.sk-toggleable__label {background-color: #d4ebff;}#sk-container-id-1 input.sk-hidden--visually {border: 0;clip: rect(1px 1px 1px 1px);clip: rect(1px, 1px, 1px, 1px);height: 1px;margin: -1px;overflow: hidden;padding: 0;position: absolute;width: 1px;}#sk-container-id-1 div.sk-estimator {font-family: monospace;background-color: #f0f8ff;border: 1px dotted black;border-radius: 0.25em;box-sizing: border-box;margin-bottom: 0.5em;}#sk-container-id-1 div.sk-estimator:hover {background-color: #d4ebff;}#sk-container-id-1 div.sk-parallel-item::after {content: \"\";width: 100%;border-bottom: 1px solid gray;flex-grow: 1;}#sk-container-id-1 div.sk-label:hover label.sk-toggleable__label {background-color: #d4ebff;}#sk-container-id-1 div.sk-serial::before {content: \"\";position: absolute;border-left: 1px solid gray;box-sizing: border-box;top: 0;bottom: 0;left: 50%;z-index: 0;}#sk-container-id-1 div.sk-serial {display: flex;flex-direction: column;align-items: center;background-color: white;padding-right: 0.2em;padding-left: 0.2em;position: relative;}#sk-container-id-1 div.sk-item {position: relative;z-index: 1;}#sk-container-id-1 div.sk-parallel {display: flex;align-items: stretch;justify-content: center;background-color: white;position: relative;}#sk-container-id-1 div.sk-item::before, #sk-container-id-1 div.sk-parallel-item::before {content: \"\";position: absolute;border-left: 1px solid gray;box-sizing: border-box;top: 0;bottom: 0;left: 50%;z-index: -1;}#sk-container-id-1 div.sk-parallel-item {display: flex;flex-direction: column;z-index: 1;position: relative;background-color: white;}#sk-container-id-1 div.sk-parallel-item:first-child::after {align-self: flex-end;width: 50%;}#sk-container-id-1 div.sk-parallel-item:last-child::after {align-self: flex-start;width: 50%;}#sk-container-id-1 div.sk-parallel-item:only-child::after {width: 0;}#sk-container-id-1 div.sk-dashed-wrapped {border: 1px dashed gray;margin: 0 0.4em 0.5em 0.4em;box-sizing: border-box;padding-bottom: 0.4em;background-color: white;}#sk-container-id-1 div.sk-label label {font-family: monospace;font-weight: bold;display: inline-block;line-height: 1.2em;}#sk-container-id-1 div.sk-label-container {text-align: center;}#sk-container-id-1 div.sk-container {/* jupyter's `normalize.less` sets `[hidden] { display: none; }` but bootstrap.min.css set `[hidden] { display: none !important; }` so we also need the `!important` here to be able to override the default hidden behavior on the sphinx rendered scikit-learn.org. See: https://github.com/scikit-learn/scikit-learn/issues/21755 */display: inline-block !important;position: relative;}#sk-container-id-1 div.sk-text-repr-fallback {display: none;}</style><div id=\"sk-container-id-1\" class=\"sk-top-container\"><div class=\"sk-text-repr-fallback\"><pre>OpenSetClassifier(clf_model=&lt;keras.src.engine.functional.Functional object at 0x77183c30b790&gt;,\n",
       "                  clf_prefit=True, inlier_value=True,\n",
       "                  known_classes=array([0, 1, 2, 3, 4, 5, 6, 7, 8, 9]),\n",
       "                  outlier_kwargs={&#x27;alpha&#x27;: 0.05,\n",
       "                                  &#x27;model&#x27;: &lt;keras.src.engine.functional.Functional object at 0x7718542aa510&gt;},\n",
       "                  outlier_model=&lt;class &#x27;pychemauth.classifier.osr.DeepOOD.Softmax&#x27;&gt;,\n",
       "                  unknown_class=-1)</pre><b>In a Jupyter environment, please rerun this cell to show the HTML representation or trust the notebook. <br />On GitHub, the HTML representation is unable to render, please try loading this page with nbviewer.org.</b></div><div class=\"sk-container\" hidden><div class=\"sk-item\"><div class=\"sk-estimator sk-toggleable\"><input class=\"sk-toggleable__control sk-hidden--visually\" id=\"sk-estimator-id-1\" type=\"checkbox\" checked><label for=\"sk-estimator-id-1\" class=\"sk-toggleable__label sk-toggleable__label-arrow\">OpenSetClassifier</label><div class=\"sk-toggleable__content\"><pre>OpenSetClassifier(clf_model=&lt;keras.src.engine.functional.Functional object at 0x77183c30b790&gt;,\n",
       "                  clf_prefit=True, inlier_value=True,\n",
       "                  known_classes=array([0, 1, 2, 3, 4, 5, 6, 7, 8, 9]),\n",
       "                  outlier_kwargs={&#x27;alpha&#x27;: 0.05,\n",
       "                                  &#x27;model&#x27;: &lt;keras.src.engine.functional.Functional object at 0x7718542aa510&gt;},\n",
       "                  outlier_model=&lt;class &#x27;pychemauth.classifier.osr.DeepOOD.Softmax&#x27;&gt;,\n",
       "                  unknown_class=-1)</pre></div></div></div></div></div>"
      ],
      "text/plain": [
       "OpenSetClassifier(clf_model=<keras.src.engine.functional.Functional object at 0x77183c30b790>,\n",
       "                  clf_prefit=True, inlier_value=True,\n",
       "                  known_classes=array([0, 1, 2, 3, 4, 5, 6, 7, 8, 9]),\n",
       "                  outlier_kwargs={'alpha': 0.05,\n",
       "                                  'model': <keras.src.engine.functional.Functional object at 0x7718542aa510>},\n",
       "                  outlier_model=<class 'pychemauth.classifier.osr.DeepOOD.Softmax'>,\n",
       "                  unknown_class=-1)"
      ]
     },
     "execution_count": 30,
     "metadata": {},
     "output_type": "execute_result"
    }
   ],
   "source": [
    "# Observe how long this takes to train!  This is because we have push our inputs through the large CNN base each time.\n",
    "model.fit(train_loader)"
   ]
  },
  {
   "cell_type": "code",
   "execution_count": 31,
   "id": "5d9d2229",
   "metadata": {
    "ExecuteTime": {
     "end_time": "2024-09-24T18:13:54.119091Z",
     "start_time": "2024-09-24T18:13:49.148107Z"
    }
   },
   "outputs": [],
   "source": [
    "y_test = []\n",
    "for _, y_batch_ in test_loader:\n",
    "    if y_batch_.size > 0:\n",
    "        y_test.append(y_batch_)\n",
    "y_test = np.concatenate(y_test)"
   ]
  },
  {
   "cell_type": "code",
   "execution_count": 32,
   "id": "e7188cab",
   "metadata": {
    "ExecuteTime": {
     "end_time": "2024-09-24T18:15:52.994461Z",
     "start_time": "2024-09-24T18:13:56.504983Z"
    }
   },
   "outputs": [
    {
     "name": "stdout",
     "output_type": "stream",
     "text": [
      "1/1 [==============================] - 8s 8s/step\n",
      "1/1 [==============================] - 8s 8s/step\n",
      "1/1 [==============================] - 8s 8s/step\n",
      "1/1 [==============================] - 8s 8s/step\n",
      "1/1 [==============================] - 8s 8s/step\n",
      "1/1 [==============================] - 8s 8s/step\n",
      "1/1 [==============================] - 5s 5s/step\n",
      "7/7 [==============================] - 52s 7s/step\n"
     ]
    }
   ],
   "source": [
    "fom_test = model.figures_of_merit(model.predict(test_loader), y_test)"
   ]
  },
  {
   "cell_type": "code",
   "execution_count": 33,
   "id": "8a944ba8",
   "metadata": {
    "ExecuteTime": {
     "end_time": "2024-09-24T18:15:53.071346Z",
     "start_time": "2024-09-24T18:15:52.997567Z"
    }
   },
   "outputs": [
    {
     "data": {
      "text/html": [
       "<div>\n",
       "<style scoped>\n",
       "    .dataframe tbody tr th:only-of-type {\n",
       "        vertical-align: middle;\n",
       "    }\n",
       "\n",
       "    .dataframe tbody tr th {\n",
       "        vertical-align: top;\n",
       "    }\n",
       "\n",
       "    .dataframe thead th {\n",
       "        text-align: right;\n",
       "    }\n",
       "</style>\n",
       "<table border=\"1\" class=\"dataframe\">\n",
       "  <thead>\n",
       "    <tr style=\"text-align: right;\">\n",
       "      <th></th>\n",
       "      <th>0</th>\n",
       "      <th>1</th>\n",
       "      <th>2</th>\n",
       "      <th>3</th>\n",
       "      <th>4</th>\n",
       "      <th>5</th>\n",
       "      <th>6</th>\n",
       "      <th>7</th>\n",
       "      <th>8</th>\n",
       "      <th>9</th>\n",
       "      <th>-1</th>\n",
       "    </tr>\n",
       "  </thead>\n",
       "  <tbody>\n",
       "    <tr>\n",
       "      <th>0</th>\n",
       "      <td>5</td>\n",
       "      <td>0</td>\n",
       "      <td>0</td>\n",
       "      <td>0</td>\n",
       "      <td>0</td>\n",
       "      <td>0</td>\n",
       "      <td>0</td>\n",
       "      <td>0</td>\n",
       "      <td>0</td>\n",
       "      <td>0</td>\n",
       "      <td>1</td>\n",
       "    </tr>\n",
       "    <tr>\n",
       "      <th>1</th>\n",
       "      <td>0</td>\n",
       "      <td>19</td>\n",
       "      <td>0</td>\n",
       "      <td>0</td>\n",
       "      <td>0</td>\n",
       "      <td>0</td>\n",
       "      <td>0</td>\n",
       "      <td>0</td>\n",
       "      <td>0</td>\n",
       "      <td>0</td>\n",
       "      <td>0</td>\n",
       "    </tr>\n",
       "    <tr>\n",
       "      <th>2</th>\n",
       "      <td>0</td>\n",
       "      <td>0</td>\n",
       "      <td>8</td>\n",
       "      <td>0</td>\n",
       "      <td>0</td>\n",
       "      <td>0</td>\n",
       "      <td>0</td>\n",
       "      <td>0</td>\n",
       "      <td>0</td>\n",
       "      <td>0</td>\n",
       "      <td>0</td>\n",
       "    </tr>\n",
       "    <tr>\n",
       "      <th>3</th>\n",
       "      <td>0</td>\n",
       "      <td>0</td>\n",
       "      <td>0</td>\n",
       "      <td>3</td>\n",
       "      <td>0</td>\n",
       "      <td>0</td>\n",
       "      <td>0</td>\n",
       "      <td>0</td>\n",
       "      <td>0</td>\n",
       "      <td>0</td>\n",
       "      <td>0</td>\n",
       "    </tr>\n",
       "    <tr>\n",
       "      <th>4</th>\n",
       "      <td>0</td>\n",
       "      <td>0</td>\n",
       "      <td>0</td>\n",
       "      <td>0</td>\n",
       "      <td>4</td>\n",
       "      <td>0</td>\n",
       "      <td>0</td>\n",
       "      <td>0</td>\n",
       "      <td>0</td>\n",
       "      <td>0</td>\n",
       "      <td>0</td>\n",
       "    </tr>\n",
       "    <tr>\n",
       "      <th>5</th>\n",
       "      <td>0</td>\n",
       "      <td>0</td>\n",
       "      <td>0</td>\n",
       "      <td>0</td>\n",
       "      <td>0</td>\n",
       "      <td>4</td>\n",
       "      <td>0</td>\n",
       "      <td>0</td>\n",
       "      <td>0</td>\n",
       "      <td>0</td>\n",
       "      <td>1</td>\n",
       "    </tr>\n",
       "    <tr>\n",
       "      <th>6</th>\n",
       "      <td>0</td>\n",
       "      <td>0</td>\n",
       "      <td>0</td>\n",
       "      <td>0</td>\n",
       "      <td>0</td>\n",
       "      <td>0</td>\n",
       "      <td>3</td>\n",
       "      <td>0</td>\n",
       "      <td>0</td>\n",
       "      <td>0</td>\n",
       "      <td>0</td>\n",
       "    </tr>\n",
       "    <tr>\n",
       "      <th>7</th>\n",
       "      <td>0</td>\n",
       "      <td>0</td>\n",
       "      <td>0</td>\n",
       "      <td>0</td>\n",
       "      <td>0</td>\n",
       "      <td>0</td>\n",
       "      <td>0</td>\n",
       "      <td>8</td>\n",
       "      <td>0</td>\n",
       "      <td>0</td>\n",
       "      <td>0</td>\n",
       "    </tr>\n",
       "    <tr>\n",
       "      <th>8</th>\n",
       "      <td>0</td>\n",
       "      <td>0</td>\n",
       "      <td>0</td>\n",
       "      <td>0</td>\n",
       "      <td>0</td>\n",
       "      <td>0</td>\n",
       "      <td>0</td>\n",
       "      <td>0</td>\n",
       "      <td>3</td>\n",
       "      <td>0</td>\n",
       "      <td>0</td>\n",
       "    </tr>\n",
       "    <tr>\n",
       "      <th>9</th>\n",
       "      <td>0</td>\n",
       "      <td>0</td>\n",
       "      <td>0</td>\n",
       "      <td>0</td>\n",
       "      <td>0</td>\n",
       "      <td>0</td>\n",
       "      <td>0</td>\n",
       "      <td>0</td>\n",
       "      <td>0</td>\n",
       "      <td>2</td>\n",
       "      <td>0</td>\n",
       "    </tr>\n",
       "    <tr>\n",
       "      <th>10</th>\n",
       "      <td>0</td>\n",
       "      <td>0</td>\n",
       "      <td>0</td>\n",
       "      <td>0</td>\n",
       "      <td>0</td>\n",
       "      <td>0</td>\n",
       "      <td>0</td>\n",
       "      <td>0</td>\n",
       "      <td>0</td>\n",
       "      <td>0</td>\n",
       "      <td>1</td>\n",
       "    </tr>\n",
       "    <tr>\n",
       "      <th>11</th>\n",
       "      <td>0</td>\n",
       "      <td>0</td>\n",
       "      <td>1</td>\n",
       "      <td>0</td>\n",
       "      <td>0</td>\n",
       "      <td>0</td>\n",
       "      <td>0</td>\n",
       "      <td>0</td>\n",
       "      <td>0</td>\n",
       "      <td>0</td>\n",
       "      <td>1</td>\n",
       "    </tr>\n",
       "    <tr>\n",
       "      <th>12</th>\n",
       "      <td>0</td>\n",
       "      <td>0</td>\n",
       "      <td>0</td>\n",
       "      <td>0</td>\n",
       "      <td>0</td>\n",
       "      <td>0</td>\n",
       "      <td>0</td>\n",
       "      <td>0</td>\n",
       "      <td>0</td>\n",
       "      <td>0</td>\n",
       "      <td>2</td>\n",
       "    </tr>\n",
       "  </tbody>\n",
       "</table>\n",
       "</div>"
      ],
      "text/plain": [
       "     0   1   2   3   4   5   6   7   8   9  -1\n",
       "0    5   0   0   0   0   0   0   0   0   0   1\n",
       "1    0  19   0   0   0   0   0   0   0   0   0\n",
       "2    0   0   8   0   0   0   0   0   0   0   0\n",
       "3    0   0   0   3   0   0   0   0   0   0   0\n",
       "4    0   0   0   0   4   0   0   0   0   0   0\n",
       "5    0   0   0   0   0   4   0   0   0   0   1\n",
       "6    0   0   0   0   0   0   3   0   0   0   0\n",
       "7    0   0   0   0   0   0   0   8   0   0   0\n",
       "8    0   0   0   0   0   0   0   0   3   0   0\n",
       "9    0   0   0   0   0   0   0   0   0   2   0\n",
       "10   0   0   0   0   0   0   0   0   0   0   1\n",
       "11   0   0   1   0   0   0   0   0   0   0   1\n",
       "12   0   0   0   0   0   0   0   0   0   0   2"
      ]
     },
     "execution_count": 33,
     "metadata": {},
     "output_type": "execute_result"
    }
   ],
   "source": [
    "fom_test['CM']"
   ]
  },
  {
   "cell_type": "code",
   "execution_count": 34,
   "id": "43d9980f",
   "metadata": {
    "ExecuteTime": {
     "end_time": "2024-09-24T18:16:13.674269Z",
     "start_time": "2024-09-24T18:15:53.073201Z"
    }
   },
   "outputs": [
    {
     "name": "stderr",
     "output_type": "stream",
     "text": [
      "2024-09-24 14:15:59.217725: W tensorflow/tsl/framework/cpu_allocator_impl.cc:83] Allocation of 9310457856 exceeds 10% of free system memory.\n"
     ]
    },
    {
     "name": "stdout",
     "output_type": "stream",
     "text": [
      "1/1 [==============================] - 17s 17s/step\n"
     ]
    },
    {
     "data": {
      "image/png": "[encoded data removed]",
      "text/plain": [
       "<Figure size 640x480 with 1 Axes>"
      ]
     },
     "metadata": {},
     "output_type": "display_data"
    }
   ],
   "source": [
    "ax = model.fitted_outlier_model.visualize(\n",
    "    X_test=X_challenge,\n",
    "    test_label='Challenge Set (OOD)',\n",
    "    bins=np.linspace(0, 1, 50+1)\n",
    ")\n",
    "ax.set_yscale('log')"
   ]
  },
  {
   "cell_type": "markdown",
   "id": "11a51f82",
   "metadata": {
    "ExecuteTime": {
     "end_time": "2024-09-18T16:14:03.475383Z",
     "start_time": "2024-09-18T16:14:03.471255Z"
    }
   },
   "source": [
    "<h3>Recommended: OSR Training With Featurization</h3>\n",
    "\n",
    "As an alternative training procedure, we could run our data through the classification model up to the point where the OOD model takes the data as its input, creating a \"featurized\" data set.  The \"new\" closed-set classifier in the OSR is really just the \"rest\" of the original model which accepts the featurized data as inputs and finishes the transformation producing the expected outputs, $y$.  This means we only need to run the training set through the majority of the classification model once, which can significantly reduce computational cost!  This is especially important when using cross validation to optimize hyperparameters.\n",
    "\n",
    "The recommended procedure is:\n",
    "\n",
    "1. Select the OOD method desired and determine the featurizer associated with this (examples below).\n",
    "2. Featurize the data ($X_{\\rm data} \\rightarrow X_{\\rm feature}$) by running it through this part of the original model.\n",
    "3. Create a new classifier, $F_{\\rm new}$ from just the \"remainder\" of the prefit classification model (this is frozen anyway); thus, $F_{\\rm new}(X_{\\rm feature}) = y$ vs. the original case where $F_{\\rm orig}(X_{\\rm data}) = y$.\n",
    "4. Perform CV to optimize the OOD detector using the ($X_{\\rm feature}$, $y$) data.\n",
    "5. Create a new final OSR model with these optimized hyperparameters and train once using the original data ($X_{\\rm data}$, $y$) so that this can accept the original, unfeaturized input in the future.\n",
    "\n",
    "Below the procedure is illustrated for the two Deep OOD methods discussed above; in [this notebook](https://pychemauth.readthedocs.io/en/latest/jupyter/api/cnn_spectral_classification.html) another method called DIME is discussed and illustrated."
   ]
  },
  {
   "cell_type": "markdown",
   "id": "9259f979",
   "metadata": {},
   "source": [
    "<h4>Softmax OOD</h4>"
   ]
  },
  {
   "cell_type": "code",
   "execution_count": 35,
   "id": "49c88475",
   "metadata": {
    "ExecuteTime": {
     "end_time": "2024-09-24T18:20:09.112666Z",
     "start_time": "2024-09-24T18:16:27.275198Z"
    }
   },
   "outputs": [
    {
     "name": "stdout",
     "output_type": "stream",
     "text": [
      "26/26 [==============================] - 219s 8s/step\n"
     ]
    }
   ],
   "source": [
    "# For softmax OOD we use the softmax probabilities directly, so the \"featurizer\" is just the model itself!\n",
    "featurizer = utils.HuggingFace.from_pretrained(model_id=\"mahynski/2d-cnn-demo\")\n",
    "\n",
    "# These are just the probabilities for each observation in X_train\n",
    "X_feature = featurizer.predict(train_loader)"
   ]
  },
  {
   "cell_type": "code",
   "execution_count": 36,
   "id": "cc944277",
   "metadata": {
    "ExecuteTime": {
     "end_time": "2024-09-24T18:20:09.175119Z",
     "start_time": "2024-09-24T18:20:09.115989Z"
    }
   },
   "outputs": [
    {
     "data": {
      "text/plain": [
       "array([[1.3592508e-16, 4.7793682e-22, 6.4363411e-32, 2.6706921e-23,\n",
       "        2.6138906e-27, 7.2800362e-19, 0.0000000e+00, 9.9999994e-01,\n",
       "        8.6173289e-28, 0.0000000e+00],\n",
       "       [6.6362346e-28, 5.4575948e-11, 3.2994977e-17, 9.9999994e-01,\n",
       "        6.0528073e-14, 5.4183482e-18, 2.6547629e-32, 2.2311170e-36,\n",
       "        9.0344759e-11, 1.2154283e-27],\n",
       "       [4.7406639e-26, 6.4688026e-11, 6.1510879e-12, 1.1068182e-16,\n",
       "        9.9999994e-01, 2.1820309e-19, 2.1152146e-31, 1.2802273e-34,\n",
       "        1.2521640e-21, 2.2328113e-21]], dtype=float32)"
      ]
     },
     "execution_count": 36,
     "metadata": {},
     "output_type": "execute_result"
    }
   ],
   "source": [
    "# This is also a much smaller matrix so it can be more easily held in memory - no need for a data loader here\n",
    "X_feature[:3]"
   ]
  },
  {
   "cell_type": "code",
   "execution_count": 37,
   "id": "04248ad4",
   "metadata": {
    "ExecuteTime": {
     "end_time": "2024-09-24T18:20:09.219819Z",
     "start_time": "2024-09-24T18:20:09.176986Z"
    }
   },
   "outputs": [],
   "source": [
    "# The classification model is set to osr.DeepOOD.SoftmaxPrefitClf() by \"build_classifier\", which is basically a pass \n",
    "# through since the featurizer is the entire model itself in this case.\n",
    "pipeline = imblearn.pipeline.Pipeline(\n",
    "    steps=[\n",
    "        (\"osr\", build_classifier(ood_type='softmax', featurize=True))\n",
    "    ]\n",
    ")"
   ]
  },
  {
   "cell_type": "code",
   "execution_count": 38,
   "id": "4ef8f296",
   "metadata": {
    "ExecuteTime": {
     "end_time": "2024-09-24T18:20:09.319112Z",
     "start_time": "2024-09-24T18:20:09.222212Z"
    }
   },
   "outputs": [],
   "source": [
    "?osr.DeepOOD.SoftmaxFeatureClf"
   ]
  },
  {
   "cell_type": "code",
   "execution_count": 39,
   "id": "58571b41",
   "metadata": {
    "ExecuteTime": {
     "end_time": "2024-09-24T18:20:28.127646Z",
     "start_time": "2024-09-24T18:20:09.321372Z"
    }
   },
   "outputs": [],
   "source": [
    "y_train = []\n",
    "for _, y_batch_ in train_loader:\n",
    "    if y_batch_.size > 0:\n",
    "        y_train.append(y_batch_)\n",
    "y_train = np.concatenate(y_train)"
   ]
  },
  {
   "cell_type": "code",
   "execution_count": 40,
   "id": "cfc9dd66",
   "metadata": {
    "ExecuteTime": {
     "end_time": "2024-09-24T18:20:42.587806Z",
     "start_time": "2024-09-24T18:20:28.130168Z"
    }
   },
   "outputs": [],
   "source": [
    "param_grid = [{\n",
    "    'osr__outlier_kwargs': [\n",
    "        {\n",
    "            'model':None, # This tells the Softmax OOD to expect \"featurized\" data as the input (the probabilities)\n",
    "            'alpha':a\n",
    "        } for a in np.logspace(-3, np.log10(0.5), 10)],\n",
    "}]\n",
    "\n",
    "gs = GridSearchCV(\n",
    "    estimator=pipeline,\n",
    "    param_grid=param_grid,\n",
    "    n_jobs=-1,\n",
    "    cv=sklearn.model_selection.StratifiedKFold(n_splits=5, shuffle=True, random_state=0),\n",
    "    error_score=0,\n",
    "    refit=True\n",
    ")\n",
    "\n",
    "_ = gs.fit(X_feature, y_train)"
   ]
  },
  {
   "cell_type": "code",
   "execution_count": 41,
   "id": "ec25e747",
   "metadata": {
    "ExecuteTime": {
     "end_time": "2024-09-24T18:20:42.668700Z",
     "start_time": "2024-09-24T18:20:42.591824Z"
    }
   },
   "outputs": [],
   "source": [
    "optimal_hyperparameters = copy.copy(gs.best_params_['osr__outlier_kwargs'])\n",
    "optimal_hyperparameters.pop('model')"
   ]
  },
  {
   "cell_type": "code",
   "execution_count": 42,
   "id": "77284a98",
   "metadata": {
    "ExecuteTime": {
     "end_time": "2024-09-24T18:20:42.731603Z",
     "start_time": "2024-09-24T18:20:42.670721Z"
    }
   },
   "outputs": [
    {
     "data": {
      "text/plain": [
       "{'alpha': 0.001}"
      ]
     },
     "execution_count": 42,
     "metadata": {},
     "output_type": "execute_result"
    }
   ],
   "source": [
    "optimal_hyperparameters"
   ]
  },
  {
   "cell_type": "code",
   "execution_count": 43,
   "id": "e637f0bd",
   "metadata": {
    "ExecuteTime": {
     "end_time": "2024-09-24T18:24:42.149218Z",
     "start_time": "2024-09-24T18:20:42.733515Z"
    }
   },
   "outputs": [
    {
     "name": "stderr",
     "output_type": "stream",
     "text": [
      "Iterating through all batches to summarize, be patient...: 0it [00:00, ?it/s]\n",
      "Iterating through all batches to summarize, be patient...: 0it [00:00, ?it/s]\n",
      "Iterating through all batches to summarize, be patient...: 0it [00:00, ?it/s]\n",
      "Iterating through all batches to summarize, be patient...: 0it [00:00, ?it/s]\n",
      "Iterating through all batches to summarize, be patient...: 0it [00:00, ?it/s]\n",
      "Iterating through all batches to summarize, be patient...: 0it [00:00, ?it/s]\n",
      "Iterating through all batches to summarize, be patient...: 0it [00:00, ?it/s]\n",
      "Iterating through all batches to summarize, be patient...: 0it [00:00, ?it/s]\n",
      "Iterating through all batches to summarize, be patient...: 0it [00:00, ?it/s]\n",
      "Iterating through all batches to summarize, be patient...: 0it [00:00, ?it/s]\n",
      "Iterating through all batches to summarize, be patient...: 0it [00:00, ?it/s]\n",
      "Iterating through all batches to summarize, be patient...: 0it [00:00, ?it/s]\n",
      "Iterating through all batches to summarize, be patient...: 0it [00:00, ?it/s]\n",
      "Iterating through all batches to summarize, be patient...: 0it [00:00, ?it/s]\n",
      "Iterating through all batches to summarize, be patient...: 0it [00:00, ?it/s]\n",
      "Iterating through all batches to summarize, be patient...: 0it [00:00, ?it/s]\n",
      "Iterating through all batches to summarize, be patient...: 0it [00:00, ?it/s]\n",
      "Iterating through all batches to summarize, be patient...: 0it [00:00, ?it/s]\n",
      "Iterating through all batches to summarize, be patient...: 0it [00:00, ?it/s]\n",
      "Iterating through all batches to summarize, be patient...: 0it [00:00, ?it/s]\n",
      "Iterating through all batches to summarize, be patient...: 0it [00:00, ?it/s]\n",
      "Iterating through all batches to summarize, be patient...: 0it [00:00, ?it/s]\n",
      "Iterating through all batches to summarize, be patient...: 0it [00:00, ?it/s]\n",
      "Iterating through all batches to summarize, be patient...: 0it [00:00, ?it/s]\n",
      "Iterating through all batches to summarize, be patient...: 0it [00:00, ?it/s]\n",
      "Iterating through all batches to summarize, be patient...: 0it [00:00, ?it/s]\n",
      "Iterating through all batches to summarize, be patient...: 0it [00:00, ?it/s]\n"
     ]
    },
    {
     "name": "stdout",
     "output_type": "stream",
     "text": [
      "1/1 [==============================] - 8s 8s/step\n",
      "1/1 [==============================] - 8s 8s/step\n",
      "1/1 [==============================] - 8s 8s/step\n",
      "1/1 [==============================] - 8s 8s/step\n",
      "1/1 [==============================] - 8s 8s/step\n",
      "1/1 [==============================] - 8s 8s/step\n",
      "1/1 [==============================] - 8s 8s/step\n",
      "1/1 [==============================] - 8s 8s/step\n",
      "1/1 [==============================] - 8s 8s/step\n",
      "1/1 [==============================] - 8s 8s/step\n",
      "1/1 [==============================] - 8s 8s/step\n",
      "1/1 [==============================] - 8s 8s/step\n",
      "1/1 [==============================] - 8s 8s/step\n",
      "1/1 [==============================] - 8s 8s/step\n",
      "1/1 [==============================] - 8s 8s/step\n",
      "1/1 [==============================] - 8s 8s/step\n",
      "1/1 [==============================] - 8s 8s/step\n",
      "1/1 [==============================] - 8s 8s/step\n",
      "1/1 [==============================] - 8s 8s/step\n",
      "1/1 [==============================] - 8s 8s/step\n",
      "1/1 [==============================] - 8s 8s/step\n",
      "1/1 [==============================] - 8s 8s/step\n",
      "1/1 [==============================] - 8s 8s/step\n",
      "1/1 [==============================] - 8s 8s/step\n",
      "1/1 [==============================] - 2s 2s/step\n"
     ]
    },
    {
     "data": {
      "text/html": [
       "<style>#sk-container-id-2 {color: black;}#sk-container-id-2 pre{padding: 0;}#sk-container-id-2 div.sk-toggleable {background-color: white;}#sk-container-id-2 label.sk-toggleable__label {cursor: pointer;display: block;width: 100%;margin-bottom: 0;padding: 0.3em;box-sizing: border-box;text-align: center;}#sk-container-id-2 label.sk-toggleable__label-arrow:before {content: \"▸\";float: left;margin-right: 0.25em;color: #696969;}#sk-container-id-2 label.sk-toggleable__label-arrow:hover:before {color: black;}#sk-container-id-2 div.sk-estimator:hover label.sk-toggleable__label-arrow:before {color: black;}#sk-container-id-2 div.sk-toggleable__content {max-height: 0;max-width: 0;overflow: hidden;text-align: left;background-color: #f0f8ff;}#sk-container-id-2 div.sk-toggleable__content pre {margin: 0.2em;color: black;border-radius: 0.25em;background-color: #f0f8ff;}#sk-container-id-2 input.sk-toggleable__control:checked~div.sk-toggleable__content {max-height: 200px;max-width: 100%;overflow: auto;}#sk-container-id-2 input.sk-toggleable__control:checked~label.sk-toggleable__label-arrow:before {content: \"▾\";}#sk-container-id-2 div.sk-estimator input.sk-toggleable__control:checked~label.sk-toggleable__label {background-color: #d4ebff;}#sk-container-id-2 div.sk-label input.sk-toggleable__control:checked~label.sk-toggleable__label {background-color: #d4ebff;}#sk-container-id-2 input.sk-hidden--visually {border: 0;clip: rect(1px 1px 1px 1px);clip: rect(1px, 1px, 1px, 1px);height: 1px;margin: -1px;overflow: hidden;padding: 0;position: absolute;width: 1px;}#sk-container-id-2 div.sk-estimator {font-family: monospace;background-color: #f0f8ff;border: 1px dotted black;border-radius: 0.25em;box-sizing: border-box;margin-bottom: 0.5em;}#sk-container-id-2 div.sk-estimator:hover {background-color: #d4ebff;}#sk-container-id-2 div.sk-parallel-item::after {content: \"\";width: 100%;border-bottom: 1px solid gray;flex-grow: 1;}#sk-container-id-2 div.sk-label:hover label.sk-toggleable__label {background-color: #d4ebff;}#sk-container-id-2 div.sk-serial::before {content: \"\";position: absolute;border-left: 1px solid gray;box-sizing: border-box;top: 0;bottom: 0;left: 50%;z-index: 0;}#sk-container-id-2 div.sk-serial {display: flex;flex-direction: column;align-items: center;background-color: white;padding-right: 0.2em;padding-left: 0.2em;position: relative;}#sk-container-id-2 div.sk-item {position: relative;z-index: 1;}#sk-container-id-2 div.sk-parallel {display: flex;align-items: stretch;justify-content: center;background-color: white;position: relative;}#sk-container-id-2 div.sk-item::before, #sk-container-id-2 div.sk-parallel-item::before {content: \"\";position: absolute;border-left: 1px solid gray;box-sizing: border-box;top: 0;bottom: 0;left: 50%;z-index: -1;}#sk-container-id-2 div.sk-parallel-item {display: flex;flex-direction: column;z-index: 1;position: relative;background-color: white;}#sk-container-id-2 div.sk-parallel-item:first-child::after {align-self: flex-end;width: 50%;}#sk-container-id-2 div.sk-parallel-item:last-child::after {align-self: flex-start;width: 50%;}#sk-container-id-2 div.sk-parallel-item:only-child::after {width: 0;}#sk-container-id-2 div.sk-dashed-wrapped {border: 1px dashed gray;margin: 0 0.4em 0.5em 0.4em;box-sizing: border-box;padding-bottom: 0.4em;background-color: white;}#sk-container-id-2 div.sk-label label {font-family: monospace;font-weight: bold;display: inline-block;line-height: 1.2em;}#sk-container-id-2 div.sk-label-container {text-align: center;}#sk-container-id-2 div.sk-container {/* jupyter's `normalize.less` sets `[hidden] { display: none; }` but bootstrap.min.css set `[hidden] { display: none !important; }` so we also need the `!important` here to be able to override the default hidden behavior on the sphinx rendered scikit-learn.org. See: https://github.com/scikit-learn/scikit-learn/issues/21755 */display: inline-block !important;position: relative;}#sk-container-id-2 div.sk-text-repr-fallback {display: none;}</style><div id=\"sk-container-id-2\" class=\"sk-top-container\"><div class=\"sk-text-repr-fallback\"><pre>Pipeline(steps=[(&#x27;osr&#x27;,\n",
       "                 OpenSetClassifier(clf_model=&lt;keras.src.engine.functional.Functional object at 0x771947499bd0&gt;,\n",
       "                                   clf_prefit=True, inlier_value=True,\n",
       "                                   known_classes=array([0, 1, 2, 3, 4, 5, 6, 7, 8, 9]),\n",
       "                                   outlier_kwargs={&#x27;alpha&#x27;: 0.001,\n",
       "                                                   &#x27;model&#x27;: &lt;keras.src.engine.functional.Functional object at 0x7718546eb250&gt;},\n",
       "                                   outlier_model=&lt;class &#x27;pychemauth.classifier.osr.DeepOOD.Softmax&#x27;&gt;,\n",
       "                                   unknown_class=-1))])</pre><b>In a Jupyter environment, please rerun this cell to show the HTML representation or trust the notebook. <br />On GitHub, the HTML representation is unable to render, please try loading this page with nbviewer.org.</b></div><div class=\"sk-container\" hidden><div class=\"sk-item sk-dashed-wrapped\"><div class=\"sk-label-container\"><div class=\"sk-label sk-toggleable\"><input class=\"sk-toggleable__control sk-hidden--visually\" id=\"sk-estimator-id-2\" type=\"checkbox\" ><label for=\"sk-estimator-id-2\" class=\"sk-toggleable__label sk-toggleable__label-arrow\">Pipeline</label><div class=\"sk-toggleable__content\"><pre>Pipeline(steps=[(&#x27;osr&#x27;,\n",
       "                 OpenSetClassifier(clf_model=&lt;keras.src.engine.functional.Functional object at 0x771947499bd0&gt;,\n",
       "                                   clf_prefit=True, inlier_value=True,\n",
       "                                   known_classes=array([0, 1, 2, 3, 4, 5, 6, 7, 8, 9]),\n",
       "                                   outlier_kwargs={&#x27;alpha&#x27;: 0.001,\n",
       "                                                   &#x27;model&#x27;: &lt;keras.src.engine.functional.Functional object at 0x7718546eb250&gt;},\n",
       "                                   outlier_model=&lt;class &#x27;pychemauth.classifier.osr.DeepOOD.Softmax&#x27;&gt;,\n",
       "                                   unknown_class=-1))])</pre></div></div></div><div class=\"sk-serial\"><div class=\"sk-item\"><div class=\"sk-estimator sk-toggleable\"><input class=\"sk-toggleable__control sk-hidden--visually\" id=\"sk-estimator-id-3\" type=\"checkbox\" ><label for=\"sk-estimator-id-3\" class=\"sk-toggleable__label sk-toggleable__label-arrow\">OpenSetClassifier</label><div class=\"sk-toggleable__content\"><pre>OpenSetClassifier(clf_model=&lt;keras.src.engine.functional.Functional object at 0x771947499bd0&gt;,\n",
       "                  clf_prefit=True, inlier_value=True,\n",
       "                  known_classes=array([0, 1, 2, 3, 4, 5, 6, 7, 8, 9]),\n",
       "                  outlier_kwargs={&#x27;alpha&#x27;: 0.001,\n",
       "                                  &#x27;model&#x27;: &lt;keras.src.engine.functional.Functional object at 0x7718546eb250&gt;},\n",
       "                  outlier_model=&lt;class &#x27;pychemauth.classifier.osr.DeepOOD.Softmax&#x27;&gt;,\n",
       "                  unknown_class=-1)</pre></div></div></div></div></div></div></div>"
      ],
      "text/plain": [
       "Pipeline(steps=[('osr',\n",
       "                 OpenSetClassifier(clf_model=<keras.src.engine.functional.Functional object at 0x771947499bd0>,\n",
       "                                   clf_prefit=True, inlier_value=True,\n",
       "                                   known_classes=array([0, 1, 2, 3, 4, 5, 6, 7, 8, 9]),\n",
       "                                   outlier_kwargs={'alpha': 0.001,\n",
       "                                                   'model': <keras.src.engine.functional.Functional object at 0x7718546eb250>},\n",
       "                                   outlier_model=<class 'pychemauth.classifier.osr.DeepOOD.Softmax'>,\n",
       "                                   unknown_class=-1))])"
      ]
     },
     "execution_count": 43,
     "metadata": {},
     "output_type": "execute_result"
    }
   ],
   "source": [
    "final_pipeline = imblearn.pipeline.Pipeline(\n",
    "    steps=[\n",
    "        (\"osr\", build_classifier(ood_type='softmax', featurize=False, updated_kwargs=optimal_hyperparameters))\n",
    "    ]\n",
    ")\n",
    "\n",
    "final_pipeline.fit(train_loader)"
   ]
  },
  {
   "cell_type": "code",
   "execution_count": 44,
   "id": "bc63baf1",
   "metadata": {
    "ExecuteTime": {
     "end_time": "2024-09-24T18:26:39.362986Z",
     "start_time": "2024-09-24T18:24:42.152985Z"
    }
   },
   "outputs": [
    {
     "name": "stdout",
     "output_type": "stream",
     "text": [
      "1/1 [==============================] - 8s 8s/step\n",
      "1/1 [==============================] - 8s 8s/step\n",
      "1/1 [==============================] - 8s 8s/step\n",
      "1/1 [==============================] - 8s 8s/step\n",
      "1/1 [==============================] - 8s 8s/step\n",
      "1/1 [==============================] - 8s 8s/step\n",
      "1/1 [==============================] - 5s 5s/step\n",
      "7/7 [==============================] - 56s 8s/step\n"
     ]
    }
   ],
   "source": [
    "fom_test = final_pipeline.named_steps['osr'].figures_of_merit(final_pipeline.predict(test_loader), y_test)"
   ]
  },
  {
   "cell_type": "code",
   "execution_count": 45,
   "id": "b199e136",
   "metadata": {
    "ExecuteTime": {
     "end_time": "2024-09-24T18:26:39.424370Z",
     "start_time": "2024-09-24T18:26:39.365607Z"
    }
   },
   "outputs": [
    {
     "data": {
      "text/html": [
       "<div>\n",
       "<style scoped>\n",
       "    .dataframe tbody tr th:only-of-type {\n",
       "        vertical-align: middle;\n",
       "    }\n",
       "\n",
       "    .dataframe tbody tr th {\n",
       "        vertical-align: top;\n",
       "    }\n",
       "\n",
       "    .dataframe thead th {\n",
       "        text-align: right;\n",
       "    }\n",
       "</style>\n",
       "<table border=\"1\" class=\"dataframe\">\n",
       "  <thead>\n",
       "    <tr style=\"text-align: right;\">\n",
       "      <th></th>\n",
       "      <th>0</th>\n",
       "      <th>1</th>\n",
       "      <th>2</th>\n",
       "      <th>3</th>\n",
       "      <th>4</th>\n",
       "      <th>5</th>\n",
       "      <th>6</th>\n",
       "      <th>7</th>\n",
       "      <th>8</th>\n",
       "      <th>9</th>\n",
       "      <th>-1</th>\n",
       "    </tr>\n",
       "  </thead>\n",
       "  <tbody>\n",
       "    <tr>\n",
       "      <th>0</th>\n",
       "      <td>6</td>\n",
       "      <td>0</td>\n",
       "      <td>0</td>\n",
       "      <td>0</td>\n",
       "      <td>0</td>\n",
       "      <td>0</td>\n",
       "      <td>0</td>\n",
       "      <td>0</td>\n",
       "      <td>0</td>\n",
       "      <td>0</td>\n",
       "      <td>0</td>\n",
       "    </tr>\n",
       "    <tr>\n",
       "      <th>1</th>\n",
       "      <td>0</td>\n",
       "      <td>19</td>\n",
       "      <td>0</td>\n",
       "      <td>0</td>\n",
       "      <td>0</td>\n",
       "      <td>0</td>\n",
       "      <td>0</td>\n",
       "      <td>0</td>\n",
       "      <td>0</td>\n",
       "      <td>0</td>\n",
       "      <td>0</td>\n",
       "    </tr>\n",
       "    <tr>\n",
       "      <th>2</th>\n",
       "      <td>0</td>\n",
       "      <td>0</td>\n",
       "      <td>8</td>\n",
       "      <td>0</td>\n",
       "      <td>0</td>\n",
       "      <td>0</td>\n",
       "      <td>0</td>\n",
       "      <td>0</td>\n",
       "      <td>0</td>\n",
       "      <td>0</td>\n",
       "      <td>0</td>\n",
       "    </tr>\n",
       "    <tr>\n",
       "      <th>3</th>\n",
       "      <td>0</td>\n",
       "      <td>0</td>\n",
       "      <td>0</td>\n",
       "      <td>3</td>\n",
       "      <td>0</td>\n",
       "      <td>0</td>\n",
       "      <td>0</td>\n",
       "      <td>0</td>\n",
       "      <td>0</td>\n",
       "      <td>0</td>\n",
       "      <td>0</td>\n",
       "    </tr>\n",
       "    <tr>\n",
       "      <th>4</th>\n",
       "      <td>0</td>\n",
       "      <td>0</td>\n",
       "      <td>0</td>\n",
       "      <td>0</td>\n",
       "      <td>4</td>\n",
       "      <td>0</td>\n",
       "      <td>0</td>\n",
       "      <td>0</td>\n",
       "      <td>0</td>\n",
       "      <td>0</td>\n",
       "      <td>0</td>\n",
       "    </tr>\n",
       "    <tr>\n",
       "      <th>5</th>\n",
       "      <td>0</td>\n",
       "      <td>0</td>\n",
       "      <td>0</td>\n",
       "      <td>0</td>\n",
       "      <td>0</td>\n",
       "      <td>5</td>\n",
       "      <td>0</td>\n",
       "      <td>0</td>\n",
       "      <td>0</td>\n",
       "      <td>0</td>\n",
       "      <td>0</td>\n",
       "    </tr>\n",
       "    <tr>\n",
       "      <th>6</th>\n",
       "      <td>0</td>\n",
       "      <td>0</td>\n",
       "      <td>0</td>\n",
       "      <td>0</td>\n",
       "      <td>0</td>\n",
       "      <td>0</td>\n",
       "      <td>3</td>\n",
       "      <td>0</td>\n",
       "      <td>0</td>\n",
       "      <td>0</td>\n",
       "      <td>0</td>\n",
       "    </tr>\n",
       "    <tr>\n",
       "      <th>7</th>\n",
       "      <td>0</td>\n",
       "      <td>0</td>\n",
       "      <td>0</td>\n",
       "      <td>0</td>\n",
       "      <td>0</td>\n",
       "      <td>0</td>\n",
       "      <td>0</td>\n",
       "      <td>8</td>\n",
       "      <td>0</td>\n",
       "      <td>0</td>\n",
       "      <td>0</td>\n",
       "    </tr>\n",
       "    <tr>\n",
       "      <th>8</th>\n",
       "      <td>0</td>\n",
       "      <td>0</td>\n",
       "      <td>0</td>\n",
       "      <td>0</td>\n",
       "      <td>0</td>\n",
       "      <td>0</td>\n",
       "      <td>0</td>\n",
       "      <td>0</td>\n",
       "      <td>3</td>\n",
       "      <td>0</td>\n",
       "      <td>0</td>\n",
       "    </tr>\n",
       "    <tr>\n",
       "      <th>9</th>\n",
       "      <td>0</td>\n",
       "      <td>0</td>\n",
       "      <td>0</td>\n",
       "      <td>0</td>\n",
       "      <td>0</td>\n",
       "      <td>0</td>\n",
       "      <td>0</td>\n",
       "      <td>0</td>\n",
       "      <td>0</td>\n",
       "      <td>2</td>\n",
       "      <td>0</td>\n",
       "    </tr>\n",
       "    <tr>\n",
       "      <th>10</th>\n",
       "      <td>0</td>\n",
       "      <td>0</td>\n",
       "      <td>0</td>\n",
       "      <td>0</td>\n",
       "      <td>0</td>\n",
       "      <td>0</td>\n",
       "      <td>0</td>\n",
       "      <td>0</td>\n",
       "      <td>0</td>\n",
       "      <td>0</td>\n",
       "      <td>1</td>\n",
       "    </tr>\n",
       "    <tr>\n",
       "      <th>11</th>\n",
       "      <td>0</td>\n",
       "      <td>0</td>\n",
       "      <td>2</td>\n",
       "      <td>0</td>\n",
       "      <td>0</td>\n",
       "      <td>0</td>\n",
       "      <td>0</td>\n",
       "      <td>0</td>\n",
       "      <td>0</td>\n",
       "      <td>0</td>\n",
       "      <td>0</td>\n",
       "    </tr>\n",
       "    <tr>\n",
       "      <th>12</th>\n",
       "      <td>0</td>\n",
       "      <td>0</td>\n",
       "      <td>0</td>\n",
       "      <td>0</td>\n",
       "      <td>0</td>\n",
       "      <td>0</td>\n",
       "      <td>0</td>\n",
       "      <td>0</td>\n",
       "      <td>0</td>\n",
       "      <td>0</td>\n",
       "      <td>2</td>\n",
       "    </tr>\n",
       "  </tbody>\n",
       "</table>\n",
       "</div>"
      ],
      "text/plain": [
       "     0   1   2   3   4   5   6   7   8   9  -1\n",
       "0    6   0   0   0   0   0   0   0   0   0   0\n",
       "1    0  19   0   0   0   0   0   0   0   0   0\n",
       "2    0   0   8   0   0   0   0   0   0   0   0\n",
       "3    0   0   0   3   0   0   0   0   0   0   0\n",
       "4    0   0   0   0   4   0   0   0   0   0   0\n",
       "5    0   0   0   0   0   5   0   0   0   0   0\n",
       "6    0   0   0   0   0   0   3   0   0   0   0\n",
       "7    0   0   0   0   0   0   0   8   0   0   0\n",
       "8    0   0   0   0   0   0   0   0   3   0   0\n",
       "9    0   0   0   0   0   0   0   0   0   2   0\n",
       "10   0   0   0   0   0   0   0   0   0   0   1\n",
       "11   0   0   2   0   0   0   0   0   0   0   0\n",
       "12   0   0   0   0   0   0   0   0   0   0   2"
      ]
     },
     "execution_count": 45,
     "metadata": {},
     "output_type": "execute_result"
    }
   ],
   "source": [
    "# Decent performance, but one challenge class (11) seems to get confused with class 2\n",
    "fom_test['CM']"
   ]
  },
  {
   "cell_type": "code",
   "execution_count": 46,
   "id": "8e6158a6",
   "metadata": {
    "ExecuteTime": {
     "end_time": "2024-09-24T18:27:00.213882Z",
     "start_time": "2024-09-24T18:26:39.426596Z"
    }
   },
   "outputs": [
    {
     "name": "stdout",
     "output_type": "stream",
     "text": [
      "1/1 [==============================] - 18s 18s/step\n"
     ]
    },
    {
     "data": {
      "image/png": "[encoded data removed]",
      "text/plain": [
       "<Figure size 640x480 with 1 Axes>"
      ]
     },
     "metadata": {},
     "output_type": "display_data"
    }
   ],
   "source": [
    "ax = final_pipeline.named_steps['osr'].fitted_outlier_model.visualize(\n",
    "    X_test=X_challenge,\n",
    "    test_label='Challenge Set (OOD)',\n",
    "    bins=np.linspace(0, 1, 50+1)\n",
    ")\n",
    "ax.set_yscale('log')"
   ]
  },
  {
   "cell_type": "markdown",
   "id": "e3185088",
   "metadata": {
    "ExecuteTime": {
     "end_time": "2024-09-20T18:44:19.138443Z",
     "start_time": "2024-09-20T18:44:19.055137Z"
    }
   },
   "source": [
    "<h4>Energy-based OOD</h4>"
   ]
  },
  {
   "cell_type": "code",
   "execution_count": 47,
   "id": "6785a624",
   "metadata": {
    "ExecuteTime": {
     "end_time": "2024-09-24T18:30:46.080054Z",
     "start_time": "2024-09-24T18:27:00.215994Z"
    }
   },
   "outputs": [
    {
     "name": "stdout",
     "output_type": "stream",
     "text": [
      "26/26 [==============================] - 223s 9s/step\n"
     ]
    }
   ],
   "source": [
    "# For energy OOD we use the raw logits directly, so the \"featurizer\" is just the model itself less the final activation\n",
    "featurizer = utils.HuggingFace.from_pretrained(model_id=\"mahynski/2d-cnn-demo\")\n",
    "featurizer.layers[-1].activation = None # Deactivate to get logits\n",
    "\n",
    "X_feature = featurizer.predict(train_loader)"
   ]
  },
  {
   "cell_type": "code",
   "execution_count": 48,
   "id": "6a7ad283",
   "metadata": {
    "ExecuteTime": {
     "end_time": "2024-09-24T18:30:46.141232Z",
     "start_time": "2024-09-24T18:30:46.082748Z"
    }
   },
   "outputs": [
    {
     "data": {
      "text/plain": [
       "array([[ -0.887215 , -13.445352 , -36.17355  , -16.329908 , -25.561745 ,\n",
       "         -6.1167665, -61.026443 ,  35.647213 , -26.671394 , -61.906696 ],\n",
       "       [-35.21933  ,   3.7290795, -10.589668 ,  27.360508 ,  -3.0751612,\n",
       "        -12.396232 , -45.34586  , -54.73005  ,   4.23312  , -34.614193 ],\n",
       "       [-27.502474 ,   7.347114 ,   4.994167 ,  -5.9313126,  30.80856  ,\n",
       "        -12.1603   , -39.82242  , -47.232296 , -17.320854 , -16.742466 ]],\n",
       "      dtype=float32)"
      ]
     },
     "execution_count": 48,
     "metadata": {},
     "output_type": "execute_result"
    }
   ],
   "source": [
    "X_feature[:3]"
   ]
  },
  {
   "cell_type": "code",
   "execution_count": 49,
   "id": "bd2f1350",
   "metadata": {
    "ExecuteTime": {
     "end_time": "2024-09-24T18:30:46.184941Z",
     "start_time": "2024-09-24T18:30:46.143049Z"
    }
   },
   "outputs": [],
   "source": [
    "# The classification model is set to osr.DeepOOD.EnergyPrefitClf() by \"build_classifier\", which is just a softmax layer \n",
    "# since the featurizer was the whole model except for the final softmax activation function to turn logits into \n",
    "# probabilities.\n",
    "pipeline = imblearn.pipeline.Pipeline(\n",
    "    steps=[\n",
    "        (\"osr\", build_classifier(ood_type='energy', featurize=True))\n",
    "    ]\n",
    ")"
   ]
  },
  {
   "cell_type": "code",
   "execution_count": 50,
   "id": "8f12831c",
   "metadata": {
    "ExecuteTime": {
     "end_time": "2024-09-24T18:30:46.264978Z",
     "start_time": "2024-09-24T18:30:46.186397Z"
    }
   },
   "outputs": [],
   "source": [
    "?osr.DeepOOD.EnergyFeatureClf"
   ]
  },
  {
   "cell_type": "code",
   "execution_count": 51,
   "id": "1eeec782",
   "metadata": {
    "ExecuteTime": {
     "end_time": "2024-09-24T18:31:01.138347Z",
     "start_time": "2024-09-24T18:30:46.267012Z"
    }
   },
   "outputs": [],
   "source": [
    "param_grid = [{\n",
    "    'osr__outlier_kwargs': [\n",
    "        {\n",
    "            'model':None, \n",
    "            'alpha':a, \n",
    "            'T':t\n",
    "        } for a in np.logspace(-3, np.log10(0.5), 10) for t in [0.1, 1.0, 10.0]],\n",
    "}]\n",
    "\n",
    "gs = GridSearchCV(\n",
    "    estimator=pipeline,\n",
    "    param_grid=param_grid,\n",
    "    n_jobs=-1,\n",
    "    cv=sklearn.model_selection.StratifiedKFold(n_splits=5, shuffle=True, random_state=0),\n",
    "    error_score=0,\n",
    "    refit=True\n",
    ")\n",
    "\n",
    "_ = gs.fit(X_feature, y_train)"
   ]
  },
  {
   "cell_type": "code",
   "execution_count": 52,
   "id": "d048ec95",
   "metadata": {
    "ExecuteTime": {
     "end_time": "2024-09-24T18:31:01.204318Z",
     "start_time": "2024-09-24T18:31:01.141286Z"
    }
   },
   "outputs": [],
   "source": [
    "optimal_hyperparameters = copy.copy(gs.best_params_['osr__outlier_kwargs'])\n",
    "optimal_hyperparameters.pop('model')"
   ]
  },
  {
   "cell_type": "code",
   "execution_count": 53,
   "id": "fbf73b71",
   "metadata": {
    "ExecuteTime": {
     "end_time": "2024-09-24T18:31:01.255834Z",
     "start_time": "2024-09-24T18:31:01.206517Z"
    }
   },
   "outputs": [
    {
     "data": {
      "text/plain": [
       "{'alpha': 0.001, 'T': 0.1}"
      ]
     },
     "execution_count": 53,
     "metadata": {},
     "output_type": "execute_result"
    }
   ],
   "source": [
    "optimal_hyperparameters"
   ]
  },
  {
   "cell_type": "code",
   "execution_count": 54,
   "id": "e12d2581",
   "metadata": {
    "ExecuteTime": {
     "end_time": "2024-09-24T18:35:04.934661Z",
     "start_time": "2024-09-24T18:31:01.257470Z"
    }
   },
   "outputs": [
    {
     "name": "stderr",
     "output_type": "stream",
     "text": [
      "Iterating through all batches to summarize, be patient...: 0it [00:00, ?it/s]\n",
      "Iterating through all batches to summarize, be patient...: 0it [00:00, ?it/s]\n",
      "Iterating through all batches to summarize, be patient...: 0it [00:00, ?it/s]\n",
      "Iterating through all batches to summarize, be patient...: 0it [00:00, ?it/s]\n",
      "Iterating through all batches to summarize, be patient...: 0it [00:00, ?it/s]\n",
      "Iterating through all batches to summarize, be patient...: 0it [00:00, ?it/s]\n",
      "Iterating through all batches to summarize, be patient...: 0it [00:00, ?it/s]\n",
      "Iterating through all batches to summarize, be patient...: 0it [00:00, ?it/s]\n",
      "Iterating through all batches to summarize, be patient...: 0it [00:00, ?it/s]\n",
      "Iterating through all batches to summarize, be patient...: 0it [00:00, ?it/s]\n",
      "Iterating through all batches to summarize, be patient...: 0it [00:00, ?it/s]\n",
      "Iterating through all batches to summarize, be patient...: 0it [00:00, ?it/s]\n",
      "Iterating through all batches to summarize, be patient...: 0it [00:00, ?it/s]\n",
      "Iterating through all batches to summarize, be patient...: 0it [00:00, ?it/s]\n",
      "Iterating through all batches to summarize, be patient...: 0it [00:00, ?it/s]\n",
      "Iterating through all batches to summarize, be patient...: 0it [00:00, ?it/s]\n",
      "Iterating through all batches to summarize, be patient...: 0it [00:00, ?it/s]\n",
      "Iterating through all batches to summarize, be patient...: 0it [00:00, ?it/s]\n",
      "Iterating through all batches to summarize, be patient...: 0it [00:00, ?it/s]\n",
      "Iterating through all batches to summarize, be patient...: 0it [00:00, ?it/s]\n",
      "Iterating through all batches to summarize, be patient...: 0it [00:00, ?it/s]\n",
      "Iterating through all batches to summarize, be patient...: 0it [00:00, ?it/s]\n",
      "Iterating through all batches to summarize, be patient...: 0it [00:00, ?it/s]\n",
      "Iterating through all batches to summarize, be patient...: 0it [00:00, ?it/s]\n",
      "Iterating through all batches to summarize, be patient...: 0it [00:00, ?it/s]\n",
      "Iterating through all batches to summarize, be patient...: 0it [00:00, ?it/s]\n",
      "Iterating through all batches to summarize, be patient...: 0it [00:00, ?it/s]\n"
     ]
    },
    {
     "name": "stdout",
     "output_type": "stream",
     "text": [
      "1/1 [==============================] - 8s 8s/step\n",
      "1/1 [==============================] - 8s 8s/step\n",
      "1/1 [==============================] - 8s 8s/step\n",
      "1/1 [==============================] - 8s 8s/step\n",
      "1/1 [==============================] - 8s 8s/step\n",
      "1/1 [==============================] - 8s 8s/step\n",
      "1/1 [==============================] - 8s 8s/step\n",
      "1/1 [==============================] - 8s 8s/step\n",
      "1/1 [==============================] - 8s 8s/step\n",
      "1/1 [==============================] - 8s 8s/step\n",
      "1/1 [==============================] - 8s 8s/step\n",
      "1/1 [==============================] - 8s 8s/step\n",
      "1/1 [==============================] - 8s 8s/step\n",
      "1/1 [==============================] - 8s 8s/step\n",
      "1/1 [==============================] - 8s 8s/step\n",
      "1/1 [==============================] - 8s 8s/step\n",
      "1/1 [==============================] - 8s 8s/step\n",
      "1/1 [==============================] - 8s 8s/step\n",
      "1/1 [==============================] - 8s 8s/step\n",
      "1/1 [==============================] - 8s 8s/step\n",
      "1/1 [==============================] - 8s 8s/step\n",
      "1/1 [==============================] - 8s 8s/step\n",
      "1/1 [==============================] - 8s 8s/step\n",
      "1/1 [==============================] - 8s 8s/step\n",
      "1/1 [==============================] - 2s 2s/step\n"
     ]
    },
    {
     "data": {
      "text/html": [
       "<style>#sk-container-id-3 {color: black;}#sk-container-id-3 pre{padding: 0;}#sk-container-id-3 div.sk-toggleable {background-color: white;}#sk-container-id-3 label.sk-toggleable__label {cursor: pointer;display: block;width: 100%;margin-bottom: 0;padding: 0.3em;box-sizing: border-box;text-align: center;}#sk-container-id-3 label.sk-toggleable__label-arrow:before {content: \"▸\";float: left;margin-right: 0.25em;color: #696969;}#sk-container-id-3 label.sk-toggleable__label-arrow:hover:before {color: black;}#sk-container-id-3 div.sk-estimator:hover label.sk-toggleable__label-arrow:before {color: black;}#sk-container-id-3 div.sk-toggleable__content {max-height: 0;max-width: 0;overflow: hidden;text-align: left;background-color: #f0f8ff;}#sk-container-id-3 div.sk-toggleable__content pre {margin: 0.2em;color: black;border-radius: 0.25em;background-color: #f0f8ff;}#sk-container-id-3 input.sk-toggleable__control:checked~div.sk-toggleable__content {max-height: 200px;max-width: 100%;overflow: auto;}#sk-container-id-3 input.sk-toggleable__control:checked~label.sk-toggleable__label-arrow:before {content: \"▾\";}#sk-container-id-3 div.sk-estimator input.sk-toggleable__control:checked~label.sk-toggleable__label {background-color: #d4ebff;}#sk-container-id-3 div.sk-label input.sk-toggleable__control:checked~label.sk-toggleable__label {background-color: #d4ebff;}#sk-container-id-3 input.sk-hidden--visually {border: 0;clip: rect(1px 1px 1px 1px);clip: rect(1px, 1px, 1px, 1px);height: 1px;margin: -1px;overflow: hidden;padding: 0;position: absolute;width: 1px;}#sk-container-id-3 div.sk-estimator {font-family: monospace;background-color: #f0f8ff;border: 1px dotted black;border-radius: 0.25em;box-sizing: border-box;margin-bottom: 0.5em;}#sk-container-id-3 div.sk-estimator:hover {background-color: #d4ebff;}#sk-container-id-3 div.sk-parallel-item::after {content: \"\";width: 100%;border-bottom: 1px solid gray;flex-grow: 1;}#sk-container-id-3 div.sk-label:hover label.sk-toggleable__label {background-color: #d4ebff;}#sk-container-id-3 div.sk-serial::before {content: \"\";position: absolute;border-left: 1px solid gray;box-sizing: border-box;top: 0;bottom: 0;left: 50%;z-index: 0;}#sk-container-id-3 div.sk-serial {display: flex;flex-direction: column;align-items: center;background-color: white;padding-right: 0.2em;padding-left: 0.2em;position: relative;}#sk-container-id-3 div.sk-item {position: relative;z-index: 1;}#sk-container-id-3 div.sk-parallel {display: flex;align-items: stretch;justify-content: center;background-color: white;position: relative;}#sk-container-id-3 div.sk-item::before, #sk-container-id-3 div.sk-parallel-item::before {content: \"\";position: absolute;border-left: 1px solid gray;box-sizing: border-box;top: 0;bottom: 0;left: 50%;z-index: -1;}#sk-container-id-3 div.sk-parallel-item {display: flex;flex-direction: column;z-index: 1;position: relative;background-color: white;}#sk-container-id-3 div.sk-parallel-item:first-child::after {align-self: flex-end;width: 50%;}#sk-container-id-3 div.sk-parallel-item:last-child::after {align-self: flex-start;width: 50%;}#sk-container-id-3 div.sk-parallel-item:only-child::after {width: 0;}#sk-container-id-3 div.sk-dashed-wrapped {border: 1px dashed gray;margin: 0 0.4em 0.5em 0.4em;box-sizing: border-box;padding-bottom: 0.4em;background-color: white;}#sk-container-id-3 div.sk-label label {font-family: monospace;font-weight: bold;display: inline-block;line-height: 1.2em;}#sk-container-id-3 div.sk-label-container {text-align: center;}#sk-container-id-3 div.sk-container {/* jupyter's `normalize.less` sets `[hidden] { display: none; }` but bootstrap.min.css set `[hidden] { display: none !important; }` so we also need the `!important` here to be able to override the default hidden behavior on the sphinx rendered scikit-learn.org. See: https://github.com/scikit-learn/scikit-learn/issues/21755 */display: inline-block !important;position: relative;}#sk-container-id-3 div.sk-text-repr-fallback {display: none;}</style><div id=\"sk-container-id-3\" class=\"sk-top-container\"><div class=\"sk-text-repr-fallback\"><pre>Pipeline(steps=[(&#x27;osr&#x27;,\n",
       "                 OpenSetClassifier(clf_model=&lt;keras.src.engine.functional.Functional object at 0x771a6b8b3e50&gt;,\n",
       "                                   clf_prefit=True, inlier_value=True,\n",
       "                                   known_classes=array([0, 1, 2, 3, 4, 5, 6, 7, 8, 9]),\n",
       "                                   outlier_kwargs={&#x27;T&#x27;: 0.1, &#x27;alpha&#x27;: 0.001,\n",
       "                                                   &#x27;model&#x27;: &lt;keras.src.engine.functional.Functional object at 0x771a6b9e3010&gt;},\n",
       "                                   outlier_model=&lt;class &#x27;pychemauth.classifier.osr.DeepOOD.Energy&#x27;&gt;,\n",
       "                                   unknown_class=-1))])</pre><b>In a Jupyter environment, please rerun this cell to show the HTML representation or trust the notebook. <br />On GitHub, the HTML representation is unable to render, please try loading this page with nbviewer.org.</b></div><div class=\"sk-container\" hidden><div class=\"sk-item sk-dashed-wrapped\"><div class=\"sk-label-container\"><div class=\"sk-label sk-toggleable\"><input class=\"sk-toggleable__control sk-hidden--visually\" id=\"sk-estimator-id-4\" type=\"checkbox\" ><label for=\"sk-estimator-id-4\" class=\"sk-toggleable__label sk-toggleable__label-arrow\">Pipeline</label><div class=\"sk-toggleable__content\"><pre>Pipeline(steps=[(&#x27;osr&#x27;,\n",
       "                 OpenSetClassifier(clf_model=&lt;keras.src.engine.functional.Functional object at 0x771a6b8b3e50&gt;,\n",
       "                                   clf_prefit=True, inlier_value=True,\n",
       "                                   known_classes=array([0, 1, 2, 3, 4, 5, 6, 7, 8, 9]),\n",
       "                                   outlier_kwargs={&#x27;T&#x27;: 0.1, &#x27;alpha&#x27;: 0.001,\n",
       "                                                   &#x27;model&#x27;: &lt;keras.src.engine.functional.Functional object at 0x771a6b9e3010&gt;},\n",
       "                                   outlier_model=&lt;class &#x27;pychemauth.classifier.osr.DeepOOD.Energy&#x27;&gt;,\n",
       "                                   unknown_class=-1))])</pre></div></div></div><div class=\"sk-serial\"><div class=\"sk-item\"><div class=\"sk-estimator sk-toggleable\"><input class=\"sk-toggleable__control sk-hidden--visually\" id=\"sk-estimator-id-5\" type=\"checkbox\" ><label for=\"sk-estimator-id-5\" class=\"sk-toggleable__label sk-toggleable__label-arrow\">OpenSetClassifier</label><div class=\"sk-toggleable__content\"><pre>OpenSetClassifier(clf_model=&lt;keras.src.engine.functional.Functional object at 0x771a6b8b3e50&gt;,\n",
       "                  clf_prefit=True, inlier_value=True,\n",
       "                  known_classes=array([0, 1, 2, 3, 4, 5, 6, 7, 8, 9]),\n",
       "                  outlier_kwargs={&#x27;T&#x27;: 0.1, &#x27;alpha&#x27;: 0.001,\n",
       "                                  &#x27;model&#x27;: &lt;keras.src.engine.functional.Functional object at 0x771a6b9e3010&gt;},\n",
       "                  outlier_model=&lt;class &#x27;pychemauth.classifier.osr.DeepOOD.Energy&#x27;&gt;,\n",
       "                  unknown_class=-1)</pre></div></div></div></div></div></div></div>"
      ],
      "text/plain": [
       "Pipeline(steps=[('osr',\n",
       "                 OpenSetClassifier(clf_model=<keras.src.engine.functional.Functional object at 0x771a6b8b3e50>,\n",
       "                                   clf_prefit=True, inlier_value=True,\n",
       "                                   known_classes=array([0, 1, 2, 3, 4, 5, 6, 7, 8, 9]),\n",
       "                                   outlier_kwargs={'T': 0.1, 'alpha': 0.001,\n",
       "                                                   'model': <keras.src.engine.functional.Functional object at 0x771a6b9e3010>},\n",
       "                                   outlier_model=<class 'pychemauth.classifier.osr.DeepOOD.Energy'>,\n",
       "                                   unknown_class=-1))])"
      ]
     },
     "execution_count": 54,
     "metadata": {},
     "output_type": "execute_result"
    }
   ],
   "source": [
    "final_pipeline = imblearn.pipeline.Pipeline(\n",
    "    steps=[\n",
    "        (\"osr\", build_classifier(ood_type='energy', featurize=False, updated_kwargs=optimal_hyperparameters))\n",
    "    ]\n",
    ")\n",
    "\n",
    "final_pipeline.fit(train_loader)"
   ]
  },
  {
   "cell_type": "code",
   "execution_count": 55,
   "id": "b053fcf9",
   "metadata": {
    "ExecuteTime": {
     "end_time": "2024-09-24T18:37:04.394647Z",
     "start_time": "2024-09-24T18:35:04.937154Z"
    }
   },
   "outputs": [
    {
     "name": "stdout",
     "output_type": "stream",
     "text": [
      "1/1 [==============================] - 8s 8s/step\n",
      "1/1 [==============================] - 8s 8s/step\n",
      "1/1 [==============================] - 8s 8s/step\n",
      "1/1 [==============================] - 8s 8s/step\n",
      "1/1 [==============================] - 8s 8s/step\n",
      "1/1 [==============================] - 8s 8s/step\n",
      "1/1 [==============================] - 5s 5s/step\n",
      "7/7 [==============================] - 58s 8s/step\n"
     ]
    }
   ],
   "source": [
    "fom_test = final_pipeline.named_steps['osr'].figures_of_merit(final_pipeline.predict(test_loader), y_test)"
   ]
  },
  {
   "cell_type": "code",
   "execution_count": 56,
   "id": "1feb5bec",
   "metadata": {
    "ExecuteTime": {
     "end_time": "2024-09-24T18:37:04.469916Z",
     "start_time": "2024-09-24T18:37:04.397223Z"
    }
   },
   "outputs": [
    {
     "data": {
      "text/html": [
       "<div>\n",
       "<style scoped>\n",
       "    .dataframe tbody tr th:only-of-type {\n",
       "        vertical-align: middle;\n",
       "    }\n",
       "\n",
       "    .dataframe tbody tr th {\n",
       "        vertical-align: top;\n",
       "    }\n",
       "\n",
       "    .dataframe thead th {\n",
       "        text-align: right;\n",
       "    }\n",
       "</style>\n",
       "<table border=\"1\" class=\"dataframe\">\n",
       "  <thead>\n",
       "    <tr style=\"text-align: right;\">\n",
       "      <th></th>\n",
       "      <th>0</th>\n",
       "      <th>1</th>\n",
       "      <th>2</th>\n",
       "      <th>3</th>\n",
       "      <th>4</th>\n",
       "      <th>5</th>\n",
       "      <th>6</th>\n",
       "      <th>7</th>\n",
       "      <th>8</th>\n",
       "      <th>9</th>\n",
       "      <th>-1</th>\n",
       "    </tr>\n",
       "  </thead>\n",
       "  <tbody>\n",
       "    <tr>\n",
       "      <th>0</th>\n",
       "      <td>6</td>\n",
       "      <td>0</td>\n",
       "      <td>0</td>\n",
       "      <td>0</td>\n",
       "      <td>0</td>\n",
       "      <td>0</td>\n",
       "      <td>0</td>\n",
       "      <td>0</td>\n",
       "      <td>0</td>\n",
       "      <td>0</td>\n",
       "      <td>0</td>\n",
       "    </tr>\n",
       "    <tr>\n",
       "      <th>1</th>\n",
       "      <td>0</td>\n",
       "      <td>19</td>\n",
       "      <td>0</td>\n",
       "      <td>0</td>\n",
       "      <td>0</td>\n",
       "      <td>0</td>\n",
       "      <td>0</td>\n",
       "      <td>0</td>\n",
       "      <td>0</td>\n",
       "      <td>0</td>\n",
       "      <td>0</td>\n",
       "    </tr>\n",
       "    <tr>\n",
       "      <th>2</th>\n",
       "      <td>0</td>\n",
       "      <td>0</td>\n",
       "      <td>8</td>\n",
       "      <td>0</td>\n",
       "      <td>0</td>\n",
       "      <td>0</td>\n",
       "      <td>0</td>\n",
       "      <td>0</td>\n",
       "      <td>0</td>\n",
       "      <td>0</td>\n",
       "      <td>0</td>\n",
       "    </tr>\n",
       "    <tr>\n",
       "      <th>3</th>\n",
       "      <td>0</td>\n",
       "      <td>0</td>\n",
       "      <td>0</td>\n",
       "      <td>3</td>\n",
       "      <td>0</td>\n",
       "      <td>0</td>\n",
       "      <td>0</td>\n",
       "      <td>0</td>\n",
       "      <td>0</td>\n",
       "      <td>0</td>\n",
       "      <td>0</td>\n",
       "    </tr>\n",
       "    <tr>\n",
       "      <th>4</th>\n",
       "      <td>0</td>\n",
       "      <td>0</td>\n",
       "      <td>0</td>\n",
       "      <td>0</td>\n",
       "      <td>4</td>\n",
       "      <td>0</td>\n",
       "      <td>0</td>\n",
       "      <td>0</td>\n",
       "      <td>0</td>\n",
       "      <td>0</td>\n",
       "      <td>0</td>\n",
       "    </tr>\n",
       "    <tr>\n",
       "      <th>5</th>\n",
       "      <td>0</td>\n",
       "      <td>0</td>\n",
       "      <td>0</td>\n",
       "      <td>0</td>\n",
       "      <td>0</td>\n",
       "      <td>5</td>\n",
       "      <td>0</td>\n",
       "      <td>0</td>\n",
       "      <td>0</td>\n",
       "      <td>0</td>\n",
       "      <td>0</td>\n",
       "    </tr>\n",
       "    <tr>\n",
       "      <th>6</th>\n",
       "      <td>0</td>\n",
       "      <td>0</td>\n",
       "      <td>0</td>\n",
       "      <td>0</td>\n",
       "      <td>0</td>\n",
       "      <td>0</td>\n",
       "      <td>3</td>\n",
       "      <td>0</td>\n",
       "      <td>0</td>\n",
       "      <td>0</td>\n",
       "      <td>0</td>\n",
       "    </tr>\n",
       "    <tr>\n",
       "      <th>7</th>\n",
       "      <td>0</td>\n",
       "      <td>0</td>\n",
       "      <td>0</td>\n",
       "      <td>0</td>\n",
       "      <td>0</td>\n",
       "      <td>0</td>\n",
       "      <td>0</td>\n",
       "      <td>8</td>\n",
       "      <td>0</td>\n",
       "      <td>0</td>\n",
       "      <td>0</td>\n",
       "    </tr>\n",
       "    <tr>\n",
       "      <th>8</th>\n",
       "      <td>0</td>\n",
       "      <td>0</td>\n",
       "      <td>0</td>\n",
       "      <td>0</td>\n",
       "      <td>0</td>\n",
       "      <td>0</td>\n",
       "      <td>0</td>\n",
       "      <td>0</td>\n",
       "      <td>3</td>\n",
       "      <td>0</td>\n",
       "      <td>0</td>\n",
       "    </tr>\n",
       "    <tr>\n",
       "      <th>9</th>\n",
       "      <td>0</td>\n",
       "      <td>0</td>\n",
       "      <td>0</td>\n",
       "      <td>0</td>\n",
       "      <td>0</td>\n",
       "      <td>0</td>\n",
       "      <td>0</td>\n",
       "      <td>0</td>\n",
       "      <td>0</td>\n",
       "      <td>2</td>\n",
       "      <td>0</td>\n",
       "    </tr>\n",
       "    <tr>\n",
       "      <th>10</th>\n",
       "      <td>0</td>\n",
       "      <td>0</td>\n",
       "      <td>0</td>\n",
       "      <td>0</td>\n",
       "      <td>0</td>\n",
       "      <td>0</td>\n",
       "      <td>0</td>\n",
       "      <td>0</td>\n",
       "      <td>0</td>\n",
       "      <td>0</td>\n",
       "      <td>1</td>\n",
       "    </tr>\n",
       "    <tr>\n",
       "      <th>11</th>\n",
       "      <td>0</td>\n",
       "      <td>0</td>\n",
       "      <td>2</td>\n",
       "      <td>0</td>\n",
       "      <td>0</td>\n",
       "      <td>0</td>\n",
       "      <td>0</td>\n",
       "      <td>0</td>\n",
       "      <td>0</td>\n",
       "      <td>0</td>\n",
       "      <td>0</td>\n",
       "    </tr>\n",
       "    <tr>\n",
       "      <th>12</th>\n",
       "      <td>0</td>\n",
       "      <td>0</td>\n",
       "      <td>0</td>\n",
       "      <td>0</td>\n",
       "      <td>0</td>\n",
       "      <td>0</td>\n",
       "      <td>0</td>\n",
       "      <td>0</td>\n",
       "      <td>0</td>\n",
       "      <td>0</td>\n",
       "      <td>2</td>\n",
       "    </tr>\n",
       "  </tbody>\n",
       "</table>\n",
       "</div>"
      ],
      "text/plain": [
       "     0   1   2   3   4   5   6   7   8   9  -1\n",
       "0    6   0   0   0   0   0   0   0   0   0   0\n",
       "1    0  19   0   0   0   0   0   0   0   0   0\n",
       "2    0   0   8   0   0   0   0   0   0   0   0\n",
       "3    0   0   0   3   0   0   0   0   0   0   0\n",
       "4    0   0   0   0   4   0   0   0   0   0   0\n",
       "5    0   0   0   0   0   5   0   0   0   0   0\n",
       "6    0   0   0   0   0   0   3   0   0   0   0\n",
       "7    0   0   0   0   0   0   0   8   0   0   0\n",
       "8    0   0   0   0   0   0   0   0   3   0   0\n",
       "9    0   0   0   0   0   0   0   0   0   2   0\n",
       "10   0   0   0   0   0   0   0   0   0   0   1\n",
       "11   0   0   2   0   0   0   0   0   0   0   0\n",
       "12   0   0   0   0   0   0   0   0   0   0   2"
      ]
     },
     "execution_count": 56,
     "metadata": {},
     "output_type": "execute_result"
    }
   ],
   "source": [
    "fom_test['CM']"
   ]
  },
  {
   "cell_type": "code",
   "execution_count": 57,
   "id": "b0f2c59c",
   "metadata": {
    "ExecuteTime": {
     "end_time": "2024-09-24T18:37:26.428428Z",
     "start_time": "2024-09-24T18:37:04.471870Z"
    }
   },
   "outputs": [
    {
     "name": "stdout",
     "output_type": "stream",
     "text": [
      "1/1 [==============================] - 18s 18s/step\n"
     ]
    },
    {
     "data": {
      "image/png": "[encoded data removed]",
      "text/plain": [
       "<Figure size 640x480 with 1 Axes>"
      ]
     },
     "metadata": {},
     "output_type": "display_data"
    }
   ],
   "source": [
    "ax = final_pipeline.named_steps['osr'].fitted_outlier_model.visualize(\n",
    "    X_test=X_challenge,\n",
    "    test_label='Challenge Set (OOD)',\n",
    ")\n",
    "ax.set_yscale('log')"
   ]
  },
  {
   "cell_type": "markdown",
   "id": "b5162433",
   "metadata": {
    "id": "b5162433"
   },
   "source": [
    "# Common pitfalls"
   ]
  },
  {
   "cell_type": "markdown",
   "id": "838a9f60",
   "metadata": {
    "id": "838a9f60"
   },
   "source": [
    "Some things to keep in mind:\n",
    "\n",
    "1. It is typically best to allow the OpenSetClassifier to infer the known classes from the training data.  If you manually specify this and forget some classes, those points which belong to those left out will be ignored during training.  This also affects the way the model is scored.\n",
    "2. However, this can be useful when building \"compliant\" models where we wish the model to be aware of certain \"known unknowns\" during training, as illustrated above.\n"
   ]
  }
 ],
 "metadata": {
  "colab": {
   "provenance": []
  },
  "kernelspec": {
   "display_name": "pgaa-imaging",
   "language": "python",
   "name": "pgaa-imaging"
  },
  "language_info": {
   "codemirror_mode": {
    "name": "ipython",
    "version": 3
   },
   "file_extension": ".py",
   "mimetype": "text/x-python",
   "name": "python",
   "nbconvert_exporter": "python",
   "pygments_lexer": "ipython3",
   "version": "3.11.4"
  }
 },
 "nbformat": 4,
 "nbformat_minor": 5
}

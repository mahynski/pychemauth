{
  "cells": [
    {
      "cell_type": "markdown",
      "id": "f4110398",
      "metadata": {
        "ExecuteTime": {
          "end_time": "2023-09-11T18:57:21.723251Z",
          "start_time": "2023-09-11T18:57:21.715643Z"
        },
        "id": "f4110398"
      },
      "source": [
        "Partial Least Squares - Discriminant Analysis (PLS-DA)\n",
        "===\n",
        "\n",
        "Author: Nathan A. Mahynski\n",
        "\n",
        "Date: 2023/09/12\n",
        "\n",
        "Description: Discussion and examples of different PLS-DA approaches.\n",
        "\n",
        "[![Open In Colab](https://colab.research.google.com/assets/colab-badge.svg)](https://colab.research.google.com/github/mahynski/pychemauth/blob/main/docs/jupyter/learn/plsda.ipynb)\n",
        "\n",
        "[PLS](pls.ipynb) can also be applied to classification problems.  The general idea is to perform a PLS(2) decomposition\n",
        "between $X$ and $\\vec{y}$, where now $\\vec{y}$ is [one-hot encoded](https://en.wikipedia.org/wiki/One-hot) for the different classes.  For binary classification, a simple 0 or 1 is adequate.  The scores that come from the PLS decomposition are then used as an input to a\n",
        "classification model.  So really, PLS-DA is just using PLS to find a good subspace, then performing classication\n",
        "on the transformed coordinates in that space; this classification is the \"discrimination\" which can be done\n",
        "by any number of methods.  The PLS outputs floating point numbers not integers, so a decision needs to be made\n",
        "on how to \"cluster\" and assign points to a given class. Some common methods are:\n",
        "\n",
        "1. Closest class centroid - obviously the Euclidean distance in PLS-DA score space (projection) is not necessarily a good representation of class differences so you need to validate this with test set, etc. See this [paper](https://link.springer.com/article/10.1007/s11306-007-0099-6) and more discussion in [Pomerantsev et al.](https://onlinelibrary.wiley.com/doi/abs/10.1002/cem.3030).\n",
        "\n",
        "2. Thresholding (some cutoff distance).\n",
        "\n",
        "3. Some statistical confidence bounds based on tolerable mis-classfication error rates.\n",
        "\n",
        "4. Build logistic regression, or other decision boundary, etc. in score (projected) space - this is better than option (1) which avoids relying on distance being proportional to likelihood of a class.\n",
        "\n",
        "This essentially just uses (supervised) PLS to find a good subspace to project into.  However, we could also use something like LDA instead (discussed in the previous section); for LDA we are bounded by $n_{\\rm dimensions} <= {\\rm min}\\left(n_{\\rm classes} - 1, n_{\\rm features} \\right)$, which we are not in PLS.  So if $n_{\\rm classes}$ is low, LDA can only find a very low-D subspace; it may be better to find some space between that and $n_{\\rm features}$, which PLS can provide.\n",
        "\n",
        "PLS-DA is widely applied in cheminformatics research since we often have a $p > n$ instance which can be handled\n",
        "automatically with PLS.  This is especially true of -omics fields.   However, nonlinear techniques such as [artificial neural networks can also be used](https://link.springer.com/article/10.1007/s11306-020-1640-0) have been shown to perform as well. A thorough review of the state of the art PLS-DA by Lee et al. is available [here](https://pubs.rsc.org/en/content/articlehtml/2018/an/c8an00599k)"
      ]
    },
    {
      "cell_type": "code",
      "execution_count": null,
      "id": "949b2197",
      "metadata": {
        "ExecuteTime": {
          "end_time": "2023-09-27T12:29:34.486614Z",
          "start_time": "2023-09-27T12:29:34.481094Z"
        },
        "id": "949b2197"
      },
      "outputs": [],
      "source": [
        "if 'google.colab' in str(get_ipython()):\n",
        "    !pip install git+https://github.com/mahynski/pychemauth@main\n",
        "    import os\n",
        "    os.kill(os.getpid(), 9) # Automatically restart the runtime to reload libraries"
      ]
    },
    {
      "cell_type": "code",
      "execution_count": 1,
      "id": "9f60adae",
      "metadata": {
        "ExecuteTime": {
          "end_time": "2023-09-27T12:29:34.954458Z",
          "start_time": "2023-09-27T12:29:34.489668Z"
        },
        "id": "9f60adae"
      },
      "outputs": [],
      "source": [
        "try:\n",
        "    import pychemauth\n",
        "except:\n",
        "    raise ImportError(\"pychemauth not installed\")\n",
        "\n",
        "import matplotlib.pyplot as plt\n",
        "%matplotlib inline\n",
        "\n",
        "import watermark\n",
        "%load_ext watermark\n",
        "\n",
        "%load_ext autoreload\n",
        "%autoreload 2"
      ]
    },
    {
      "cell_type": "code",
      "execution_count": 2,
      "id": "a350867e",
      "metadata": {
        "ExecuteTime": {
          "end_time": "2023-09-27T12:29:35.964322Z",
          "start_time": "2023-09-27T12:29:34.957111Z"
        },
        "id": "a350867e"
      },
      "outputs": [],
      "source": [
        "import sklearn\n",
        "import scipy\n",
        "\n",
        "import numpy as np\n",
        "\n",
        "from sklearn.cross_decomposition import PLSRegression\n",
        "from sklearn.preprocessing import OneHotEncoder\n",
        "from sklearn.decomposition import PCA\n",
        "from sklearn.datasets import make_blobs\n",
        "\n",
        "from pychemauth.classifier.plsda import PLSDA\n",
        "from pychemauth.preprocessing.scaling import CorrectedScaler"
      ]
    },
    {
      "cell_type": "code",
      "execution_count": 3,
      "id": "b03266b4",
      "metadata": {
        "ExecuteTime": {
          "end_time": "2023-09-27T12:29:35.992314Z",
          "start_time": "2023-09-27T12:29:35.966461Z"
        },
        "colab": {
          "base_uri": "https://localhost:8080/"
        },
        "id": "b03266b4",
        "outputId": "14ac0bcb-6f27-4f6d-8ba5-283a39f67b01"
      },
      "outputs": [
        {
          "output_type": "stream",
          "name": "stdout",
          "text": [
            "Python implementation: CPython\n",
            "Python version       : 3.10.12\n",
            "IPython version      : 7.34.0\n",
            "\n",
            "Compiler    : GCC 11.4.0\n",
            "OS          : Linux\n",
            "Release     : 6.1.85+\n",
            "Machine     : x86_64\n",
            "Processor   : x86_64\n",
            "CPU cores   : 2\n",
            "Architecture: 64bit\n",
            "\n",
            "pychemauth: 0.0.0b4\n",
            "numpy     : 1.24.3\n",
            "matplotlib: 3.7.2\n",
            "watermark : 2.4.3\n",
            "scipy     : 1.11.1\n",
            "sklearn   : 1.3.0\n",
            "\n"
          ]
        }
      ],
      "source": [
        "%watermark -t -m -v --iversions"
      ]
    },
    {
      "cell_type": "markdown",
      "id": "256d53af",
      "metadata": {
        "ExecuteTime": {
          "end_time": "2023-09-19T17:20:20.233128Z",
          "start_time": "2023-09-19T17:20:20.226609Z"
        },
        "id": "256d53af"
      },
      "source": [
        "Starting Out\n",
        "---\n",
        "\n",
        "[\"Multiclass partial least squares discriminant analysis: Taking the right way—A critical tutorial,\" by\n",
        "Pomerantsev and Rodionova, Journal of Chemometrics, 32 (2018)](https://analyticalsciencejournals.onlinelibrary.wiley.com/doi/abs/10.1002/cem.3030) suggests 2 approaches to PLS-DA. These are \"hard\" and \"soft\" PLS-DA, which are distinguished by how they determine their discrimination boundaries.  Both begin in the same way.  First, let's consider a naive approach to PLS-DA.\n",
        "\n",
        "1. One-hot encode (OHE) $Y$ for different classes.\n",
        "\n",
        "> This means that classes form the vertices of $k$-dimensional simplex, where we have $k$ classes.  Following [Indahl et al.](https://onlinelibrary.wiley.com/doi/abs/10.1002/cem.1061), you could reduce the dummy matrix to remove a dimension;  if you have 4 classes, this forms a tetrahedron - i.e., represent classes as +1 for $k$-1 instances and for the last one indicate it as all zeros (Figure credit to Pomerantsev and Rodionova, see above).  \n",
        ">\n",
        "> Convert\n",
        ">\n",
        "> $$\n",
        "\\begin{bmatrix}\n",
        "1 & 0 & 0 & 0 \\\\\n",
        "0 & 1 & 0 & 0 \\\\\n",
        "0 & 0 & 1 & 0 \\\\\n",
        "0 & 0 & 0 & 1 \\\\\n",
        "\\end{bmatrix}\n",
        "$$\n",
        ">\n",
        "> to\n",
        ">\n",
        ">$$\n",
        "\\begin{bmatrix}\n",
        "1 & 0 & 0 \\\\\n",
        "0 & 1 & 0 \\\\\n",
        "0 & 0 & 1 \\\\\n",
        "0 & 0 & 0 \\\\\n",
        "\\end{bmatrix}\n",
        "$$\n",
        ">\n",
        "> The first matrix defines a $k$-1 dimensional affine subspace (this logic is also why when [LDA functions as a dimensionality reduction tool](https://scikit-learn.org/stable/modules/lda_qda.html#mathematical-formulation-of-lda-dimensionality-reduction) it is bounded by $n_{\\rm classes} - 1$). This is made more explicitly clear by the second matrix which clearly has rank $k-1$ and encloses a tetrahedral volume in 3D.\n",
        "\n",
        "<img src=\"https://github.com/mahynski/pychemauth/blob/main/docs/_static/fig1_pomerantsev_2018.png?raw=1\" style=\"width:500px;\">\n",
        "\n",
        "2. Center $X$ (and possibly scale, too), and mean-center $Y$.\n",
        "\n",
        "3. Perform [PLS2 regression](https://scikit-learn.org/stable/modules/generated/sklearn.cross_decomposition.PLSRegression.html) to obtain the predictions, $\\hat{Y}$.\n",
        "\n",
        "4. Compare $\\hat{Y}$ to the OHE vectors and choose the closest one to assign a class.  \n",
        "\n",
        "However, step 4 is tricky because of the fact that $\\hat{Y}$ has rank $k$-1.  if you tried to compute a Euclidean distance ($k$-D space) between one vertex and a given prediction, it would be possible - but this would not really be correct since we really need to the distance in the ($k$-1)-D space. Moreover, if you tried to compute a Mahalanobis distance this would fail because the covariance matrix will be singular. If you just use Indahl's approach and do PLS2 with the second matrix, it seems you can proceed; however, Pomerantsev and Rodionova proposed that you instead use the normal OHE matrix (the first one above) and then perform PCA on the $\\hat{Y}$ response.  The PCA will naturally only have $k-1$ non-zero eigenvalues, so you can simply use this to project the responses into that subspace.  You can then compute the distances in that subspace to perform classification.  These steps are as follows:\n",
        "\n",
        "1. One-hot encode response vector, $Y_{\\rm train}$.\n",
        "\n",
        "2. Perform PLS2 to get prediction, $\\hat{Y}_{\\rm train}$, after appropriate centering/scaling.\n",
        "\n",
        "3. Perform PCA on $\\hat{Y}_{\\rm train}$ - to do this, you must first center $\\hat{Y}_{\\rm train}$. Project into $k-1$ dimensional space to obtain the PCA loadings matrix $T$.\n",
        "\n",
        "4. Classify points in $T$.\n",
        "\n",
        "In summary, $(X, Y) \\xrightarrow{\\text{PLS2}} \\hat{Y} \\xrightarrow{\\text{PCA}} T$.  This is essentially a composition of multiple subspace projection methods, but ultimately only the PCA scores ($T$) are used to do the classification.\n",
        "\n",
        "This assumes that $k < n_{\\rm features}$.  Since we are projecting into a $k$-D space and relying on a PCA transformation of that space this is a requirement.  Usually when PLS is being used this is the case.\n",
        "\n",
        "Pomerantsev and Rodionova propose 2 different ways to perform step 4: a hard classification and a soft classification."
      ]
    },
    {
      "cell_type": "markdown",
      "id": "2627cf95",
      "metadata": {
        "id": "2627cf95"
      },
      "source": [
        "Hard PLS-DA\n",
        "---"
      ]
    },
    {
      "cell_type": "markdown",
      "id": "d2ea989c",
      "metadata": {
        "id": "d2ea989c"
      },
      "source": [
        "**Hard classification assigns an object to 1 and only 1 class.**  It is not generally valid to use this approach for authentication studies since this method will not be applicable in \"open world\" conditions where a classifer may encounter classes different from those trained on. Still, this conventional \"closed world\" classifier can still be powerful. See [Rodionova et al.](https://www.sciencedirect.com/science/article/pii/S0165993615302193) for more details.\n",
        "\n",
        "Recall that [LDA](lda.ipynb) uses multivariate Gaussians to model class probabilities; this essentially assigns a point to the class by finding the smallest Mahalanobis distance to a known class center (while also accounting for the class prior probabilities).  We can use a similarly inspired approach here.\n",
        "\n",
        "The pooled covariance matrix is known from PCA:\n",
        "\n",
        "$$\n",
        "cov(T^T) = \\Lambda \\sim T^TT\n",
        "$$\n",
        "\n",
        "It is a diagonal matrix because PCA found orthogonal components $\\left( \\Lambda = {\\rm diag}\\left( \\lambda_1, \\dots, \\lambda_{k-1} \\right) \\right)$.  The class centers, $c_k$, are computed by column centering them (since this was done in the PCA step to projection $\\hat{Y}$) then using the PCA eigenvectors to project to this $k-1$ dimensional space.\n",
        "\n",
        "The distance from a projected point, $t_i$, to a class, $k$ is given by its Mahalanobis distance:\n",
        "\n",
        "$$\n",
        "d_{ik} = (t_i - c_k)\\Lambda^{-1}(t_i - c_k)^{T}\n",
        "$$\n",
        "\n",
        "It is perfectly fine to use the Mahalanobis distance as classification metric, but it is not identical to the [LDA](lda.ipynb) decision function, strictly speaking.  You could also use other classifications approaches like trees, QDA, etc."
      ]
    },
    {
      "cell_type": "code",
      "execution_count": 4,
      "id": "8c8295d7",
      "metadata": {
        "ExecuteTime": {
          "end_time": "2023-09-27T12:29:36.037855Z",
          "start_time": "2023-09-27T12:29:35.993799Z"
        },
        "id": "8c8295d7"
      },
      "outputs": [],
      "source": [
        "def hard_plsda(X_test, X_train, y_train, n_components=2):\n",
        "    # 1. Preprocess data (one hot encoding, centering)\n",
        "    ohencoder = OneHotEncoder(sparse_output=False) # Convert integers to OHE\n",
        "    x_pls_scaler = CorrectedScaler(with_mean=True, with_std=True) # Center and (optionally) scale X\n",
        "    y_pls_scaler = CorrectedScaler(with_mean=True, with_std=False) # Center do not scale Y\n",
        "\n",
        "    y_train = y_pls_scaler.fit_transform(ohencoder.fit_transform(y_train.reshape(-1,1)))\n",
        "    X_train = x_pls_scaler.fit_transform(X_train)\n",
        "\n",
        "    X_test = x_pls_scaler.transform(X_test)\n",
        "\n",
        "    # 2. PLS2 - predict y_hat\n",
        "    plsda = PLSRegression(n_components=n_components,\n",
        "                          max_iter=5000,\n",
        "                          tol=1.0e-9,\n",
        "                          scale=False) # Already scaled, centered as needed\n",
        "    _ = plsda.fit(X_train, y_train)\n",
        "\n",
        "    # Y was centered for PLS fitting, so de-center to return to \"normal\"\n",
        "    y_hat_train = y_pls_scaler.inverse_transform(plsda.predict(X_train))\n",
        "    y_hat_test = y_pls_scaler.inverse_transform(plsda.predict(X_test))\n",
        "\n",
        "    # 3. Perform PCA on y_hat_train - use k-1 dimensions\n",
        "    # Note that sklearn's PCA automatically centers the input so we do not need to do it explicitly\n",
        "    pca = PCA(n_components=len(ohencoder.categories_[0])-1, random_state=0)\n",
        "    T_train = pca.fit_transform(y_hat_train) # The means of y_hat_train are stored\n",
        "    T_test = pca.transform(y_hat_test) # The means are re-used here to center\n",
        "    class_centers = pca.transform(np.eye(len(ohencoder.categories_[0]))) # Centers based on y_hat_train automatically\n",
        "\n",
        "    # As a sanity check, proof that covariance of T is diagonal matrix made of eigenvalues from PCA transform\n",
        "    L = np.cov(T_train.T)\n",
        "    assert(np.allclose(np.cov(T_train.T), np.eye(len(pca.explained_variance_))*pca.explained_variance_))\n",
        "\n",
        "    # 4. Compute Mahalanobis distance (squared) and classify based on the smallest distance (squared)\n",
        "    d2 = []\n",
        "    for t in T_test:\n",
        "        d2.append([\n",
        "            np.matmul(\n",
        "                np.matmul(\n",
        "                    (t - class_centers[i]),\n",
        "                    np.linalg.inv(L)),\n",
        "                (t - class_centers[i]).reshape(-1,1)\n",
        "            )[0] for i in range(len(class_centers))\n",
        "        ])\n",
        "    d2 = np.array(d2)\n",
        "\n",
        "    prediction = np.array([ohencoder.categories_[0][c] for c in np.argmin(d2, axis=1)])\n",
        "\n",
        "    return prediction, d2, T_train, T_test"
      ]
    },
    {
      "cell_type": "code",
      "execution_count": 5,
      "id": "5f3fa05c",
      "metadata": {
        "ExecuteTime": {
          "end_time": "2023-09-27T12:29:36.070124Z",
          "start_time": "2023-09-27T12:29:36.039924Z"
        },
        "id": "5f3fa05c"
      },
      "outputs": [],
      "source": [
        "X, Y = sklearn.datasets.make_blobs(\n",
        "    n_samples=100,\n",
        "    n_features=5,\n",
        "    centers=3,\n",
        "    cluster_std=3,\n",
        "    shuffle=True,\n",
        "    random_state=0\n",
        ")\n",
        "\n",
        "X_train, y_train = X[:80], Y[:80]\n",
        "X_test, y_test = X[80:], Y[80:]\n",
        "\n",
        "prediction, squared_distances, T_train, T_test = hard_plsda(X_test, X_train, y_train, n_components=2)"
      ]
    },
    {
      "cell_type": "code",
      "execution_count": 6,
      "id": "1238e946",
      "metadata": {
        "ExecuteTime": {
          "end_time": "2023-09-27T12:29:36.098893Z",
          "start_time": "2023-09-27T12:29:36.071700Z"
        },
        "colab": {
          "base_uri": "https://localhost:8080/"
        },
        "id": "1238e946",
        "outputId": "73f34e29-2c64-45ff-de87-3eb493675738"
      },
      "outputs": [
        {
          "output_type": "stream",
          "name": "stdout",
          "text": [
            "Actual\tPrediction\tEqual?\n",
            "------------------------------\n",
            "0 \t 0 \t\t True\n",
            "0 \t 0 \t\t True\n",
            "1 \t 1 \t\t True\n",
            "0 \t 0 \t\t True\n",
            "0 \t 0 \t\t True\n",
            "0 \t 0 \t\t True\n",
            "1 \t 1 \t\t True\n",
            "1 \t 1 \t\t True\n",
            "2 \t 2 \t\t True\n",
            "2 \t 2 \t\t True\n",
            "0 \t 0 \t\t True\n",
            "1 \t 1 \t\t True\n",
            "0 \t 0 \t\t True\n",
            "2 \t 2 \t\t True\n",
            "0 \t 0 \t\t True\n",
            "0 \t 0 \t\t True\n",
            "2 \t 2 \t\t True\n",
            "1 \t 1 \t\t True\n",
            "2 \t 2 \t\t True\n",
            "2 \t 2 \t\t True\n"
          ]
        }
      ],
      "source": [
        "# In this case, the PLS-DA predicts the target classes perfectly on the test set.\n",
        "print('Actual\\tPrediction\\tEqual?\\n------------------------------')\n",
        "for act, pred in zip(y_test, prediction):\n",
        "    print(act, '\\t', pred, '\\t\\t', pred==act)"
      ]
    },
    {
      "cell_type": "code",
      "execution_count": 8,
      "id": "cf700b65",
      "metadata": {
        "ExecuteTime": {
          "end_time": "2023-09-27T12:29:36.184541Z",
          "start_time": "2023-09-27T12:29:36.100393Z"
        },
        "id": "cf700b65"
      },
      "outputs": [],
      "source": [
        "# The same calculation can be accomplished with pychemauth\n",
        "plsda = PLSDA(n_components=2, style='hard', scale_x=True)\n",
        "_ = plsda.fit(X_train, y_train)"
      ]
    },
    {
      "cell_type": "code",
      "execution_count": 9,
      "id": "9f8dfbed",
      "metadata": {
        "ExecuteTime": {
          "end_time": "2023-09-27T12:29:36.269033Z",
          "start_time": "2023-09-27T12:29:36.189142Z"
        },
        "id": "9f8dfbed"
      },
      "outputs": [],
      "source": [
        "assert np.all(plsda.predict(X_test) == prediction)\n",
        "assert np.allclose(plsda.transform(X_train), T_train)\n",
        "assert np.allclose(plsda.transform(X_test), T_test)\n",
        "assert np.allclose(plsda.mahalanobis(X_test), squared_distances)"
      ]
    },
    {
      "cell_type": "code",
      "execution_count": 10,
      "id": "5e4e9553",
      "metadata": {
        "ExecuteTime": {
          "end_time": "2023-09-27T12:29:36.561366Z",
          "start_time": "2023-09-27T12:29:36.271808Z"
        },
        "colab": {
          "base_uri": "https://localhost:8080/",
          "height": 449
        },
        "id": "5e4e9553",
        "outputId": "7e0ac958-6b9c-4b4e-bedd-ee8da693c201"
      },
      "outputs": [
        {
          "output_type": "display_data",
          "data": {
            "text/plain": [
              "<Figure size 640x480 with 1 Axes>"
            ],
            "image/png": "[encoded data removed]"
          },
          "metadata": {}
        }
      ],
      "source": [
        "_ = plsda.visualize(styles=['hard'])"
      ]
    },
    {
      "cell_type": "markdown",
      "id": "ac581aee",
      "metadata": {
        "id": "ac581aee"
      },
      "source": [
        "<h3>Figures of Merit</h3>\n",
        "\n",
        "Figures of merit for authentication models need to reflect their performance not only on known classes, but also on future uknowns.  A summary of commonly employed metrics is available [here](https://www.sciencedirect.com/science/article/pii/S0165993612000684)."
      ]
    },
    {
      "cell_type": "code",
      "execution_count": 11,
      "id": "0c446f5a",
      "metadata": {
        "ExecuteTime": {
          "end_time": "2023-09-27T12:29:36.616558Z",
          "start_time": "2023-09-27T12:29:36.562915Z"
        },
        "id": "0c446f5a"
      },
      "outputs": [],
      "source": [
        "fom = plsda.figures_of_merit(plsda.predict(X_train), y_train)"
      ]
    },
    {
      "cell_type": "code",
      "execution_count": 12,
      "id": "fcd7bffc",
      "metadata": {
        "ExecuteTime": {
          "end_time": "2023-09-27T12:29:36.642841Z",
          "start_time": "2023-09-27T12:29:36.618049Z"
        },
        "colab": {
          "base_uri": "https://localhost:8080/",
          "height": 143
        },
        "id": "fcd7bffc",
        "outputId": "38a13ad1-ba2f-4e12-92cf-8ac49edb8417"
      },
      "outputs": [
        {
          "output_type": "execute_result",
          "data": {
            "text/plain": [
              "    0   1   2  -1\n",
              "0  25   0   0   0\n",
              "1   2  26   0   0\n",
              "2   0   1  26   0"
            ],
            "text/html": [
              "\n",
              "  <div id=\"df-7ab74279-61fb-41d0-b345-eb2d0d6773bb\" class=\"colab-df-container\">\n",
              "    <div>\n",
              "<style scoped>\n",
              "    .dataframe tbody tr th:only-of-type {\n",
              "        vertical-align: middle;\n",
              "    }\n",
              "\n",
              "    .dataframe tbody tr th {\n",
              "        vertical-align: top;\n",
              "    }\n",
              "\n",
              "    .dataframe thead th {\n",
              "        text-align: right;\n",
              "    }\n",
              "</style>\n",
              "<table border=\"1\" class=\"dataframe\">\n",
              "  <thead>\n",
              "    <tr style=\"text-align: right;\">\n",
              "      <th></th>\n",
              "      <th>0</th>\n",
              "      <th>1</th>\n",
              "      <th>2</th>\n",
              "      <th>-1</th>\n",
              "    </tr>\n",
              "  </thead>\n",
              "  <tbody>\n",
              "    <tr>\n",
              "      <th>0</th>\n",
              "      <td>25</td>\n",
              "      <td>0</td>\n",
              "      <td>0</td>\n",
              "      <td>0</td>\n",
              "    </tr>\n",
              "    <tr>\n",
              "      <th>1</th>\n",
              "      <td>2</td>\n",
              "      <td>26</td>\n",
              "      <td>0</td>\n",
              "      <td>0</td>\n",
              "    </tr>\n",
              "    <tr>\n",
              "      <th>2</th>\n",
              "      <td>0</td>\n",
              "      <td>1</td>\n",
              "      <td>26</td>\n",
              "      <td>0</td>\n",
              "    </tr>\n",
              "  </tbody>\n",
              "</table>\n",
              "</div>\n",
              "    <div class=\"colab-df-buttons\">\n",
              "\n",
              "  <div class=\"colab-df-container\">\n",
              "    <button class=\"colab-df-convert\" onclick=\"convertToInteractive('df-7ab74279-61fb-41d0-b345-eb2d0d6773bb')\"\n",
              "            title=\"Convert this dataframe to an interactive table.\"\n",
              "            style=\"display:none;\">\n",
              "\n",
              "  <svg xmlns=\"http://www.w3.org/2000/svg\" height=\"24px\" viewBox=\"0 -960 960 960\">\n",
              "    <path d=\"M120-120v-720h720v720H120Zm60-500h600v-160H180v160Zm220 220h160v-160H400v160Zm0 220h160v-160H400v160ZM180-400h160v-160H180v160Zm440 0h160v-160H620v160ZM180-180h160v-160H180v160Zm440 0h160v-160H620v160Z\"/>\n",
              "  </svg>\n",
              "    </button>\n",
              "\n",
              "  <style>\n",
              "    .colab-df-container {\n",
              "      display:flex;\n",
              "      gap: 12px;\n",
              "    }\n",
              "\n",
              "    .colab-df-convert {\n",
              "      background-color: #E8F0FE;\n",
              "      border: none;\n",
              "      border-radius: 50%;\n",
              "      cursor: pointer;\n",
              "      display: none;\n",
              "      fill: #1967D2;\n",
              "      height: 32px;\n",
              "      padding: 0 0 0 0;\n",
              "      width: 32px;\n",
              "    }\n",
              "\n",
              "    .colab-df-convert:hover {\n",
              "      background-color: #E2EBFA;\n",
              "      box-shadow: 0px 1px 2px rgba(60, 64, 67, 0.3), 0px 1px 3px 1px rgba(60, 64, 67, 0.15);\n",
              "      fill: #174EA6;\n",
              "    }\n",
              "\n",
              "    .colab-df-buttons div {\n",
              "      margin-bottom: 4px;\n",
              "    }\n",
              "\n",
              "    [theme=dark] .colab-df-convert {\n",
              "      background-color: #3B4455;\n",
              "      fill: #D2E3FC;\n",
              "    }\n",
              "\n",
              "    [theme=dark] .colab-df-convert:hover {\n",
              "      background-color: #434B5C;\n",
              "      box-shadow: 0px 1px 3px 1px rgba(0, 0, 0, 0.15);\n",
              "      filter: drop-shadow(0px 1px 2px rgba(0, 0, 0, 0.3));\n",
              "      fill: #FFFFFF;\n",
              "    }\n",
              "  </style>\n",
              "\n",
              "    <script>\n",
              "      const buttonEl =\n",
              "        document.querySelector('#df-7ab74279-61fb-41d0-b345-eb2d0d6773bb button.colab-df-convert');\n",
              "      buttonEl.style.display =\n",
              "        google.colab.kernel.accessAllowed ? 'block' : 'none';\n",
              "\n",
              "      async function convertToInteractive(key) {\n",
              "        const element = document.querySelector('#df-7ab74279-61fb-41d0-b345-eb2d0d6773bb');\n",
              "        const dataTable =\n",
              "          await google.colab.kernel.invokeFunction('convertToInteractive',\n",
              "                                                    [key], {});\n",
              "        if (!dataTable) return;\n",
              "\n",
              "        const docLinkHtml = 'Like what you see? Visit the ' +\n",
              "          '<a target=\"_blank\" href=https://colab.research.google.com/notebooks/data_table.ipynb>data table notebook</a>'\n",
              "          + ' to learn more about interactive tables.';\n",
              "        element.innerHTML = '';\n",
              "        dataTable['output_type'] = 'display_data';\n",
              "        await google.colab.output.renderOutput(dataTable, element);\n",
              "        const docLink = document.createElement('div');\n",
              "        docLink.innerHTML = docLinkHtml;\n",
              "        element.appendChild(docLink);\n",
              "      }\n",
              "    </script>\n",
              "  </div>\n",
              "\n",
              "\n",
              "<div id=\"df-0094cb32-0f16-42fe-af50-08c96c9e4004\">\n",
              "  <button class=\"colab-df-quickchart\" onclick=\"quickchart('df-0094cb32-0f16-42fe-af50-08c96c9e4004')\"\n",
              "            title=\"Suggest charts\"\n",
              "            style=\"display:none;\">\n",
              "\n",
              "<svg xmlns=\"http://www.w3.org/2000/svg\" height=\"24px\"viewBox=\"0 0 24 24\"\n",
              "     width=\"24px\">\n",
              "    <g>\n",
              "        <path d=\"M19 3H5c-1.1 0-2 .9-2 2v14c0 1.1.9 2 2 2h14c1.1 0 2-.9 2-2V5c0-1.1-.9-2-2-2zM9 17H7v-7h2v7zm4 0h-2V7h2v10zm4 0h-2v-4h2v4z\"/>\n",
              "    </g>\n",
              "</svg>\n",
              "  </button>\n",
              "\n",
              "<style>\n",
              "  .colab-df-quickchart {\n",
              "      --bg-color: #E8F0FE;\n",
              "      --fill-color: #1967D2;\n",
              "      --hover-bg-color: #E2EBFA;\n",
              "      --hover-fill-color: #174EA6;\n",
              "      --disabled-fill-color: #AAA;\n",
              "      --disabled-bg-color: #DDD;\n",
              "  }\n",
              "\n",
              "  [theme=dark] .colab-df-quickchart {\n",
              "      --bg-color: #3B4455;\n",
              "      --fill-color: #D2E3FC;\n",
              "      --hover-bg-color: #434B5C;\n",
              "      --hover-fill-color: #FFFFFF;\n",
              "      --disabled-bg-color: #3B4455;\n",
              "      --disabled-fill-color: #666;\n",
              "  }\n",
              "\n",
              "  .colab-df-quickchart {\n",
              "    background-color: var(--bg-color);\n",
              "    border: none;\n",
              "    border-radius: 50%;\n",
              "    cursor: pointer;\n",
              "    display: none;\n",
              "    fill: var(--fill-color);\n",
              "    height: 32px;\n",
              "    padding: 0;\n",
              "    width: 32px;\n",
              "  }\n",
              "\n",
              "  .colab-df-quickchart:hover {\n",
              "    background-color: var(--hover-bg-color);\n",
              "    box-shadow: 0 1px 2px rgba(60, 64, 67, 0.3), 0 1px 3px 1px rgba(60, 64, 67, 0.15);\n",
              "    fill: var(--button-hover-fill-color);\n",
              "  }\n",
              "\n",
              "  .colab-df-quickchart-complete:disabled,\n",
              "  .colab-df-quickchart-complete:disabled:hover {\n",
              "    background-color: var(--disabled-bg-color);\n",
              "    fill: var(--disabled-fill-color);\n",
              "    box-shadow: none;\n",
              "  }\n",
              "\n",
              "  .colab-df-spinner {\n",
              "    border: 2px solid var(--fill-color);\n",
              "    border-color: transparent;\n",
              "    border-bottom-color: var(--fill-color);\n",
              "    animation:\n",
              "      spin 1s steps(1) infinite;\n",
              "  }\n",
              "\n",
              "  @keyframes spin {\n",
              "    0% {\n",
              "      border-color: transparent;\n",
              "      border-bottom-color: var(--fill-color);\n",
              "      border-left-color: var(--fill-color);\n",
              "    }\n",
              "    20% {\n",
              "      border-color: transparent;\n",
              "      border-left-color: var(--fill-color);\n",
              "      border-top-color: var(--fill-color);\n",
              "    }\n",
              "    30% {\n",
              "      border-color: transparent;\n",
              "      border-left-color: var(--fill-color);\n",
              "      border-top-color: var(--fill-color);\n",
              "      border-right-color: var(--fill-color);\n",
              "    }\n",
              "    40% {\n",
              "      border-color: transparent;\n",
              "      border-right-color: var(--fill-color);\n",
              "      border-top-color: var(--fill-color);\n",
              "    }\n",
              "    60% {\n",
              "      border-color: transparent;\n",
              "      border-right-color: var(--fill-color);\n",
              "    }\n",
              "    80% {\n",
              "      border-color: transparent;\n",
              "      border-right-color: var(--fill-color);\n",
              "      border-bottom-color: var(--fill-color);\n",
              "    }\n",
              "    90% {\n",
              "      border-color: transparent;\n",
              "      border-bottom-color: var(--fill-color);\n",
              "    }\n",
              "  }\n",
              "</style>\n",
              "\n",
              "  <script>\n",
              "    async function quickchart(key) {\n",
              "      const quickchartButtonEl =\n",
              "        document.querySelector('#' + key + ' button');\n",
              "      quickchartButtonEl.disabled = true;  // To prevent multiple clicks.\n",
              "      quickchartButtonEl.classList.add('colab-df-spinner');\n",
              "      try {\n",
              "        const charts = await google.colab.kernel.invokeFunction(\n",
              "            'suggestCharts', [key], {});\n",
              "      } catch (error) {\n",
              "        console.error('Error during call to suggestCharts:', error);\n",
              "      }\n",
              "      quickchartButtonEl.classList.remove('colab-df-spinner');\n",
              "      quickchartButtonEl.classList.add('colab-df-quickchart-complete');\n",
              "    }\n",
              "    (() => {\n",
              "      let quickchartButtonEl =\n",
              "        document.querySelector('#df-0094cb32-0f16-42fe-af50-08c96c9e4004 button');\n",
              "      quickchartButtonEl.style.display =\n",
              "        google.colab.kernel.accessAllowed ? 'block' : 'none';\n",
              "    })();\n",
              "  </script>\n",
              "</div>\n",
              "\n",
              "    </div>\n",
              "  </div>\n"
            ],
            "application/vnd.google.colaboratory.intrinsic+json": {
              "type": "dataframe",
              "summary": "{\n  \"name\": \"fom['CM']\",\n  \"rows\": 3,\n  \"fields\": [\n    {\n      \"column\": 0,\n      \"properties\": {\n        \"dtype\": \"number\",\n        \"std\": 13,\n        \"min\": 0,\n        \"max\": 25,\n        \"num_unique_values\": 3,\n        \"samples\": [\n          25,\n          2,\n          0\n        ],\n        \"semantic_type\": \"\",\n        \"description\": \"\"\n      }\n    },\n    {\n      \"column\": 1,\n      \"properties\": {\n        \"dtype\": \"number\",\n        \"std\": 14,\n        \"min\": 0,\n        \"max\": 26,\n        \"num_unique_values\": 3,\n        \"samples\": [\n          0,\n          26,\n          1\n        ],\n        \"semantic_type\": \"\",\n        \"description\": \"\"\n      }\n    },\n    {\n      \"column\": 2,\n      \"properties\": {\n        \"dtype\": \"number\",\n        \"std\": 15,\n        \"min\": 0,\n        \"max\": 26,\n        \"num_unique_values\": 2,\n        \"samples\": [\n          26,\n          0\n        ],\n        \"semantic_type\": \"\",\n        \"description\": \"\"\n      }\n    },\n    {\n      \"column\": -1,\n      \"properties\": {\n        \"dtype\": \"number\",\n        \"std\": 0,\n        \"min\": 0,\n        \"max\": 0,\n        \"num_unique_values\": 1,\n        \"samples\": [\n          0\n        ],\n        \"semantic_type\": \"\",\n        \"description\": \"\"\n      }\n    }\n  ]\n}"
            }
          },
          "metadata": {},
          "execution_count": 12
        }
      ],
      "source": [
        "# Essentially this is a confusion matrix (true labels are rows, columns are predicted labels).\n",
        "# For Hard PLS-DA, the rows sum up to the number of examples of each class since each is assigned to only one column,\n",
        "# and nothing is assigned to the unknown class (-1).\n",
        "fom['CM']"
      ]
    },
    {
      "cell_type": "code",
      "execution_count": 13,
      "id": "a8a85026",
      "metadata": {
        "ExecuteTime": {
          "end_time": "2023-09-27T12:29:36.715238Z",
          "start_time": "2023-09-27T12:29:36.644563Z"
        },
        "colab": {
          "base_uri": "https://localhost:8080/",
          "height": 178
        },
        "id": "a8a85026",
        "outputId": "4b605351-8f2a-48ca-ad68-62840871781d"
      },
      "outputs": [
        {
          "output_type": "execute_result",
          "data": {
            "text/plain": [
              "0    25\n",
              "1    28\n",
              "2    27\n",
              "dtype: int64"
            ],
            "text/html": [
              "<div>\n",
              "<style scoped>\n",
              "    .dataframe tbody tr th:only-of-type {\n",
              "        vertical-align: middle;\n",
              "    }\n",
              "\n",
              "    .dataframe tbody tr th {\n",
              "        vertical-align: top;\n",
              "    }\n",
              "\n",
              "    .dataframe thead th {\n",
              "        text-align: right;\n",
              "    }\n",
              "</style>\n",
              "<table border=\"1\" class=\"dataframe\">\n",
              "  <thead>\n",
              "    <tr style=\"text-align: right;\">\n",
              "      <th></th>\n",
              "      <th>0</th>\n",
              "    </tr>\n",
              "  </thead>\n",
              "  <tbody>\n",
              "    <tr>\n",
              "      <th>0</th>\n",
              "      <td>25</td>\n",
              "    </tr>\n",
              "    <tr>\n",
              "      <th>1</th>\n",
              "      <td>28</td>\n",
              "    </tr>\n",
              "    <tr>\n",
              "      <th>2</th>\n",
              "      <td>27</td>\n",
              "    </tr>\n",
              "  </tbody>\n",
              "</table>\n",
              "</div><br><label><b>dtype:</b> int64</label>"
            ]
          },
          "metadata": {},
          "execution_count": 13
        }
      ],
      "source": [
        "# Total samples of each class.\n",
        "fom['I']"
      ]
    },
    {
      "cell_type": "code",
      "execution_count": 14,
      "id": "d0198096",
      "metadata": {
        "ExecuteTime": {
          "end_time": "2023-09-27T12:29:36.791351Z",
          "start_time": "2023-09-27T12:29:36.717294Z"
        },
        "colab": {
          "base_uri": "https://localhost:8080/",
          "height": 178
        },
        "id": "d0198096",
        "outputId": "c564be04-50f2-44be-ec7c-25679b43d775"
      },
      "outputs": [
        {
          "output_type": "execute_result",
          "data": {
            "text/plain": [
              "0    1.000000\n",
              "1    0.928571\n",
              "2    0.962963\n",
              "dtype: float64"
            ],
            "text/html": [
              "<div>\n",
              "<style scoped>\n",
              "    .dataframe tbody tr th:only-of-type {\n",
              "        vertical-align: middle;\n",
              "    }\n",
              "\n",
              "    .dataframe tbody tr th {\n",
              "        vertical-align: top;\n",
              "    }\n",
              "\n",
              "    .dataframe thead th {\n",
              "        text-align: right;\n",
              "    }\n",
              "</style>\n",
              "<table border=\"1\" class=\"dataframe\">\n",
              "  <thead>\n",
              "    <tr style=\"text-align: right;\">\n",
              "      <th></th>\n",
              "      <th>0</th>\n",
              "    </tr>\n",
              "  </thead>\n",
              "  <tbody>\n",
              "    <tr>\n",
              "      <th>0</th>\n",
              "      <td>1.000000</td>\n",
              "    </tr>\n",
              "    <tr>\n",
              "      <th>1</th>\n",
              "      <td>0.928571</td>\n",
              "    </tr>\n",
              "    <tr>\n",
              "      <th>2</th>\n",
              "      <td>0.962963</td>\n",
              "    </tr>\n",
              "  </tbody>\n",
              "</table>\n",
              "</div><br><label><b>dtype:</b> float64</label>"
            ]
          },
          "metadata": {},
          "execution_count": 14
        }
      ],
      "source": [
        "# Class sensitivity is the fraction of each class that was assigned to that class (like an accuracy) = true positive rate.\n",
        "fom['CSNS']"
      ]
    },
    {
      "cell_type": "code",
      "execution_count": null,
      "id": "58b09191",
      "metadata": {
        "ExecuteTime": {
          "end_time": "2023-09-27T12:29:36.858190Z",
          "start_time": "2023-09-27T12:29:36.794165Z"
        },
        "colab": {
          "base_uri": "https://localhost:8080/"
        },
        "id": "58b09191",
        "outputId": "dbc9504d-98c8-481f-9054-fe248e3e49c7"
      },
      "outputs": [
        {
          "output_type": "execute_result",
          "data": {
            "text/plain": [
              "0    0.963636\n",
              "1    0.980769\n",
              "2    1.000000\n",
              "dtype: float64"
            ]
          },
          "metadata": {},
          "execution_count": 14
        }
      ],
      "source": [
        "# Class specificity is the fraction of alternate classes correctly NOT assigned to a class = 1 - false positive rate,\n",
        "# or the true negative rate.\n",
        "fom['CSPS']"
      ]
    },
    {
      "cell_type": "code",
      "execution_count": 15,
      "id": "b7c9258d",
      "metadata": {
        "ExecuteTime": {
          "end_time": "2023-09-27T12:29:36.924954Z",
          "start_time": "2023-09-27T12:29:36.860605Z"
        },
        "colab": {
          "base_uri": "https://localhost:8080/"
        },
        "id": "b7c9258d",
        "outputId": "704f0c80-48f5-4b33-816e-fbe1064a3340"
      },
      "outputs": [
        {
          "output_type": "execute_result",
          "data": {
            "text/plain": [
              "0.9636363636363636"
            ]
          },
          "metadata": {},
          "execution_count": 15
        }
      ],
      "source": [
        "# For example 2 examples of class 1 were assigned to class 0.\n",
        "total_non_class_0 = fom['I'][1] + fom['I'][2]\n",
        "assigned_to_class_0 = 2\n",
        "\n",
        "1.0 - assigned_to_class_0 / total_non_class_0"
      ]
    },
    {
      "cell_type": "code",
      "execution_count": 16,
      "id": "03aeb464",
      "metadata": {
        "ExecuteTime": {
          "end_time": "2023-09-27T12:29:36.992471Z",
          "start_time": "2023-09-27T12:29:36.928011Z"
        },
        "colab": {
          "base_uri": "https://localhost:8080/",
          "height": 178
        },
        "id": "03aeb464",
        "outputId": "295b98b5-9a22-421f-cc81-ee50ba2cd3f2"
      },
      "outputs": [
        {
          "output_type": "execute_result",
          "data": {
            "text/plain": [
              "0    0.981650\n",
              "1    0.954314\n",
              "2    0.981307\n",
              "dtype: float64"
            ],
            "text/html": [
              "<div>\n",
              "<style scoped>\n",
              "    .dataframe tbody tr th:only-of-type {\n",
              "        vertical-align: middle;\n",
              "    }\n",
              "\n",
              "    .dataframe tbody tr th {\n",
              "        vertical-align: top;\n",
              "    }\n",
              "\n",
              "    .dataframe thead th {\n",
              "        text-align: right;\n",
              "    }\n",
              "</style>\n",
              "<table border=\"1\" class=\"dataframe\">\n",
              "  <thead>\n",
              "    <tr style=\"text-align: right;\">\n",
              "      <th></th>\n",
              "      <th>0</th>\n",
              "    </tr>\n",
              "  </thead>\n",
              "  <tbody>\n",
              "    <tr>\n",
              "      <th>0</th>\n",
              "      <td>0.981650</td>\n",
              "    </tr>\n",
              "    <tr>\n",
              "      <th>1</th>\n",
              "      <td>0.954314</td>\n",
              "    </tr>\n",
              "    <tr>\n",
              "      <th>2</th>\n",
              "      <td>0.981307</td>\n",
              "    </tr>\n",
              "  </tbody>\n",
              "</table>\n",
              "</div><br><label><b>dtype:</b> float64</label>"
            ]
          },
          "metadata": {},
          "execution_count": 16
        }
      ],
      "source": [
        "# CEFF is the geometric mean of the CSPS and CSNS.\n",
        "fom['CEFF']"
      ]
    },
    {
      "cell_type": "code",
      "execution_count": 17,
      "id": "a5671280",
      "metadata": {
        "ExecuteTime": {
          "end_time": "2023-09-27T12:29:37.058238Z",
          "start_time": "2023-09-27T12:29:36.995592Z"
        },
        "colab": {
          "base_uri": "https://localhost:8080/"
        },
        "id": "a5671280",
        "outputId": "c5188621-d74c-4b9e-8c0b-f418cf26f12f"
      },
      "outputs": [
        {
          "output_type": "execute_result",
          "data": {
            "text/plain": [
              "0.9625"
            ]
          },
          "metadata": {},
          "execution_count": 17
        }
      ],
      "source": [
        "# Total sensitivity reflects the number of correct assignments (the diagonal of df).\n",
        "fom['TSNS']"
      ]
    },
    {
      "cell_type": "code",
      "execution_count": 18,
      "id": "ba237cfb",
      "metadata": {
        "ExecuteTime": {
          "end_time": "2023-09-27T12:29:37.145656Z",
          "start_time": "2023-09-27T12:29:37.061396Z"
        },
        "colab": {
          "base_uri": "https://localhost:8080/"
        },
        "id": "ba237cfb",
        "outputId": "53274504-98b8-43a4-aaba-bb76fa43de51"
      },
      "outputs": [
        {
          "output_type": "execute_result",
          "data": {
            "text/plain": [
              "0.9625"
            ]
          },
          "metadata": {},
          "execution_count": 18
        }
      ],
      "source": [
        "(fom['CM'][0][0] + fom['CM'][1][1] + fom['CM'][2][2]) / fom['I'].sum()"
      ]
    },
    {
      "cell_type": "code",
      "execution_count": 19,
      "id": "30144b84",
      "metadata": {
        "ExecuteTime": {
          "end_time": "2023-09-27T12:29:37.209708Z",
          "start_time": "2023-09-27T12:29:37.148557Z"
        },
        "colab": {
          "base_uri": "https://localhost:8080/"
        },
        "id": "30144b84",
        "outputId": "d7013420-07fc-4523-c5c0-5be01e856e92"
      },
      "outputs": [
        {
          "output_type": "execute_result",
          "data": {
            "text/plain": [
              "0.9625"
            ]
          },
          "metadata": {},
          "execution_count": 19
        }
      ],
      "source": [
        "# Total specificity reflects the total number of incorrect assignments (the off-diagonals of df).\n",
        "# Note - this is calculated differently for HARD vs. SOFT PLS-DA, which will be discussed in the next section.\n",
        "fom['TSPS']"
      ]
    },
    {
      "cell_type": "code",
      "execution_count": 20,
      "id": "f387838e",
      "metadata": {
        "ExecuteTime": {
          "end_time": "2023-09-27T12:29:37.269168Z",
          "start_time": "2023-09-27T12:29:37.212853Z"
        },
        "colab": {
          "base_uri": "https://localhost:8080/"
        },
        "id": "f387838e",
        "outputId": "9b74abdb-4933-40b5-ae3d-a29d6dc61142"
      },
      "outputs": [
        {
          "output_type": "execute_result",
          "data": {
            "text/plain": [
              "0.9625"
            ]
          },
          "metadata": {},
          "execution_count": 20
        }
      ],
      "source": [
        "1.0 - (fom['CM'][[0,1,2]].sum().sum() - (fom['CM'][0][0] + fom['CM'][1][1] + fom['CM'][2][2])) / fom['I'].sum()"
      ]
    },
    {
      "cell_type": "code",
      "execution_count": 21,
      "id": "749a8be8",
      "metadata": {
        "ExecuteTime": {
          "end_time": "2023-09-27T12:29:37.333201Z",
          "start_time": "2023-09-27T12:29:37.272052Z"
        },
        "colab": {
          "base_uri": "https://localhost:8080/"
        },
        "id": "749a8be8",
        "outputId": "45f15847-e754-4272-fd9b-43dc13ceb1b6"
      },
      "outputs": [
        {
          "output_type": "execute_result",
          "data": {
            "text/plain": [
              "0.9625"
            ]
          },
          "metadata": {},
          "execution_count": 21
        }
      ],
      "source": [
        "# Again, TEFF is the geometric mean of TSPS and TSNS.\n",
        "fom['TEFF']"
      ]
    },
    {
      "cell_type": "code",
      "execution_count": 22,
      "id": "38e18953",
      "metadata": {
        "ExecuteTime": {
          "end_time": "2023-09-27T12:29:37.408266Z",
          "start_time": "2023-09-27T12:29:37.336034Z"
        },
        "colab": {
          "base_uri": "https://localhost:8080/"
        },
        "id": "38e18953",
        "outputId": "0fbf096f-842a-4adf-99be-805e9b2ee070"
      },
      "outputs": [
        {
          "output_type": "execute_result",
          "data": {
            "text/plain": [
              "(0.9625, 0.9625, 0.9625, 0.9625)"
            ]
          },
          "metadata": {},
          "execution_count": 22
        }
      ],
      "source": [
        "# For Hard PLS-DA ONLY, we have TEFF = TSNS = TSPS = Accuracy.\n",
        "accuracy = np.sum(plsda.predict(X_train) == y_train) / len(y_train)\n",
        "fom['TEFF'], fom['TSNS'], fom['TSPS'], accuracy"
      ]
    },
    {
      "cell_type": "markdown",
      "id": "853a9c2d",
      "metadata": {
        "id": "853a9c2d"
      },
      "source": [
        "Soft PLS-DA\n",
        "---\n",
        "\n",
        "Rather than using an LDA-like distance (which assumes all classes have the same covariance matrix), you can instead use a QDA-like distance which uses a separate within-class covariance matrix for each class.  Each within-class covariance matrix is given by:\n",
        "\n",
        "$$\n",
        "S_k = \\frac{1}{I_k} \\sum_{i \\in \\omega(k)} (t_i-c_k)^T(t_i-c_k)\n",
        "$$\n",
        "\n",
        "where there are $I_k$ samples from class $k$ and $\\omega(k)$ denotes which data points (in the training set) belong to class $k$.  Recall that class centers, $c_k$, originate from a fixed \"corner\" of the polytope (tetrahedron in the above example) resulting from one-hot encoding;  thus, they are known and we do not need to substract 1 degree of freedom from the estimation of the class center ($I_k - 1$).  The Mahalanobis distance (squared) as:\n",
        "\n",
        "$$\n",
        "d_{ik} = (t_i - c_k)S_k^{-1}(t_i - c_k)^{T}\n",
        "$$\n",
        "\n",
        "Assuming the distances follow a chi-squared distribution we can establish a critical distance below which we assume point i belongs to class $k$, and beyond which we assume it does not.\n",
        "\n",
        "$$\n",
        "d_{\\rm crit} = \\chi^{-2}(1-\\alpha, k-1)\n",
        "$$\n",
        "\n",
        "where $\\chi^{-2}$ is the quantile of the chi-squared distribution with $k$-1 degrees of freedom and a type I error rate of $\\alpha$. $H_0$ is that a point belongs to class $k$; type I error is the rejection of a true $H_0$ (that it belongs to class $k$) so this represents the rate at which we reject that a point belongs to a class that it truly does belong to.  \n",
        "\n",
        "One can also specify an outlier threshold (which will be different for each class, unlike $d_{\\rm crit}$:\n",
        "\n",
        "$$\n",
        "d_{\\rm out} = \\chi^{-2}((1-\\gamma)^{1/I_k}, k-1)\n",
        "$$\n",
        "\n",
        "We expect the $\\chi^2$ [distribution](https://en.wikipedia.org/wiki/Chi-square_distribution) since it represents the sum of squres of random variates; here, each direction is assumed to be a random variable and thus, computing a Mahalanobis distance (in a $k$-1 dimensional space) as done above results in a sum of squares.\n",
        "\n",
        "**Thus, Soft PLS-DA may assign a point to 1 or more classes, or to none at all.  This means it can be used for authentication studies.**"
      ]
    },
    {
      "cell_type": "code",
      "execution_count": 23,
      "id": "cf555f55",
      "metadata": {
        "ExecuteTime": {
          "end_time": "2023-09-27T12:29:37.485429Z",
          "start_time": "2023-09-27T12:29:37.411470Z"
        },
        "id": "cf555f55"
      },
      "outputs": [],
      "source": [
        "def soft_plsda(X_test, X_train, y_train, alpha=0.05, gamma=0.05, n_components=2):\n",
        "\n",
        "    # *** This block is the same as Hard PLS-DA *** #\n",
        "\n",
        "    # 1. Preprocess data (one hot encoding, centering)\n",
        "    ohencoder = OneHotEncoder(sparse_output=False) # Convert integers to OHE\n",
        "    x_pls_scaler = CorrectedScaler(with_mean=True, with_std=True) # Center and scale X\n",
        "    y_pls_scaler = CorrectedScaler(with_mean=True, with_std=False) # Center do not scale Y\n",
        "\n",
        "    ohencoder.fit(y_train.reshape(-1,1))\n",
        "    class_mask = {}\n",
        "    for i in range(len(ohencoder.categories_[0])):\n",
        "        class_mask[i] = y_train == ohencoder.categories_[0][i]\n",
        "\n",
        "    y_train = y_pls_scaler.fit_transform(ohencoder.transform(y_train.reshape(-1,1)))\n",
        "    X_train = x_pls_scaler.fit_transform(X_train)\n",
        "\n",
        "    X_test = x_pls_scaler.transform(X_test)\n",
        "\n",
        "    # 2. PLS2 - predict y_hat\n",
        "    plsda = PLSRegression(n_components=n_components,\n",
        "                          max_iter=5000,\n",
        "                          tol=1.0e-9,\n",
        "                          scale=False) # Already scaled, centered as needed\n",
        "    _ = plsda.fit(X_train, y_train)\n",
        "\n",
        "    # Y was centered for PLS fitting, so de-center to return to \"normal\"\n",
        "    y_hat_train = y_pls_scaler.inverse_transform(plsda.predict(X_train))\n",
        "    y_hat_test = y_pls_scaler.inverse_transform(plsda.predict(X_test))\n",
        "\n",
        "    # 3. Perform PCA on y_hat_train - use k-1 dimensions\n",
        "    # Note that sklearn's PCA automatically centers the input so we do not need to do it explicitly\n",
        "    pca = PCA(n_components=len(ohencoder.categories_[0])-1, random_state=0)\n",
        "    T_train = pca.fit_transform(y_hat_train) # The means of y_hat_train are stored\n",
        "    T_test = pca.transform(y_hat_test) # The means are re-used here to center\n",
        "    class_centers = pca.transform(np.eye(len(ohencoder.categories_[0]))) # Centers based on y_hat_train automatically\n",
        "\n",
        "    # ********************************************* #\n",
        "\n",
        "    # Soft PLS-DA computes distances differently\n",
        "\n",
        "    # 4. Compute within-class scatter from training set\n",
        "    S = {}\n",
        "    for i in range(len(ohencoder.categories_[0])):\n",
        "        S[i] = np.zeros((T_train.shape[1], T_train.shape[1]), dtype=np.float64)\n",
        "        for t in T_train[class_mask[i]]:\n",
        "            # Same as an outer product\n",
        "            S[i] += (t - class_centers[i]).reshape(-1,1).dot((t - class_centers[i]).reshape(-1,1).T)\n",
        "        S[i] /= np.sum(class_mask[i])\n",
        "\n",
        "    # 5. Compute Mahalanobis distance (squared) and classify based on the critical distance (squared)\n",
        "    d2_crit = scipy.stats.chi2.ppf(1.0-alpha, len(ohencoder.categories_[0])-1)\n",
        "    d2_out = [scipy.stats.chi2.ppf((1.0-gamma)**(1.0/np.sum(class_mask[i])), len(ohencoder.categories_[0])-1)\n",
        "             for i in range(len(ohencoder.categories_[0]))\n",
        "            ] # Outlier cutoff - these can only be checked for the training set\n",
        "\n",
        "    d2 = []\n",
        "    for t in T_test:\n",
        "        d2.append([\n",
        "            np.matmul(\n",
        "                np.matmul(\n",
        "                    (t - class_centers[i]),\n",
        "                    np.linalg.inv(S[i])),\n",
        "                (t - class_centers[i]).reshape(-1,1))[0]\n",
        "            for i in range(len(ohencoder.categories_[0]))\n",
        "        ])\n",
        "    assert(np.all(np.array(d2)>=0)), 'All Mahalanobis distances must be >= 0'\n",
        "\n",
        "    # Return all classes within d_crit, sorted from smallest to largest. \"NOT_ASSIGNED\" means no assignment.\n",
        "    predictions = []\n",
        "    for row in d2:\n",
        "        # The lower distance (squared), the higher the certainty of that class\n",
        "        d2_sorted = sorted(zip(ohencoder.categories_[0], row), key=lambda x:x[1])\n",
        "        belongs_to = [x[0] for x in d2_sorted if x[1] < d2_crit]\n",
        "        if len(belongs_to) == 0:\n",
        "            belongs_to = [\"NOT_ASSIGNED\"]\n",
        "        predictions.append(belongs_to)\n",
        "\n",
        "    # Check for outliers in the training data - in principle, you should remove these and retrain.\n",
        "    outliers = [False]*X_train.shape[0]\n",
        "    for j, t in enumerate(T_train):\n",
        "        # Find which class entry j belongs to\n",
        "        cat = None\n",
        "        for i in range(len(ohencoder.categories_[0])):\n",
        "            if class_mask[i][j]:\n",
        "                cat = i\n",
        "                break\n",
        "        d2_ = np.matmul(np.matmul((t - class_centers[cat]), np.linalg.inv(S[cat])), (t - class_centers[cat]).reshape(-1,1))[0]\n",
        "        if d2_ > d2_out[i]:\n",
        "            outliers[j] = True\n",
        "\n",
        "    return predictions, outliers, d2"
      ]
    },
    {
      "cell_type": "code",
      "execution_count": 24,
      "id": "cc01d66e",
      "metadata": {
        "ExecuteTime": {
          "end_time": "2023-09-27T12:29:37.580621Z",
          "start_time": "2023-09-27T12:29:37.488156Z"
        },
        "id": "cc01d66e"
      },
      "outputs": [],
      "source": [
        "prediction, outliers, squared_distances = soft_plsda(X_test, X_train, y_train, alpha=0.05, gamma=0.05, n_components=2)"
      ]
    },
    {
      "cell_type": "code",
      "execution_count": 25,
      "id": "bc046934",
      "metadata": {
        "ExecuteTime": {
          "end_time": "2023-09-27T12:29:37.658689Z",
          "start_time": "2023-09-27T12:29:37.583515Z"
        },
        "colab": {
          "base_uri": "https://localhost:8080/"
        },
        "id": "bc046934",
        "outputId": "6ead7497-e7f3-485a-9bf1-30884c74f05c"
      },
      "outputs": [
        {
          "output_type": "execute_result",
          "data": {
            "text/plain": [
              "False"
            ]
          },
          "metadata": {},
          "execution_count": 25
        }
      ],
      "source": [
        "# In this case, the data is well-behaved\n",
        "np.any(outliers)"
      ]
    },
    {
      "cell_type": "code",
      "execution_count": 26,
      "id": "895fa461",
      "metadata": {
        "ExecuteTime": {
          "end_time": "2023-09-27T12:29:37.725630Z",
          "start_time": "2023-09-27T12:29:37.666408Z"
        },
        "colab": {
          "base_uri": "https://localhost:8080/"
        },
        "id": "895fa461",
        "outputId": "7d30f7ee-f650-4707-943f-656f5c1067d0"
      },
      "outputs": [
        {
          "output_type": "stream",
          "name": "stdout",
          "text": [
            "Actual\tPrediction\tEqual?\n",
            "--------------------------------\n",
            "0 \t [0] \t\t True\n",
            "0 \t [0] \t\t True\n",
            "1 \t [1] \t\t True\n",
            "0 \t [0] \t\t True\n",
            "0 \t [0] \t\t True\n",
            "0 \t [0] \t\t True\n",
            "1 \t [1, 2] \t False\n",
            "1 \t [1] \t\t True\n",
            "2 \t [2] \t\t True\n",
            "2 \t [2] \t\t True\n",
            "0 \t [0, 1] \t False\n",
            "1 \t [1] \t\t True\n",
            "0 \t [0] \t\t True\n",
            "2 \t [2] \t\t True\n",
            "0 \t [0] \t\t True\n",
            "0 \t [0] \t\t True\n",
            "2 \t [2] \t\t True\n",
            "1 \t [1] \t\t True\n",
            "2 \t [2] \t\t True\n",
            "2 \t [2] \t\t True\n"
          ]
        }
      ],
      "source": [
        "# Here we see that each row can actually have muliple assignments!  We have sorted them in order of lowest distance.\n",
        "# In this case, even when multiple assignments are made, the lowest distance (first prediction) is equal to its\n",
        "# true class, which is good.\n",
        "print('Actual\\tPrediction\\tEqual?\\n--------------------------------')\n",
        "for act, pred in zip(y_test, prediction):\n",
        "    print(act, '\\t', pred, '\\t'*(2-len(pred) + 1), (pred==act if len(pred) == 1 else [False])[0])"
      ]
    },
    {
      "cell_type": "code",
      "execution_count": 27,
      "id": "22424f6e",
      "metadata": {
        "ExecuteTime": {
          "end_time": "2023-09-27T12:29:37.808230Z",
          "start_time": "2023-09-27T12:29:37.728475Z"
        },
        "id": "22424f6e"
      },
      "outputs": [],
      "source": [
        "# The same calculation can be accomplished with pychemauth\n",
        "plsda = PLSDA(n_components=2, style='soft', scale_x=True)\n",
        "_ = plsda.fit(X_train, y_train)"
      ]
    },
    {
      "cell_type": "code",
      "execution_count": 28,
      "id": "a7c787c3",
      "metadata": {
        "ExecuteTime": {
          "end_time": "2023-09-27T12:29:37.871303Z",
          "start_time": "2023-09-27T12:29:37.811175Z"
        },
        "id": "a7c787c3"
      },
      "outputs": [],
      "source": [
        "assert np.all(plsda.predict(X_test) == prediction)\n",
        "assert np.allclose(plsda.mahalanobis(X_test), squared_distances)"
      ]
    },
    {
      "cell_type": "code",
      "execution_count": 31,
      "id": "1143fec9",
      "metadata": {
        "ExecuteTime": {
          "end_time": "2023-09-27T12:29:39.301374Z",
          "start_time": "2023-09-27T12:29:37.874438Z"
        },
        "colab": {
          "base_uri": "https://localhost:8080/",
          "height": 449
        },
        "id": "1143fec9",
        "outputId": "b961e471-90ab-46fc-c45f-09ddda5f952d"
      },
      "outputs": [
        {
          "output_type": "display_data",
          "data": {
            "text/plain": [
              "<Figure size 640x480 with 1 Axes>"
            ],
            "image/png": "[encoded data removed]"
          },
          "metadata": {}
        }
      ],
      "source": [
        "# You can see the overlapping ellipses for the training set where multiple assignments would be made\n",
        "_ = plsda.visualize(styles=['soft'])"
      ]
    },
    {
      "cell_type": "markdown",
      "id": "efb16ae9",
      "metadata": {
        "id": "efb16ae9"
      },
      "source": [
        "<h3>Figures of Merit</h3>"
      ]
    },
    {
      "cell_type": "code",
      "execution_count": 32,
      "id": "562aed30",
      "metadata": {
        "ExecuteTime": {
          "end_time": "2023-09-27T12:29:39.360955Z",
          "start_time": "2023-09-27T12:29:39.303610Z"
        },
        "id": "562aed30"
      },
      "outputs": [],
      "source": [
        "fom = plsda.figures_of_merit(plsda.predict(X_train), y_train)"
      ]
    },
    {
      "cell_type": "code",
      "execution_count": 33,
      "id": "6bc71bc5",
      "metadata": {
        "ExecuteTime": {
          "end_time": "2023-09-27T12:29:39.430626Z",
          "start_time": "2023-09-27T12:29:39.362594Z"
        },
        "colab": {
          "base_uri": "https://localhost:8080/",
          "height": 143
        },
        "id": "6bc71bc5",
        "outputId": "d06eeb9a-295c-4eb7-ccc3-1fdb317e0b05"
      },
      "outputs": [
        {
          "output_type": "execute_result",
          "data": {
            "text/plain": [
              "    0   1   2  -1\n",
              "0  25   1   0   0\n",
              "1   1  27   5   1\n",
              "2   0   6  27   0"
            ],
            "text/html": [
              "\n",
              "  <div id=\"df-d830c4ce-43e8-430c-b32e-c46bd82a323f\" class=\"colab-df-container\">\n",
              "    <div>\n",
              "<style scoped>\n",
              "    .dataframe tbody tr th:only-of-type {\n",
              "        vertical-align: middle;\n",
              "    }\n",
              "\n",
              "    .dataframe tbody tr th {\n",
              "        vertical-align: top;\n",
              "    }\n",
              "\n",
              "    .dataframe thead th {\n",
              "        text-align: right;\n",
              "    }\n",
              "</style>\n",
              "<table border=\"1\" class=\"dataframe\">\n",
              "  <thead>\n",
              "    <tr style=\"text-align: right;\">\n",
              "      <th></th>\n",
              "      <th>0</th>\n",
              "      <th>1</th>\n",
              "      <th>2</th>\n",
              "      <th>-1</th>\n",
              "    </tr>\n",
              "  </thead>\n",
              "  <tbody>\n",
              "    <tr>\n",
              "      <th>0</th>\n",
              "      <td>25</td>\n",
              "      <td>1</td>\n",
              "      <td>0</td>\n",
              "      <td>0</td>\n",
              "    </tr>\n",
              "    <tr>\n",
              "      <th>1</th>\n",
              "      <td>1</td>\n",
              "      <td>27</td>\n",
              "      <td>5</td>\n",
              "      <td>1</td>\n",
              "    </tr>\n",
              "    <tr>\n",
              "      <th>2</th>\n",
              "      <td>0</td>\n",
              "      <td>6</td>\n",
              "      <td>27</td>\n",
              "      <td>0</td>\n",
              "    </tr>\n",
              "  </tbody>\n",
              "</table>\n",
              "</div>\n",
              "    <div class=\"colab-df-buttons\">\n",
              "\n",
              "  <div class=\"colab-df-container\">\n",
              "    <button class=\"colab-df-convert\" onclick=\"convertToInteractive('df-d830c4ce-43e8-430c-b32e-c46bd82a323f')\"\n",
              "            title=\"Convert this dataframe to an interactive table.\"\n",
              "            style=\"display:none;\">\n",
              "\n",
              "  <svg xmlns=\"http://www.w3.org/2000/svg\" height=\"24px\" viewBox=\"0 -960 960 960\">\n",
              "    <path d=\"M120-120v-720h720v720H120Zm60-500h600v-160H180v160Zm220 220h160v-160H400v160Zm0 220h160v-160H400v160ZM180-400h160v-160H180v160Zm440 0h160v-160H620v160ZM180-180h160v-160H180v160Zm440 0h160v-160H620v160Z\"/>\n",
              "  </svg>\n",
              "    </button>\n",
              "\n",
              "  <style>\n",
              "    .colab-df-container {\n",
              "      display:flex;\n",
              "      gap: 12px;\n",
              "    }\n",
              "\n",
              "    .colab-df-convert {\n",
              "      background-color: #E8F0FE;\n",
              "      border: none;\n",
              "      border-radius: 50%;\n",
              "      cursor: pointer;\n",
              "      display: none;\n",
              "      fill: #1967D2;\n",
              "      height: 32px;\n",
              "      padding: 0 0 0 0;\n",
              "      width: 32px;\n",
              "    }\n",
              "\n",
              "    .colab-df-convert:hover {\n",
              "      background-color: #E2EBFA;\n",
              "      box-shadow: 0px 1px 2px rgba(60, 64, 67, 0.3), 0px 1px 3px 1px rgba(60, 64, 67, 0.15);\n",
              "      fill: #174EA6;\n",
              "    }\n",
              "\n",
              "    .colab-df-buttons div {\n",
              "      margin-bottom: 4px;\n",
              "    }\n",
              "\n",
              "    [theme=dark] .colab-df-convert {\n",
              "      background-color: #3B4455;\n",
              "      fill: #D2E3FC;\n",
              "    }\n",
              "\n",
              "    [theme=dark] .colab-df-convert:hover {\n",
              "      background-color: #434B5C;\n",
              "      box-shadow: 0px 1px 3px 1px rgba(0, 0, 0, 0.15);\n",
              "      filter: drop-shadow(0px 1px 2px rgba(0, 0, 0, 0.3));\n",
              "      fill: #FFFFFF;\n",
              "    }\n",
              "  </style>\n",
              "\n",
              "    <script>\n",
              "      const buttonEl =\n",
              "        document.querySelector('#df-d830c4ce-43e8-430c-b32e-c46bd82a323f button.colab-df-convert');\n",
              "      buttonEl.style.display =\n",
              "        google.colab.kernel.accessAllowed ? 'block' : 'none';\n",
              "\n",
              "      async function convertToInteractive(key) {\n",
              "        const element = document.querySelector('#df-d830c4ce-43e8-430c-b32e-c46bd82a323f');\n",
              "        const dataTable =\n",
              "          await google.colab.kernel.invokeFunction('convertToInteractive',\n",
              "                                                    [key], {});\n",
              "        if (!dataTable) return;\n",
              "\n",
              "        const docLinkHtml = 'Like what you see? Visit the ' +\n",
              "          '<a target=\"_blank\" href=https://colab.research.google.com/notebooks/data_table.ipynb>data table notebook</a>'\n",
              "          + ' to learn more about interactive tables.';\n",
              "        element.innerHTML = '';\n",
              "        dataTable['output_type'] = 'display_data';\n",
              "        await google.colab.output.renderOutput(dataTable, element);\n",
              "        const docLink = document.createElement('div');\n",
              "        docLink.innerHTML = docLinkHtml;\n",
              "        element.appendChild(docLink);\n",
              "      }\n",
              "    </script>\n",
              "  </div>\n",
              "\n",
              "\n",
              "<div id=\"df-1131e4c9-2e40-49ce-a06f-73a0ca453568\">\n",
              "  <button class=\"colab-df-quickchart\" onclick=\"quickchart('df-1131e4c9-2e40-49ce-a06f-73a0ca453568')\"\n",
              "            title=\"Suggest charts\"\n",
              "            style=\"display:none;\">\n",
              "\n",
              "<svg xmlns=\"http://www.w3.org/2000/svg\" height=\"24px\"viewBox=\"0 0 24 24\"\n",
              "     width=\"24px\">\n",
              "    <g>\n",
              "        <path d=\"M19 3H5c-1.1 0-2 .9-2 2v14c0 1.1.9 2 2 2h14c1.1 0 2-.9 2-2V5c0-1.1-.9-2-2-2zM9 17H7v-7h2v7zm4 0h-2V7h2v10zm4 0h-2v-4h2v4z\"/>\n",
              "    </g>\n",
              "</svg>\n",
              "  </button>\n",
              "\n",
              "<style>\n",
              "  .colab-df-quickchart {\n",
              "      --bg-color: #E8F0FE;\n",
              "      --fill-color: #1967D2;\n",
              "      --hover-bg-color: #E2EBFA;\n",
              "      --hover-fill-color: #174EA6;\n",
              "      --disabled-fill-color: #AAA;\n",
              "      --disabled-bg-color: #DDD;\n",
              "  }\n",
              "\n",
              "  [theme=dark] .colab-df-quickchart {\n",
              "      --bg-color: #3B4455;\n",
              "      --fill-color: #D2E3FC;\n",
              "      --hover-bg-color: #434B5C;\n",
              "      --hover-fill-color: #FFFFFF;\n",
              "      --disabled-bg-color: #3B4455;\n",
              "      --disabled-fill-color: #666;\n",
              "  }\n",
              "\n",
              "  .colab-df-quickchart {\n",
              "    background-color: var(--bg-color);\n",
              "    border: none;\n",
              "    border-radius: 50%;\n",
              "    cursor: pointer;\n",
              "    display: none;\n",
              "    fill: var(--fill-color);\n",
              "    height: 32px;\n",
              "    padding: 0;\n",
              "    width: 32px;\n",
              "  }\n",
              "\n",
              "  .colab-df-quickchart:hover {\n",
              "    background-color: var(--hover-bg-color);\n",
              "    box-shadow: 0 1px 2px rgba(60, 64, 67, 0.3), 0 1px 3px 1px rgba(60, 64, 67, 0.15);\n",
              "    fill: var(--button-hover-fill-color);\n",
              "  }\n",
              "\n",
              "  .colab-df-quickchart-complete:disabled,\n",
              "  .colab-df-quickchart-complete:disabled:hover {\n",
              "    background-color: var(--disabled-bg-color);\n",
              "    fill: var(--disabled-fill-color);\n",
              "    box-shadow: none;\n",
              "  }\n",
              "\n",
              "  .colab-df-spinner {\n",
              "    border: 2px solid var(--fill-color);\n",
              "    border-color: transparent;\n",
              "    border-bottom-color: var(--fill-color);\n",
              "    animation:\n",
              "      spin 1s steps(1) infinite;\n",
              "  }\n",
              "\n",
              "  @keyframes spin {\n",
              "    0% {\n",
              "      border-color: transparent;\n",
              "      border-bottom-color: var(--fill-color);\n",
              "      border-left-color: var(--fill-color);\n",
              "    }\n",
              "    20% {\n",
              "      border-color: transparent;\n",
              "      border-left-color: var(--fill-color);\n",
              "      border-top-color: var(--fill-color);\n",
              "    }\n",
              "    30% {\n",
              "      border-color: transparent;\n",
              "      border-left-color: var(--fill-color);\n",
              "      border-top-color: var(--fill-color);\n",
              "      border-right-color: var(--fill-color);\n",
              "    }\n",
              "    40% {\n",
              "      border-color: transparent;\n",
              "      border-right-color: var(--fill-color);\n",
              "      border-top-color: var(--fill-color);\n",
              "    }\n",
              "    60% {\n",
              "      border-color: transparent;\n",
              "      border-right-color: var(--fill-color);\n",
              "    }\n",
              "    80% {\n",
              "      border-color: transparent;\n",
              "      border-right-color: var(--fill-color);\n",
              "      border-bottom-color: var(--fill-color);\n",
              "    }\n",
              "    90% {\n",
              "      border-color: transparent;\n",
              "      border-bottom-color: var(--fill-color);\n",
              "    }\n",
              "  }\n",
              "</style>\n",
              "\n",
              "  <script>\n",
              "    async function quickchart(key) {\n",
              "      const quickchartButtonEl =\n",
              "        document.querySelector('#' + key + ' button');\n",
              "      quickchartButtonEl.disabled = true;  // To prevent multiple clicks.\n",
              "      quickchartButtonEl.classList.add('colab-df-spinner');\n",
              "      try {\n",
              "        const charts = await google.colab.kernel.invokeFunction(\n",
              "            'suggestCharts', [key], {});\n",
              "      } catch (error) {\n",
              "        console.error('Error during call to suggestCharts:', error);\n",
              "      }\n",
              "      quickchartButtonEl.classList.remove('colab-df-spinner');\n",
              "      quickchartButtonEl.classList.add('colab-df-quickchart-complete');\n",
              "    }\n",
              "    (() => {\n",
              "      let quickchartButtonEl =\n",
              "        document.querySelector('#df-1131e4c9-2e40-49ce-a06f-73a0ca453568 button');\n",
              "      quickchartButtonEl.style.display =\n",
              "        google.colab.kernel.accessAllowed ? 'block' : 'none';\n",
              "    })();\n",
              "  </script>\n",
              "</div>\n",
              "\n",
              "    </div>\n",
              "  </div>\n"
            ],
            "application/vnd.google.colaboratory.intrinsic+json": {
              "type": "dataframe",
              "summary": "{\n  \"name\": \"fom['CM']\",\n  \"rows\": 3,\n  \"fields\": [\n    {\n      \"column\": 0,\n      \"properties\": {\n        \"dtype\": \"number\",\n        \"std\": 14,\n        \"min\": 0,\n        \"max\": 25,\n        \"num_unique_values\": 3,\n        \"samples\": [\n          25,\n          1,\n          0\n        ],\n        \"semantic_type\": \"\",\n        \"description\": \"\"\n      }\n    },\n    {\n      \"column\": 1,\n      \"properties\": {\n        \"dtype\": \"number\",\n        \"std\": 13,\n        \"min\": 1,\n        \"max\": 27,\n        \"num_unique_values\": 3,\n        \"samples\": [\n          1,\n          27,\n          6\n        ],\n        \"semantic_type\": \"\",\n        \"description\": \"\"\n      }\n    },\n    {\n      \"column\": 2,\n      \"properties\": {\n        \"dtype\": \"number\",\n        \"std\": 14,\n        \"min\": 0,\n        \"max\": 27,\n        \"num_unique_values\": 3,\n        \"samples\": [\n          0,\n          5,\n          27\n        ],\n        \"semantic_type\": \"\",\n        \"description\": \"\"\n      }\n    },\n    {\n      \"column\": -1,\n      \"properties\": {\n        \"dtype\": \"number\",\n        \"std\": 0,\n        \"min\": 0,\n        \"max\": 1,\n        \"num_unique_values\": 2,\n        \"samples\": [\n          1,\n          0\n        ],\n        \"semantic_type\": \"\",\n        \"description\": \"\"\n      }\n    }\n  ]\n}"
            }
          },
          "metadata": {},
          "execution_count": 33
        }
      ],
      "source": [
        "# Now we see that some instances are assigned to the -1 column (unknown)\n",
        "fom['CM']"
      ]
    },
    {
      "cell_type": "code",
      "execution_count": 34,
      "id": "2b0c8602",
      "metadata": {
        "ExecuteTime": {
          "end_time": "2023-09-27T12:29:39.501169Z",
          "start_time": "2023-09-27T12:29:39.432809Z"
        },
        "colab": {
          "base_uri": "https://localhost:8080/",
          "height": 178
        },
        "id": "2b0c8602",
        "outputId": "5e6c32fb-ca98-4854-fbbd-4856b27fb7df"
      },
      "outputs": [
        {
          "output_type": "execute_result",
          "data": {
            "text/plain": [
              "0    25\n",
              "1    28\n",
              "2    27\n",
              "dtype: int64"
            ],
            "text/html": [
              "<div>\n",
              "<style scoped>\n",
              "    .dataframe tbody tr th:only-of-type {\n",
              "        vertical-align: middle;\n",
              "    }\n",
              "\n",
              "    .dataframe tbody tr th {\n",
              "        vertical-align: top;\n",
              "    }\n",
              "\n",
              "    .dataframe thead th {\n",
              "        text-align: right;\n",
              "    }\n",
              "</style>\n",
              "<table border=\"1\" class=\"dataframe\">\n",
              "  <thead>\n",
              "    <tr style=\"text-align: right;\">\n",
              "      <th></th>\n",
              "      <th>0</th>\n",
              "    </tr>\n",
              "  </thead>\n",
              "  <tbody>\n",
              "    <tr>\n",
              "      <th>0</th>\n",
              "      <td>25</td>\n",
              "    </tr>\n",
              "    <tr>\n",
              "      <th>1</th>\n",
              "      <td>28</td>\n",
              "    </tr>\n",
              "    <tr>\n",
              "      <th>2</th>\n",
              "      <td>27</td>\n",
              "    </tr>\n",
              "  </tbody>\n",
              "</table>\n",
              "</div><br><label><b>dtype:</b> int64</label>"
            ]
          },
          "metadata": {},
          "execution_count": 34
        }
      ],
      "source": [
        "# Note how the sums of the rows do not equal the total number of observations any more - this is because it is possible\n",
        "# to assign a point to multiple classes now.\n",
        "fom['I']"
      ]
    },
    {
      "cell_type": "code",
      "execution_count": 35,
      "id": "0a530bb2",
      "metadata": {
        "ExecuteTime": {
          "end_time": "2023-09-27T12:29:39.568389Z",
          "start_time": "2023-09-27T12:29:39.503652Z"
        },
        "colab": {
          "base_uri": "https://localhost:8080/",
          "height": 178
        },
        "id": "0a530bb2",
        "outputId": "dfd12699-7d48-43e4-c5c5-51121906074a"
      },
      "outputs": [
        {
          "output_type": "execute_result",
          "data": {
            "text/plain": [
              "0    1.000000\n",
              "1    0.964286\n",
              "2    1.000000\n",
              "dtype: float64"
            ],
            "text/html": [
              "<div>\n",
              "<style scoped>\n",
              "    .dataframe tbody tr th:only-of-type {\n",
              "        vertical-align: middle;\n",
              "    }\n",
              "\n",
              "    .dataframe tbody tr th {\n",
              "        vertical-align: top;\n",
              "    }\n",
              "\n",
              "    .dataframe thead th {\n",
              "        text-align: right;\n",
              "    }\n",
              "</style>\n",
              "<table border=\"1\" class=\"dataframe\">\n",
              "  <thead>\n",
              "    <tr style=\"text-align: right;\">\n",
              "      <th></th>\n",
              "      <th>0</th>\n",
              "    </tr>\n",
              "  </thead>\n",
              "  <tbody>\n",
              "    <tr>\n",
              "      <th>0</th>\n",
              "      <td>1.000000</td>\n",
              "    </tr>\n",
              "    <tr>\n",
              "      <th>1</th>\n",
              "      <td>0.964286</td>\n",
              "    </tr>\n",
              "    <tr>\n",
              "      <th>2</th>\n",
              "      <td>1.000000</td>\n",
              "    </tr>\n",
              "  </tbody>\n",
              "</table>\n",
              "</div><br><label><b>dtype:</b> float64</label>"
            ]
          },
          "metadata": {},
          "execution_count": 35
        }
      ],
      "source": [
        "# Class sensitivity is calculated in the same way - even though multiple assignments are possible. It is the diagonal\n",
        "# terms over the total points from a class.\n",
        "fom['CSNS']"
      ]
    },
    {
      "cell_type": "code",
      "execution_count": 36,
      "id": "2d10bc64",
      "metadata": {
        "ExecuteTime": {
          "end_time": "2023-09-27T12:29:39.635993Z",
          "start_time": "2023-09-27T12:29:39.571335Z"
        },
        "colab": {
          "base_uri": "https://localhost:8080/",
          "height": 178
        },
        "id": "2d10bc64",
        "outputId": "2d3eed2e-3a1d-45d0-8688-8ea31a62a07e"
      },
      "outputs": [
        {
          "output_type": "execute_result",
          "data": {
            "text/plain": [
              "0    0.981818\n",
              "1    0.865385\n",
              "2    0.905660\n",
              "dtype: float64"
            ],
            "text/html": [
              "<div>\n",
              "<style scoped>\n",
              "    .dataframe tbody tr th:only-of-type {\n",
              "        vertical-align: middle;\n",
              "    }\n",
              "\n",
              "    .dataframe tbody tr th {\n",
              "        vertical-align: top;\n",
              "    }\n",
              "\n",
              "    .dataframe thead th {\n",
              "        text-align: right;\n",
              "    }\n",
              "</style>\n",
              "<table border=\"1\" class=\"dataframe\">\n",
              "  <thead>\n",
              "    <tr style=\"text-align: right;\">\n",
              "      <th></th>\n",
              "      <th>0</th>\n",
              "    </tr>\n",
              "  </thead>\n",
              "  <tbody>\n",
              "    <tr>\n",
              "      <th>0</th>\n",
              "      <td>0.981818</td>\n",
              "    </tr>\n",
              "    <tr>\n",
              "      <th>1</th>\n",
              "      <td>0.865385</td>\n",
              "    </tr>\n",
              "    <tr>\n",
              "      <th>2</th>\n",
              "      <td>0.905660</td>\n",
              "    </tr>\n",
              "  </tbody>\n",
              "</table>\n",
              "</div><br><label><b>dtype:</b> float64</label>"
            ]
          },
          "metadata": {},
          "execution_count": 36
        }
      ],
      "source": [
        "fom['CSPS']"
      ]
    },
    {
      "cell_type": "markdown",
      "id": "301326a5",
      "metadata": {
        "id": "301326a5"
      },
      "source": [
        "Specificity can pose a problem in Soft PLS-DA.  Suppose we have a very bad classifier which assigns every point to every class.  The matrix above (`fom['CM']`) would look like this:\n",
        "\n",
        "|     | 0   | 1   | 2   | -1  |\n",
        "| --- | --- | --- | --- | --- |\n",
        "| 0   | 25  | 25  | 25  | 0   |\n",
        "| 1   | 28  | 28  | 28  | 0   |\n",
        "| 2   | 27  | 27  | 27  | 0   |\n",
        "\n",
        "In this limit, the CSNS = 1 for all classes, because each point was assigned to its true class; however, it was also assigned to every other class, too.  CSPS = 0 for all classes then. Both CSPS and CSNS are bounded by [0, 1].  The same is not true for TSPS.\n",
        "\n",
        "$$TSPS_{\\rm hard} = 1 - \\frac{\\sum_{l \\neq k} n_{kl}}{\\sum I}$$\n",
        "\n",
        "Here the numerator (sum of off-diagonals) is, in general, $\\sum_{l \\neq k} n_{kl} = (k-1) \\sum I$, for $k$ total classes. Thus, $TSPS_{\\rm hard} = 1 - (k-1) = 2 - k$; if $k > 2$ this can be negative, which is not sensible. One way to circuvent this is to scale the numerator by $(k-1)$ so the TSPS is bounded by [0, 1].\n",
        "\n",
        "$$TSPS_{\\rm soft} = 1 - \\frac{1}{k-1} \\frac{\\sum_{l \\neq k} n_{kl}}{\\sum I}$$\n",
        "\n",
        "This solves the problem, however, it is important to note that this affects TEFF.  Moreover, if we are comparing the performance of hard and soft models using TEFF we are no longer comparing \"apple to apples\" - most classifiers are much better than this \"worst case scenario\" so this rescaling tends to inflate TSPS (and thus TEFF) relative to hard models.  Furthermore, if you are comparing Soft PLS-DA to models like SIMCA, which also use TEFF, it is important to **remember their equations are different!**"
      ]
    },
    {
      "cell_type": "code",
      "execution_count": 37,
      "id": "4c50632f",
      "metadata": {
        "ExecuteTime": {
          "end_time": "2023-09-27T12:29:39.701496Z",
          "start_time": "2023-09-27T12:29:39.639092Z"
        },
        "colab": {
          "base_uri": "https://localhost:8080/"
        },
        "id": "4c50632f",
        "outputId": "d0109215-20e4-49f7-ffb0-68923c7de861"
      },
      "outputs": [
        {
          "output_type": "execute_result",
          "data": {
            "text/plain": [
              "0.91875"
            ]
          },
          "metadata": {},
          "execution_count": 37
        }
      ],
      "source": [
        "fom['TSPS']"
      ]
    },
    {
      "cell_type": "code",
      "execution_count": 38,
      "id": "459abd3f",
      "metadata": {
        "ExecuteTime": {
          "end_time": "2023-09-27T12:29:39.770778Z",
          "start_time": "2023-09-27T12:29:39.703934Z"
        },
        "colab": {
          "base_uri": "https://localhost:8080/"
        },
        "id": "459abd3f",
        "outputId": "dba5e867-8478-4fc1-c24d-aff1122a4814"
      },
      "outputs": [
        {
          "output_type": "execute_result",
          "data": {
            "text/plain": [
              "0.91875"
            ]
          },
          "metadata": {},
          "execution_count": 38
        }
      ],
      "source": [
        "1.0 - (fom['CM'][[0,1,2]].sum().sum() - (fom['CM'][0][0] + fom['CM'][1][1] + fom['CM'][2][2])) / fom['I'].sum() / (3-1)"
      ]
    },
    {
      "cell_type": "code",
      "execution_count": 39,
      "id": "ae801b0a",
      "metadata": {
        "ExecuteTime": {
          "end_time": "2023-09-27T12:29:39.834979Z",
          "start_time": "2023-09-27T12:29:39.773748Z"
        },
        "colab": {
          "base_uri": "https://localhost:8080/"
        },
        "id": "ae801b0a",
        "outputId": "6d70981a-4104-4b4e-a800-fc375fb19e7d"
      },
      "outputs": [
        {
          "output_type": "execute_result",
          "data": {
            "text/plain": [
              "0.9875"
            ]
          },
          "metadata": {},
          "execution_count": 39
        }
      ],
      "source": [
        "# TSNS is still computed in the same way\n",
        "fom['TSNS']"
      ]
    },
    {
      "cell_type": "code",
      "execution_count": 40,
      "id": "c20c8f0f",
      "metadata": {
        "ExecuteTime": {
          "end_time": "2023-09-27T12:29:39.902050Z",
          "start_time": "2023-09-27T12:29:39.838128Z"
        },
        "colab": {
          "base_uri": "https://localhost:8080/"
        },
        "id": "c20c8f0f",
        "outputId": "3bbe8b26-8718-4618-f9ff-8aae6b324bc5"
      },
      "outputs": [
        {
          "output_type": "execute_result",
          "data": {
            "text/plain": [
              "0.9875"
            ]
          },
          "metadata": {},
          "execution_count": 40
        }
      ],
      "source": [
        "(fom['CM'][0][0] + fom['CM'][1][1] + fom['CM'][2][2]) / fom['I'].sum()"
      ]
    },
    {
      "cell_type": "code",
      "execution_count": 41,
      "id": "553a7cec",
      "metadata": {
        "ExecuteTime": {
          "end_time": "2023-09-27T12:29:39.968452Z",
          "start_time": "2023-09-27T12:29:39.905121Z"
        },
        "colab": {
          "base_uri": "https://localhost:8080/"
        },
        "id": "553a7cec",
        "outputId": "5891caf8-7591-45dd-d345-0ef5a3be46d4"
      },
      "outputs": [
        {
          "output_type": "execute_result",
          "data": {
            "text/plain": [
              "0.9525049212471293"
            ]
          },
          "metadata": {},
          "execution_count": 41
        }
      ],
      "source": [
        "# TEFF is the geometric mean of TSNS and TSPS\n",
        "fom['TEFF']"
      ]
    }
  ],
  "metadata": {
    "language_info": {
      "name": "python"
    },
    "colab": {
      "provenance": []
    },
    "kernelspec": {
      "name": "python3",
      "display_name": "Python 3"
    }
  },
  "nbformat": 4,
  "nbformat_minor": 5
}

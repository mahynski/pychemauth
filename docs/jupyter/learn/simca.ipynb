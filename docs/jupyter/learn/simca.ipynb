{
  "cells": [
    {
      "cell_type": "markdown",
      "id": "f4110398",
      "metadata": {
        "ExecuteTime": {
          "end_time": "2023-09-11T18:57:21.723251Z",
          "start_time": "2023-09-11T18:57:21.715643Z"
        },
        "id": "f4110398"
      },
      "source": [
        "Soft Independent Modeling of Class Analogies (SIMCA)\n",
        "===\n",
        "\n",
        "Author: Nathan A. Mahynski\n",
        "\n",
        "Date: 2023/09/12\n",
        "\n",
        "Description: Explanation and examples of [SIMCA](https://en.wikipedia.org/wiki/Soft_independent_modelling_of_class_analogies).\n",
        "\n",
        "[![Open In Colab](https://colab.research.google.com/assets/colab-badge.svg)](https://colab.research.google.com/github/mahynski/pychemauth/blob/main/docs/jupyter/learn/simca.ipynb)\n",
        "\n",
        "Soft Independent Modelling of Class Analogies (SIMCA) is a popular method for building authentication models.  Like Soft PLS-DA, it can determine if a new sample is consistent with a training set of known authentic class examples.  However, unlike PLS-DA, SIMCA models are trained on a single class and return a binary True/False prediction as to whether a new sample is consistent with previously seen ones.  There have been many variations on the technique since its [introduction by Wold](https://www.sciencedirect.com/science/article/abs/pii/0031320376900145) in the late 1970s.  We will review 2 different approaches: one more conventional, another which is more modern.\n",
        "\n",
        "Furthermore, there are differences in the way each model may be optimized. \"Rigorous\" models use only examples of the target class and are designed to reach a certain sensitivity (specificity cannot be evaluated); \"compliant\" models are instead trained using alternative examples to reach an overall ideal balance of specificity and sensitivity.  While the latter often appear to perform \"better,\" the results are biased based on what alternatives are available for training which is difficult to fully quantify. See [Rodionova et al.](https://www.sciencedirect.com/science/article/pii/S0169743916302799) for more discussion.\n",
        "\n",
        "A review of Hotelling's $T^2$ statistics and their relationship to the $\\chi^2$ distribution can be helpful:\n",
        "\n",
        "* [NIST Engineering Statistics Handbook](https://www.itl.nist.gov/div898/handbook/pmc/section5/pmc543.htm)\n",
        "\n",
        "* [Penn State - Applied Multivariate Statistical Analysis](https://online.stat.psu.edu/stat505/lesson/7/7.1/7.1.3)\n",
        "\n",
        "* [Wikipedia](https://en.wikipedia.org/wiki/Hotelling%27s_T-squared_distribution)"
      ]
    },
    {
      "cell_type": "code",
      "execution_count": null,
      "id": "78b5c9e0",
      "metadata": {
        "ExecuteTime": {
          "end_time": "2023-09-26T15:09:18.598940Z",
          "start_time": "2023-09-26T15:09:18.593101Z"
        },
        "id": "78b5c9e0"
      },
      "outputs": [],
      "source": [
        "if 'google.colab' in str(get_ipython()):\n",
        "    !pip install git+https://github.com/mahynski/pychemauth@main\n",
        "    import os\n",
        "    os.kill(os.getpid(), 9) # Automatically restart the runtime to reload libraries"
      ]
    },
    {
      "cell_type": "code",
      "execution_count": 1,
      "id": "9f60adae",
      "metadata": {
        "ExecuteTime": {
          "end_time": "2023-09-26T15:09:19.042045Z",
          "start_time": "2023-09-26T15:09:18.602878Z"
        },
        "id": "9f60adae"
      },
      "outputs": [],
      "source": [
        "try:\n",
        "    import pychemauth\n",
        "except:\n",
        "    raise ImportError(\"pychemauth not installed\")\n",
        "\n",
        "import matplotlib.pyplot as plt\n",
        "%matplotlib inline\n",
        "\n",
        "import watermark\n",
        "%load_ext watermark\n",
        "\n",
        "%load_ext autoreload\n",
        "%autoreload 2"
      ]
    },
    {
      "cell_type": "code",
      "execution_count": 2,
      "id": "a350867e",
      "metadata": {
        "ExecuteTime": {
          "end_time": "2023-09-26T15:09:20.006737Z",
          "start_time": "2023-09-26T15:09:19.045308Z"
        },
        "id": "a350867e"
      },
      "outputs": [],
      "source": [
        "import scipy\n",
        "import sklearn\n",
        "\n",
        "import numpy as np\n",
        "\n",
        "from sklearn.datasets import make_blobs\n",
        "from sklearn.decomposition import PCA\n",
        "\n",
        "from pychemauth.classifier.simca import SIMCA_Model, DDSIMCA_Model\n",
        "from pychemauth.preprocessing.scaling import CorrectedScaler"
      ]
    },
    {
      "cell_type": "code",
      "execution_count": 3,
      "id": "b03266b4",
      "metadata": {
        "ExecuteTime": {
          "end_time": "2023-09-26T15:09:20.034812Z",
          "start_time": "2023-09-26T15:09:20.008927Z"
        },
        "id": "b03266b4",
        "outputId": "e1d14fbd-d129-4d70-d103-c2f11ab6cde3",
        "colab": {
          "base_uri": "https://localhost:8080/"
        }
      },
      "outputs": [
        {
          "output_type": "stream",
          "name": "stdout",
          "text": [
            "Python implementation: CPython\n",
            "Python version       : 3.10.12\n",
            "IPython version      : 7.34.0\n",
            "\n",
            "Compiler    : GCC 11.4.0\n",
            "OS          : Linux\n",
            "Release     : 6.1.85+\n",
            "Machine     : x86_64\n",
            "Processor   : x86_64\n",
            "CPU cores   : 2\n",
            "Architecture: 64bit\n",
            "\n",
            "pychemauth: 0.0.0b4\n",
            "sklearn   : 1.3.0\n",
            "numpy     : 1.24.3\n",
            "scipy     : 1.11.1\n",
            "watermark : 2.4.3\n",
            "matplotlib: 3.7.2\n",
            "\n"
          ]
        }
      ],
      "source": [
        "%watermark -t -m -v --iversions"
      ]
    },
    {
      "cell_type": "markdown",
      "id": "8e6dd3a3",
      "metadata": {
        "ExecuteTime": {
          "end_time": "2023-09-20T18:46:38.499511Z",
          "start_time": "2023-09-20T18:46:38.475098Z"
        },
        "id": "8e6dd3a3"
      },
      "source": [
        "A Conventional Implementation\n",
        "---"
      ]
    },
    {
      "cell_type": "markdown",
      "id": "64fc0fa0",
      "metadata": {
        "id": "64fc0fa0"
      },
      "source": [
        "See [\"Robust classification in high dimensions based on the SIMCA Method,\" Vanden Branden, Hubert, Chemometrics and Intelligent Laboratory Systems 79 (2005) 10-21.](https://doi.org/10.1016/j.chemolab.2005.03.002) and [\"Decision criteria for soft independent modelling of class analogy applied to near infrared data\" De Maesschalk et al., Chemometrics and Intelligent Laboratory Systems 47 (1999) 65-77.](https://doi.org/10.1016/S0169-7439(98)00159-2) for details and justification of this implementation.\n",
        "\n",
        "Step 1: The raw data is **broken up by group (supervised)**; then **for each group** a PCA model for the data is constructed as follows:\n",
        "    \n",
        "$$\n",
        "X = TP^T + E.\n",
        "$$\n",
        "\n",
        "Here, $X$, is the training data and has dimensions NxJ where $T$ is the scores matrix (projection of $X$ into some space, NxK), determined by $P$ which is the loadings matrix (JxK), and $E$ as the error or residual matrix.  $E$ may be explicitly calculated by $E = X - TP^T$. $X$ should be centered, and possibly scaled, as is required for PCA.  Note that some communities define [loadings](https://stats.stackexchange.com/questions/143905/loadings-vs-eigenvectors-in-pca-when-to-use-one-or-another) differently.\n",
        "\n",
        "Step 2: The residual standard deviation (RSD) values are calculated for the test set and training set a little differently.  For a given observation in the test set:\n",
        "\n",
        "$$\n",
        "RSD_{i, test}^2 = \\frac{e_i^Te_i}{J-K},\n",
        "$$\n",
        "\n",
        "while for the training set (composed of the I samples) the degrees of freedom are modified slightly:\n",
        "\n",
        "$$\n",
        "RSD_{train}^2 = \\frac{\\sum_{i,train} e_i^Te_i}{(J-K)(N-K-1)}.\n",
        "$$\n",
        "\n",
        "Here, $e_i^Te_i$ is referred to as the squared orthogonal distance, $OD^2$.\n",
        "\n",
        "Step 3: The threshold for the model is computed using an [F-test](https://www.statisticshowto.com/probability-and-statistics/hypothesis-testing/f-test/):\n",
        "\n",
        "$$\n",
        "F_i = \\frac{RSD_{i, test}^2}{RSD_{\\rm train}^2}\n",
        "$$\n",
        "\n",
        "where the $F$ value is compared to some critical limiting value taken at a given significance, for example, $F_{\\rm crit} = F_{(J-K),(N-K-1);0.95}$ is commonly used as a 95% quantile limit.  If $F_i/F_{\\rm crit} < 1$, we assign the observation to the class.\n",
        "\n",
        "Note that the number of principal components, K, does NOT need to the same from group to group; in fact, this is where the \"independent\" part of S(I)MCA comes from. (see Vanden Branden et al.)\n",
        "\n",
        "Note: there is apparently some discrepancy, historically, on what degrees of freedom to use when computing these F statistics.  In [De Maesschalk et al.](https://doi.org/10.1016/S0169-7439(98)00159-2) the authors discuss this in detail; essentially, in the above equations the term (J - K) is only valid when N > J (more samples than variables).  Otherwise, then term should be replaced with ((N - 1) - K) in both the test and train cases (and for computing the critical F value); i.e., use the smaller of (N,J), but due to mean centering we lose 1 DoF from I.  However, this term cancels out when computing the F value for a given sample.  It does, however, **affect the calculation of the critical F value**.  From a statistics perspective this is important so that $\\alpha$ is meaningful; from a machine learning perspective, if we simply chose to optimize $\\alpha$ to balance sensitivity and specificity of a model, then it is effectively irrelevant since this procedure treats $F_{\\rm crit}$ as an adjustable parameter."
      ]
    },
    {
      "cell_type": "code",
      "execution_count": 8,
      "id": "e922b8b6",
      "metadata": {
        "ExecuteTime": {
          "end_time": "2023-09-26T15:09:20.059069Z",
          "start_time": "2023-09-26T15:09:20.036867Z"
        },
        "id": "e922b8b6"
      },
      "outputs": [],
      "source": [
        "class SIMCA:\n",
        "    def __init__(self, n_components, alpha=0.05):\n",
        "        self.__n_components = n_components\n",
        "        self.__alpha = alpha\n",
        "\n",
        "    def fit(self, X_train):\n",
        "        # 1. Autoscale X\n",
        "        self.__ss = CorrectedScaler(with_mean=True, with_std=True)\n",
        "        self.__X_train = X_train.copy()\n",
        "\n",
        "        # 2. Perform PCA on standardized coordinates\n",
        "        self.__pca = PCA(n_components=self.__n_components, random_state=0)\n",
        "        self.__pca.fit(self.__ss.fit_transform(self.__X_train))\n",
        "\n",
        "        # 3. Compute critical F value\n",
        "        self.__N = X_train.shape[0]\n",
        "        self.__J = X_train.shape[1]\n",
        "        self.__K = self.__n_components\n",
        "        self.__a = self.__J if self.__N > self.__J else self.__N-1\n",
        "\n",
        "        self.__f_crit = scipy.stats.f.ppf(\n",
        "            1.0-self.__alpha,\n",
        "            (self.__a-self.__K),\n",
        "            (self.__a-self.__K)*(self.__N-self.__K-1)\n",
        "        )\n",
        "\n",
        "    def predict(self, X):\n",
        "        # Check that observations are rows of X\n",
        "        X = np.array(X)\n",
        "        if len(X.shape) == 1:\n",
        "            X = X.reshape(-1,1)\n",
        "        assert(X.shape[1] == self.__J)\n",
        "\n",
        "        \"\"\"\n",
        "        From \"Multivariate class modeling for the verification of food-authenticity\n",
        "        claims,\" Oliveri and Downey, TrAC 35 (2012):\n",
        "\n",
        "        \"The distances between each sample and the model are\n",
        "        evaluated in the full multidimensional space, which is\n",
        "        also defined by the non-significant PCs (SIMCA outer\n",
        "        space). This permits the inclusion of information on\n",
        "        random distribution of samples around the model, which\n",
        "        arises from non-significant, and therefore uninformative,\n",
        "        variations.\"\"\n",
        "        \"\"\"\n",
        "\n",
        "        # Following Vanden Branden et al.\n",
        "        X_pred = self.__ss.inverse_transform(\n",
        "            self.__pca.inverse_transform(\n",
        "                self.__pca.transform(\n",
        "                    self.__ss.transform(X)\n",
        "                )\n",
        "            )\n",
        "        )\n",
        "        numer = np.sum((X - X_pred)**2, axis=1)/(self.__a - self.__K)\n",
        "\n",
        "        X_pred = self.__ss.inverse_transform(\n",
        "            self.__pca.inverse_transform(\n",
        "                self.__pca.transform(\n",
        "                    self.__ss.transform(self.__X_train)\n",
        "                )\n",
        "            )\n",
        "        )\n",
        "\n",
        "        OD2 = np.sum((self.__X_train - X_pred)**2, axis=1)\n",
        "        denom = np.sum(OD2) / ((self.__a - self.__K)*(self.__N - self.__K - 1))\n",
        "\n",
        "        # F-test for each distance\n",
        "        F = numer/denom\n",
        "\n",
        "        # If f < f_crit, it belongs to the class\n",
        "        return F < self.__f_crit"
      ]
    },
    {
      "cell_type": "code",
      "execution_count": 9,
      "id": "b64673fb",
      "metadata": {
        "ExecuteTime": {
          "end_time": "2023-09-26T15:09:20.143912Z",
          "start_time": "2023-09-26T15:09:20.060621Z"
        },
        "id": "b64673fb"
      },
      "outputs": [],
      "source": [
        "X, Y = sklearn.datasets.make_blobs(\n",
        "    n_samples=100,\n",
        "    n_features=5,\n",
        "    centers=3,\n",
        "    cluster_std=3,\n",
        "    shuffle=True,\n",
        "    random_state=0\n",
        ")\n",
        "\n",
        "X_train, y_train = X[:80], Y[:80]\n",
        "X_test, y_test = X[80:], Y[80:]"
      ]
    },
    {
      "cell_type": "code",
      "execution_count": 10,
      "id": "1f4cfb5d",
      "metadata": {
        "ExecuteTime": {
          "end_time": "2023-09-26T15:09:20.231706Z",
          "start_time": "2023-09-26T15:09:20.146249Z"
        },
        "id": "1f4cfb5d"
      },
      "outputs": [],
      "source": [
        "# We need a new SIMCA object for EACH training class - each one indicates whether we predict a point\n",
        "# belongs to that class or not.\n",
        "manual_simca_model = {}\n",
        "for i in range(3):\n",
        "    manual_simca_model[i] = SIMCA(n_components=1, alpha=0.05)\n",
        "    manual_simca_model[i].fit(X_train[y_train == i])"
      ]
    },
    {
      "cell_type": "code",
      "execution_count": 11,
      "id": "d0f706ee",
      "metadata": {
        "ExecuteTime": {
          "end_time": "2023-09-26T15:09:20.283948Z",
          "start_time": "2023-09-26T15:09:20.234091Z"
        },
        "id": "d0f706ee",
        "outputId": "bf619b0d-084b-4e7a-b1e6-7766331b5cc0",
        "colab": {
          "base_uri": "https://localhost:8080/"
        }
      },
      "outputs": [
        {
          "output_type": "execute_result",
          "data": {
            "text/plain": [
              "array([ True,  True,  True,  True,  True,  True,  True,  True,  True,\n",
              "        True,  True,  True,  True,  True,  True,  True,  True,  True,\n",
              "        True,  True])"
            ]
          },
          "metadata": {},
          "execution_count": 11
        }
      ],
      "source": [
        "manual_simca_model[0].predict(X_test) == (y_test == 0)"
      ]
    },
    {
      "cell_type": "code",
      "execution_count": 12,
      "id": "821bdfba",
      "metadata": {
        "ExecuteTime": {
          "end_time": "2023-09-26T15:09:20.351679Z",
          "start_time": "2023-09-26T15:09:20.285734Z"
        },
        "id": "821bdfba"
      },
      "outputs": [],
      "source": [
        "# PyChemAuth provides a more versatile class for this.\n",
        "pychemauth_simca_model = {}\n",
        "for i in range(3):\n",
        "    pychemauth_simca_model[i] = SIMCA_Model(n_components=1, alpha=0.05, scale_x=True)\n",
        "    pychemauth_simca_model[i].fit(X_train[y_train == i])"
      ]
    },
    {
      "cell_type": "code",
      "execution_count": 13,
      "id": "e37b819a",
      "metadata": {
        "ExecuteTime": {
          "end_time": "2023-09-26T15:09:20.425582Z",
          "start_time": "2023-09-26T15:09:20.354709Z"
        },
        "id": "e37b819a",
        "outputId": "10305a5c-403e-4f79-bf56-d7c03f61cbe0",
        "colab": {
          "base_uri": "https://localhost:8080/"
        }
      },
      "outputs": [
        {
          "output_type": "execute_result",
          "data": {
            "text/plain": [
              "array([ True,  True,  True,  True,  True,  True,  True,  True,  True,\n",
              "        True,  True,  True,  True,  True,  True,  True,  True,  True,\n",
              "        True,  True])"
            ]
          },
          "metadata": {},
          "execution_count": 13
        }
      ],
      "source": [
        "pychemauth_simca_model[0].predict(X_test) == (y_test == 0)"
      ]
    },
    {
      "cell_type": "code",
      "execution_count": 14,
      "id": "37e330f0",
      "metadata": {
        "ExecuteTime": {
          "end_time": "2023-09-26T15:09:20.496049Z",
          "start_time": "2023-09-26T15:09:20.431511Z"
        },
        "id": "37e330f0"
      },
      "outputs": [],
      "source": [
        "for i in [0, 1, 2]:\n",
        "    assert np.all(pychemauth_simca_model[i].predict(X_test) == manual_simca_model[i].predict(X_test))"
      ]
    },
    {
      "cell_type": "markdown",
      "id": "4ac36044",
      "metadata": {
        "id": "4ac36044"
      },
      "source": [
        "Note: To use [SIMCA in pipelines](../api/simca.ipynb), etc. pychemauth provides a `SIMCA_Authenticator` wrapper class that should be used instead of this."
      ]
    },
    {
      "cell_type": "markdown",
      "id": "094cc836",
      "metadata": {
        "id": "094cc836"
      },
      "source": [
        "A Modern Approach: DD-SIMCA\n",
        "---"
      ]
    },
    {
      "cell_type": "markdown",
      "id": "d1ba15d0",
      "metadata": {
        "id": "d1ba15d0"
      },
      "source": [
        "A more modern incarnation of SIMCA is data-driven SIMCA or DD-SIMCA.  There are several descriptions of the technique:\n",
        "\n",
        "1. [\"Acceptance areas for multivariate classification derived by projection methods,\" Pomerantsev, A., Journal of Chemometrics 22 (2008) 601-609.](https://doi.org/10.1002/cem.1147)\n",
        "\n",
        "2. [\"Concept and role of extreme objects in PCA/SIMCA,\" Pomerantsev, A. and Rodionova, O., Journal of Chemometrics 28 (2014) 429-438.](https://doi.org/10.1002/cem.2506)\n",
        "\n",
        "3. [\"Detection of outliers in projection-based modeling,\" Rodionova, O., and Pomerantsev, A., Anal. Chem. 92 (2020) 2656-2664.](https://doi.org/10.1021/acs.analchem.9b04611)\n",
        "\n",
        "Briefly, the idea is to use not only the outer distance based on the error, but also an \"inner distance\" or \"score distance\" based on the distance a point is from the class center in the class subspace.  \n",
        "\n",
        "Step 1: The raw data is **broken up by group (supervised)**; then **for each group** a PCA model for the data is constructed as follows:\n",
        "    \n",
        "$$\n",
        "X = TP^T + E.\n",
        "$$\n",
        "\n",
        "Here, $X$, is the training data and has dimensions NxJ where $T$ is the scores matrix (projection of $X$ into some space, NxK, determined by), $P$ is the loadings matrix (JxK), and $E$ as the error or residual matrix.  $E$ may be explicitly calculated by $E = X - TP^T$. $X$ should be centered, and possibly scaled, as is required for PCA.\n",
        "\n",
        "Step 2: Compute the OD (squared), q, and SD (squared), h, for each point where each are defined as:\n",
        "\n",
        "$$h_i = \\sum_{j=1}^K \\frac{t_{i,j}^2}{\\lambda_j}$$\n",
        "\n",
        "$$q_i = \\sum_{j=1}^K e_{i,j}^2.$$\n",
        "\n",
        "Step 3: Compute the critical distance for class membership. It has been shown by [Pomerantsev](https://onlinelibrary.wiley.com/doi/pdf/10.1002/cem.1147?casa_token=0NaS1t1S6mYAAAAA:VHFiiSku72EY2KXifPJtZhwXlX8PhwGPDPKUN5LvBnhB2sSTe315Uc7vlX7GmuIlgPJTNIr8chd8JA) that both the SD and OD can be well approximated by scaled chi-squared distributions.  Thus, a critical distance can be defined by a linear combination:\n",
        "\n",
        "$$\n",
        "c = N_h \\frac{h}{h_0} + N_q \\frac{q}{q_0} \\sim \\chi^2(N_h+N_q)\n",
        "$$\n",
        "\n",
        "Here, $N_h$ and $N_q$ are degrees of freedom, and $h_0$ and $q_0$ are scaling factors.  These can be estimated in a [data-driven way](https://doi.org/10.1002/cem.2506), i.e., estimated from the training set rather than fixed based on the size of the set, hence the name \"DD-SIMCA.\"  Methods of estimation are discussed in Ref. [2].  The final decision rule for a class is $c < c_{\\rm crit}$ with $c_{\\rm crit} = \\chi^{-2}(1-\\alpha, N_h+N_q)$.\n",
        "\n",
        "It is possible to use a combination of OD and SD in other ways.  See [\"Class-modelling in food analytical chemistry: Development, sampling, optimisation and validation issues – A tutorial,\" Oliveri Analytical Chimica Acta 982 (2017)](https://www.sciencedirect.com/science/article/pii/S0003267017306050) and [\"Robust classification in high dimensions based on the SIMCA Method,\" Vanden Branden, Hubert, Chemometrics and Intelligent Laboratory Systems 79 (2005) 10-21](https://doi.org/10.1016/j.chemolab.2005.03.002). Pomerantsev discusses advantages and disadvantages of 5 different metrics involving SD and OD in Ref. [1]. They conclude the above approach is the best."
      ]
    },
    {
      "cell_type": "code",
      "execution_count": 16,
      "id": "ffaf0876",
      "metadata": {
        "ExecuteTime": {
          "end_time": "2023-09-26T15:09:20.558717Z",
          "start_time": "2023-09-26T15:09:20.499110Z"
        },
        "id": "ffaf0876"
      },
      "outputs": [],
      "source": [
        "class DD_SIMCA:\n",
        "    def __init__(self, n_components, alpha=0.05):\n",
        "        self.__n_components = n_components\n",
        "        self.__alpha = alpha\n",
        "\n",
        "    def fit(self, X_train):\n",
        "        # 1. Autoscale X\n",
        "        self.__ss = CorrectedScaler(with_mean=True, with_std=True)\n",
        "        self.__X_train = X_train.copy()\n",
        "\n",
        "        # 2. Perform PCA on standardized coordinates\n",
        "        self.__pca = PCA(n_components=self.__n_components)\n",
        "        self.__pca.fit(self.__ss.fit_transform(self.__X_train))\n",
        "\n",
        "        # 3. Compute critical distance\n",
        "        self.__J = X_train.shape[1]\n",
        "\n",
        "        # Compute OD (q) and SD (h)\n",
        "        h_vals, q_vals = self.h_q(self.__X_train)\n",
        "\n",
        "        # These are not robust estimates - pychemauth provides a more robust implementation\n",
        "        # but for this example we will use a simple estimate.\n",
        "        def dof(u0, u_vals):\n",
        "            return int(np.max([round(2.0 * u0**2 / np.std(u_vals, ddof=1) ** 2, 0), 1]))\n",
        "        self.__h0, self.__q0 = np.mean(h_vals), np.mean(q_vals)\n",
        "        self.__Nh, self.__Nq = dof(self.__h0, h_vals), dof(self.__q0, q_vals)\n",
        "\n",
        "        self.__c_crit = scipy.stats.chi2.ppf(1.0 - self.__alpha, self.__Nh + self.__Nq)\n",
        "\n",
        "    def h_q(self, X):\n",
        "        X_std = self.__ss.transform(X)\n",
        "        T = self.__pca.transform(X_std)\n",
        "        X_pred = self.__pca.inverse_transform(T)\n",
        "\n",
        "        # OD - this is to produce identical results to mdatools (https://mdatools.com/docs/)\n",
        "        q_vals = np.sum((X_std - X_pred)**2, axis=1)\n",
        "\n",
        "        # SD\n",
        "        h_vals = np.sum(T**2/self.__pca.explained_variance_, axis=1)\n",
        "\n",
        "        return h_vals, q_vals\n",
        "\n",
        "    def distance(self, X):\n",
        "        h, q = self.h_q(X)\n",
        "\n",
        "        return self.__Nh*h/self.__h0 + self.__Nq*q/self.__q0\n",
        "\n",
        "    def predict(self, X):\n",
        "        X = np.array(X)\n",
        "        if len(X.shape) == 1:\n",
        "            X = X.reshape(-1,1)\n",
        "        assert(X.shape[1] == self.__J)\n",
        "\n",
        "        # If c < c_crit, it belongs to the class\n",
        "        return self.distance(X) < self.__c_crit"
      ]
    },
    {
      "cell_type": "code",
      "execution_count": 17,
      "id": "809ce0e4",
      "metadata": {
        "ExecuteTime": {
          "end_time": "2023-09-26T15:09:20.595464Z",
          "start_time": "2023-09-26T15:09:20.561829Z"
        },
        "id": "809ce0e4"
      },
      "outputs": [],
      "source": [
        "X, Y = sklearn.datasets.make_blobs(\n",
        "    n_samples=100,\n",
        "    n_features=5,\n",
        "    centers=3,\n",
        "    cluster_std=3,\n",
        "    shuffle=True,\n",
        "    random_state=0\n",
        ")\n",
        "\n",
        "X_train, y_train = X[:80], Y[:80]\n",
        "X_test, y_test = X[80:], Y[80:]"
      ]
    },
    {
      "cell_type": "code",
      "execution_count": 18,
      "id": "510df2e7",
      "metadata": {
        "ExecuteTime": {
          "end_time": "2023-09-26T15:09:20.631976Z",
          "start_time": "2023-09-26T15:09:20.598130Z"
        },
        "id": "510df2e7"
      },
      "outputs": [],
      "source": [
        "# We need a new SIMCA object for EACH training class - each one indicates whether we predict a point\n",
        "# belongs to that class or not.\n",
        "manual_ddsimca_model = {}\n",
        "for i in range(3):\n",
        "    manual_ddsimca_model[i] = DD_SIMCA(n_components=1, alpha=0.05)\n",
        "    manual_ddsimca_model[i].fit(X_train[y_train == i])"
      ]
    },
    {
      "cell_type": "code",
      "execution_count": 19,
      "id": "3c8c6707",
      "metadata": {
        "ExecuteTime": {
          "end_time": "2023-09-26T15:09:20.700068Z",
          "start_time": "2023-09-26T15:09:20.634298Z"
        },
        "id": "3c8c6707",
        "outputId": "03457f9b-2c48-4d78-a181-5a5b2d08a773",
        "colab": {
          "base_uri": "https://localhost:8080/"
        }
      },
      "outputs": [
        {
          "output_type": "execute_result",
          "data": {
            "text/plain": [
              "array([ True,  True,  True,  True,  True,  True,  True,  True,  True,\n",
              "        True,  True,  True,  True,  True,  True,  True,  True,  True,\n",
              "        True,  True])"
            ]
          },
          "metadata": {},
          "execution_count": 19
        }
      ],
      "source": [
        "manual_ddsimca_model[0].predict(X_test) == (y_test == 0)"
      ]
    },
    {
      "cell_type": "code",
      "execution_count": 20,
      "id": "51e81025",
      "metadata": {
        "ExecuteTime": {
          "end_time": "2023-09-26T15:09:20.762383Z",
          "start_time": "2023-09-26T15:09:20.703148Z"
        },
        "id": "51e81025"
      },
      "outputs": [],
      "source": [
        "# PyChemAuth provides a more versatile class for this.\n",
        "pychemauth_ddsimca_model = {}\n",
        "for i in range(3):\n",
        "    pychemauth_ddsimca_model[i] = DDSIMCA_Model(n_components=1, alpha=0.05, gamma=0.01, scale_x=True, robust=None)\n",
        "    pychemauth_ddsimca_model[i].fit(X_train[y_train == i])"
      ]
    },
    {
      "cell_type": "code",
      "execution_count": 21,
      "id": "3ceae6fd",
      "metadata": {
        "ExecuteTime": {
          "end_time": "2023-09-26T15:09:20.832265Z",
          "start_time": "2023-09-26T15:09:20.765166Z"
        },
        "id": "3ceae6fd"
      },
      "outputs": [],
      "source": [
        "h, q = pychemauth_ddsimca_model[0]._h_q(X_test)"
      ]
    },
    {
      "cell_type": "code",
      "execution_count": 22,
      "id": "c792be21",
      "metadata": {
        "ExecuteTime": {
          "end_time": "2023-09-26T15:09:20.901795Z",
          "start_time": "2023-09-26T15:09:20.835401Z"
        },
        "id": "c792be21",
        "outputId": "d209bea5-dd12-4720-fa93-ddae510ae9fe",
        "colab": {
          "base_uri": "https://localhost:8080/"
        }
      },
      "outputs": [
        {
          "output_type": "execute_result",
          "data": {
            "text/plain": [
              "array([9.34338240e-01, 9.25700723e-02, 5.99724281e-02, 2.14459274e-03,\n",
              "       8.34333673e-03, 5.56935710e-01, 1.07262602e+00, 9.48696596e-05,\n",
              "       7.65728807e+00, 1.14343225e+01, 2.63242230e-01, 1.93758287e-01,\n",
              "       1.26444253e+00, 2.70389654e+00, 3.55099973e+00, 1.43971452e-01,\n",
              "       2.34807602e+00, 1.06274050e+00, 8.87320413e-01, 5.78675350e+00])"
            ]
          },
          "metadata": {},
          "execution_count": 22
        }
      ],
      "source": [
        "h"
      ]
    },
    {
      "cell_type": "code",
      "execution_count": 23,
      "id": "fa1fe85d",
      "metadata": {
        "ExecuteTime": {
          "end_time": "2023-09-26T15:09:20.995321Z",
          "start_time": "2023-09-26T15:09:20.904837Z"
        },
        "id": "fa1fe85d",
        "outputId": "1e8def63-ab2b-485a-c747-866095f343d0",
        "colab": {
          "base_uri": "https://localhost:8080/"
        }
      },
      "outputs": [
        {
          "output_type": "execute_result",
          "data": {
            "text/plain": [
              "array([ 3.92193144,  5.87194037, 13.79354282,  4.11393526,  0.16968608,\n",
              "        1.55054305, 11.28924556, 20.42144643, 20.48369521, 21.06689766,\n",
              "        3.48130805, 22.9100697 ,  3.70056302, 11.72848316,  0.56888214,\n",
              "        4.52800812, 19.73879826, 14.08465199, 16.00852886, 31.45140373])"
            ]
          },
          "metadata": {},
          "execution_count": 23
        }
      ],
      "source": [
        "q"
      ]
    },
    {
      "cell_type": "code",
      "execution_count": 24,
      "id": "e11e9dd6",
      "metadata": {
        "ExecuteTime": {
          "end_time": "2023-09-26T15:09:21.086213Z",
          "start_time": "2023-09-26T15:09:20.998413Z"
        },
        "id": "e11e9dd6"
      },
      "outputs": [],
      "source": [
        "h_, q_ = manual_ddsimca_model[0].h_q(X_test)\n",
        "assert np.allclose(\n",
        "    h_ / manual_ddsimca_model[0]._DD_SIMCA__h0,\n",
        "    h / pychemauth_ddsimca_model[0]._DDSIMCA_Model__h0_\n",
        ")\n",
        "assert np.allclose(\n",
        "    q_ / manual_ddsimca_model[0]._DD_SIMCA__q0,\n",
        "    q / pychemauth_ddsimca_model[0]._DDSIMCA_Model__q0_\n",
        ")"
      ]
    },
    {
      "cell_type": "code",
      "execution_count": 25,
      "id": "524e8f1a",
      "metadata": {
        "ExecuteTime": {
          "end_time": "2023-09-26T15:09:21.671092Z",
          "start_time": "2023-09-26T15:09:21.089412Z"
        },
        "id": "524e8f1a",
        "outputId": "49177410-241e-4480-85a2-35d7d4ffabce",
        "colab": {
          "base_uri": "https://localhost:8080/",
          "height": 453
        }
      },
      "outputs": [
        {
          "output_type": "display_data",
          "data": {
            "text/plain": [
              "<Figure size 640x480 with 1 Axes>"
            ],
            "image/png": "[encoded data removed]"
          },
          "metadata": {}
        }
      ],
      "source": [
        "# pychemauth has convenient visualization tools to see which points are considered consistent with the class (inside\n",
        "# green boundary) and which are not.\n",
        "\n",
        "# Here, all 9 examples of class 0 are considered authentic, while all other classes are rejected.\n",
        "_ = pychemauth_ddsimca_model[0].visualize(X_test, y_test)"
      ]
    },
    {
      "cell_type": "code",
      "execution_count": 26,
      "id": "8fadf0e2",
      "metadata": {
        "ExecuteTime": {
          "end_time": "2023-09-26T15:09:21.987527Z",
          "start_time": "2023-09-26T15:09:21.672808Z"
        },
        "id": "8fadf0e2",
        "outputId": "b5652fee-3ea7-4924-aaa6-f8bffdcaaca6",
        "colab": {
          "base_uri": "https://localhost:8080/",
          "height": 453
        }
      },
      "outputs": [
        {
          "output_type": "display_data",
          "data": {
            "text/plain": [
              "<Figure size 640x480 with 1 Axes>"
            ],
            "image/png": "[encoded data removed]"
          },
          "metadata": {}
        }
      ],
      "source": [
        "# Here, 1 example of class 0 and 1 example of class 2 are considered (incorrectly) to be consistent with class 1,\n",
        "# though all 5 examples of class 1 are properly determined to be authentic.\n",
        "_ = pychemauth_ddsimca_model[1].visualize(X_test, y_test)"
      ]
    },
    {
      "cell_type": "code",
      "execution_count": 27,
      "id": "247d2c78",
      "metadata": {
        "ExecuteTime": {
          "end_time": "2023-09-26T15:09:22.283048Z",
          "start_time": "2023-09-26T15:09:21.989207Z"
        },
        "id": "247d2c78",
        "outputId": "4a73ad6c-ca32-4075-da0b-8b3a540162c8",
        "colab": {
          "base_uri": "https://localhost:8080/",
          "height": 453
        }
      },
      "outputs": [
        {
          "output_type": "display_data",
          "data": {
            "text/plain": [
              "<Figure size 640x480 with 1 Axes>"
            ],
            "image/png": "[encoded data removed]"
          },
          "metadata": {}
        }
      ],
      "source": [
        "# Again, 1 example from the other 2 classes are incorrectly deemed authentic examples of class 2, and 2 authentic examples\n",
        "# of class 2 are (incorrectly) rejected.\n",
        "_ = pychemauth_ddsimca_model[2].visualize(X_test, y_test)"
      ]
    }
  ],
  "metadata": {
    "kernelspec": {
      "display_name": "Python 3 (ipykernel)",
      "language": "python",
      "name": "python3"
    },
    "language_info": {
      "codemirror_mode": {
        "name": "ipython",
        "version": 3
      },
      "file_extension": ".py",
      "mimetype": "text/x-python",
      "name": "python",
      "nbconvert_exporter": "python",
      "pygments_lexer": "ipython3",
      "version": "3.11.4"
    },
    "colab": {
      "provenance": []
    }
  },
  "nbformat": 4,
  "nbformat_minor": 5
}
